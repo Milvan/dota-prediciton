{
 "cells": [
  {
   "cell_type": "markdown",
   "metadata": {
    "deletable": true,
    "editable": true
   },
   "source": [
    "# Import timeframe data"
   ]
  },
  {
   "cell_type": "code",
   "execution_count": 1,
   "metadata": {
    "collapsed": true,
    "deletable": true,
    "editable": true
   },
   "outputs": [],
   "source": [
    "import numpy as np\n"
   ]
  },
  {
   "cell_type": "markdown",
   "metadata": {
    "deletable": true,
    "editable": true
   },
   "source": [
    "# Import data"
   ]
  },
  {
   "cell_type": "code",
   "execution_count": 2,
   "metadata": {
    "collapsed": false,
    "deletable": true,
    "editable": true
   },
   "outputs": [
    {
     "name": "stdout",
     "output_type": "stream",
     "text": [
      "(49996, 6, 704)\n"
     ]
    }
   ],
   "source": [
    "games = np.load('/tmp/game_data.npy')\n",
    "print (games.shape)"
   ]
  },
  {
   "cell_type": "markdown",
   "metadata": {
    "deletable": true,
    "editable": true
   },
   "source": [
    "# Look at data"
   ]
  },
  {
   "cell_type": "code",
   "execution_count": 3,
   "metadata": {
    "collapsed": false,
    "deletable": true,
    "editable": true
   },
   "outputs": [],
   "source": [
    "#print(games[1][4])"
   ]
  },
  {
   "cell_type": "code",
   "execution_count": 4,
   "metadata": {
    "collapsed": false,
    "deletable": true,
    "editable": true
   },
   "outputs": [
    {
     "name": "stdout",
     "output_type": "stream",
     "text": [
      "(49996, 2)\n"
     ]
    }
   ],
   "source": [
    "labels = np.load('/tmp/game_labels.npy')\n",
    "print (labels.shape)"
   ]
  },
  {
   "cell_type": "markdown",
   "metadata": {
    "deletable": true,
    "editable": true
   },
   "source": [
    "# Separate train and test data"
   ]
  },
  {
   "cell_type": "code",
   "execution_count": 5,
   "metadata": {
    "collapsed": false,
    "deletable": true,
    "editable": true
   },
   "outputs": [
    {
     "name": "stdout",
     "output_type": "stream",
     "text": [
      "(49996, 6, 704)\n",
      "(49996, 6, 704)\n",
      "(35996, 6, 704)\n"
     ]
    }
   ],
   "source": [
    "\n",
    "#labels_binary_length_corrected = labels.reshape((300000, 2))\n",
    "labels_binary_length_corrected = labels\n",
    "\n",
    "number_of_features_to_use = games.shape[2]\n",
    "\n",
    "data = np.zeros((games.shape[0],games.shape[1], number_of_features_to_use))\n",
    "for i in range(games.shape[0]):\n",
    "    for j in range(games.shape[1]):\n",
    "        data[i, j] = games[i,j][:number_of_features_to_use]\n",
    "print (data.shape)\n",
    "\n",
    "\n",
    "val_split = int(len(data) * 0.9)\n",
    "train_split = int(val_split * 0.8)\n",
    "print(data.shape)\n",
    "x_train = data[:train_split,:]\n",
    "y_train = labels_binary_length_corrected[:train_split,:]\n",
    "x_val = data[train_split:val_split,:]\n",
    "y_val = labels_binary_length_corrected[train_split:val_split,:]\n",
    "x_test = data[val_split:,:]\n",
    "y_test = labels_binary_length_corrected[val_split:,:]\n",
    "\n",
    "#x_train = np.reshape(x_train, x_train.shape + (1,))\n",
    "#x_test = np.reshape(x_test, x_test.shape + (1,))\n",
    "\n",
    "print(x_train.shape)"
   ]
  },
  {
   "cell_type": "code",
   "execution_count": null,
   "metadata": {
    "collapsed": false,
    "deletable": true,
    "editable": true
   },
   "outputs": [],
   "source": []
  },
  {
   "cell_type": "code",
   "execution_count": 6,
   "metadata": {
    "collapsed": false,
    "deletable": true,
    "editable": true
   },
   "outputs": [
    {
     "name": "stderr",
     "output_type": "stream",
     "text": [
      "Using TensorFlow backend.\n"
     ]
    }
   ],
   "source": [
    "from keras.layers import Dense, Activation\n",
    "from keras.models import Sequential\n",
    "from keras.models import Sequential\n",
    "from keras.layers import Dense\n",
    "from keras.layers import Dropout\n",
    "from keras.layers import LSTM\n",
    "from keras.regularizers import l2\n",
    "import keras\n",
    "from sklearn.metrics import roc_auc_score\n",
    "\n",
    "\n",
    "# batch eta lambda units\n",
    "\n",
    "batch_size = 512\n",
    "#print(\"batch size: \", batch_size)\n",
    "lstm_size = 69\n",
    "#print(\"lstm size: \", lstm_size)\n",
    "regu = 0.08131124697150183\n",
    "#print(\"regularization: \", regu)\n",
    "eta = 0.0013492270319962274\n",
    "#print(\"eta: \", eta)\n",
    "dense_size = 567\n",
    "\n",
    "model = Sequential()\n",
    "\n",
    "model.add(LSTM(\n",
    "    input_shape=(None, x_train.shape[2]),\n",
    "    units=lstm_size,\n",
    "    return_sequences=False,\n",
    "    kernel_regularizer= l2(regu))\n",
    "    )\n",
    "\n",
    "\n",
    "\n",
    "#print(\"dense size: \", dense_size)\n",
    "model.add(Dense(\n",
    "    units=dense_size))\n",
    "model.add(Activation('relu'))\n",
    "\n",
    "model.add(Dense(\n",
    "    units=2))\n",
    "model.add(Activation('softmax'))\n",
    "#model.compile(loss='mse', optimizer='rmsprop')\n",
    "model.compile(loss='categorical_crossentropy', optimizer=keras.optimizers.RMSprop(lr=eta), metrics=[keras.metrics.mae, keras.metrics.categorical_accuracy])\n",
    "\n"
   ]
  },
  {
   "cell_type": "code",
   "execution_count": 7,
   "metadata": {
    "collapsed": false,
    "deletable": true,
    "editable": true
   },
   "outputs": [
    {
     "name": "stdout",
     "output_type": "stream",
     "text": [
      "Train on 35996 samples, validate on 9000 samples\n",
      "Epoch 1/100\n",
      "2s - loss: 5.8911 - mean_absolute_error: 0.4874 - categorical_accuracy: 0.5648 - val_loss: 0.6909 - val_mean_absolute_error: 0.4665 - val_categorical_accuracy: 0.5890\n",
      "Epoch 2/100\n",
      "1s - loss: 0.6899 - mean_absolute_error: 0.4742 - categorical_accuracy: 0.5911 - val_loss: 0.7008 - val_mean_absolute_error: 0.4658 - val_categorical_accuracy: 0.5679\n",
      "Epoch 3/100\n",
      "1s - loss: 0.6805 - mean_absolute_error: 0.4649 - categorical_accuracy: 0.6063 - val_loss: 0.6695 - val_mean_absolute_error: 0.4664 - val_categorical_accuracy: 0.6450\n",
      "Epoch 4/100\n",
      "1s - loss: 0.6743 - mean_absolute_error: 0.4592 - categorical_accuracy: 0.6168 - val_loss: 0.6534 - val_mean_absolute_error: 0.4486 - val_categorical_accuracy: 0.6544\n",
      "Epoch 5/100\n",
      "1s - loss: 0.6721 - mean_absolute_error: 0.4567 - categorical_accuracy: 0.6163 - val_loss: 0.6608 - val_mean_absolute_error: 0.4602 - val_categorical_accuracy: 0.6423\n",
      "Epoch 6/100\n",
      "1s - loss: 0.6671 - mean_absolute_error: 0.4541 - categorical_accuracy: 0.6239 - val_loss: 0.6523 - val_mean_absolute_error: 0.4446 - val_categorical_accuracy: 0.6459\n",
      "Epoch 7/100\n",
      "1s - loss: 0.6631 - mean_absolute_error: 0.4505 - categorical_accuracy: 0.6291 - val_loss: 0.6714 - val_mean_absolute_error: 0.4569 - val_categorical_accuracy: 0.6191\n",
      "Epoch 8/100\n",
      "1s - loss: 0.6624 - mean_absolute_error: 0.4503 - categorical_accuracy: 0.6273 - val_loss: 0.6616 - val_mean_absolute_error: 0.4547 - val_categorical_accuracy: 0.6302\n",
      "Epoch 9/100\n",
      "1s - loss: 0.6589 - mean_absolute_error: 0.4480 - categorical_accuracy: 0.6339 - val_loss: 0.6556 - val_mean_absolute_error: 0.4452 - val_categorical_accuracy: 0.6390\n",
      "Epoch 10/100\n",
      "1s - loss: 0.6569 - mean_absolute_error: 0.4465 - categorical_accuracy: 0.6336 - val_loss: 0.6456 - val_mean_absolute_error: 0.4404 - val_categorical_accuracy: 0.6523\n",
      "Epoch 11/100\n",
      "1s - loss: 0.6562 - mean_absolute_error: 0.4460 - categorical_accuracy: 0.6338 - val_loss: 0.6680 - val_mean_absolute_error: 0.4458 - val_categorical_accuracy: 0.6224\n",
      "Epoch 12/100\n",
      "1s - loss: 0.6548 - mean_absolute_error: 0.4451 - categorical_accuracy: 0.6341 - val_loss: 0.6430 - val_mean_absolute_error: 0.4384 - val_categorical_accuracy: 0.6577\n",
      "Epoch 13/100\n",
      "1s - loss: 0.6522 - mean_absolute_error: 0.4431 - categorical_accuracy: 0.6378 - val_loss: 0.6617 - val_mean_absolute_error: 0.4481 - val_categorical_accuracy: 0.6363\n",
      "Epoch 14/100\n",
      "1s - loss: 0.6549 - mean_absolute_error: 0.4445 - categorical_accuracy: 0.6366 - val_loss: 0.6451 - val_mean_absolute_error: 0.4357 - val_categorical_accuracy: 0.6533\n",
      "Epoch 15/100\n",
      "1s - loss: 0.6514 - mean_absolute_error: 0.4421 - categorical_accuracy: 0.6413 - val_loss: 0.6972 - val_mean_absolute_error: 0.4291 - val_categorical_accuracy: 0.6154\n",
      "Epoch 16/100\n",
      "1s - loss: 0.6517 - mean_absolute_error: 0.4415 - categorical_accuracy: 0.6400 - val_loss: 0.6607 - val_mean_absolute_error: 0.4545 - val_categorical_accuracy: 0.6330\n",
      "Epoch 17/100\n",
      "1s - loss: 0.6534 - mean_absolute_error: 0.4433 - categorical_accuracy: 0.6373 - val_loss: 0.6592 - val_mean_absolute_error: 0.4540 - val_categorical_accuracy: 0.6427\n",
      "Epoch 18/100\n",
      "1s - loss: 0.6512 - mean_absolute_error: 0.4425 - categorical_accuracy: 0.6388 - val_loss: 0.6439 - val_mean_absolute_error: 0.4367 - val_categorical_accuracy: 0.6574\n",
      "Epoch 19/100\n",
      "1s - loss: 0.6506 - mean_absolute_error: 0.4413 - categorical_accuracy: 0.6411 - val_loss: 0.7215 - val_mean_absolute_error: 0.4429 - val_categorical_accuracy: 0.5733\n",
      "Epoch 20/100\n",
      "1s - loss: 0.6524 - mean_absolute_error: 0.4423 - categorical_accuracy: 0.6408 - val_loss: 0.6700 - val_mean_absolute_error: 0.4494 - val_categorical_accuracy: 0.6158\n",
      "Epoch 21/100\n",
      "1s - loss: 0.6509 - mean_absolute_error: 0.4415 - categorical_accuracy: 0.6407 - val_loss: 0.6591 - val_mean_absolute_error: 0.4341 - val_categorical_accuracy: 0.6386\n",
      "Epoch 22/100\n",
      "1s - loss: 0.6501 - mean_absolute_error: 0.4410 - categorical_accuracy: 0.6404 - val_loss: 0.6604 - val_mean_absolute_error: 0.4443 - val_categorical_accuracy: 0.6340\n",
      "Epoch 23/100\n",
      "1s - loss: 0.6511 - mean_absolute_error: 0.4413 - categorical_accuracy: 0.6404 - val_loss: 0.6687 - val_mean_absolute_error: 0.4339 - val_categorical_accuracy: 0.6288\n",
      "Epoch 24/100\n",
      "1s - loss: 0.6516 - mean_absolute_error: 0.4414 - categorical_accuracy: 0.6391 - val_loss: 0.6476 - val_mean_absolute_error: 0.4391 - val_categorical_accuracy: 0.6518\n",
      "Epoch 25/100\n",
      "1s - loss: 0.6504 - mean_absolute_error: 0.4413 - categorical_accuracy: 0.6423 - val_loss: 0.6648 - val_mean_absolute_error: 0.4447 - val_categorical_accuracy: 0.6300\n",
      "Epoch 26/100\n",
      "1s - loss: 0.6501 - mean_absolute_error: 0.4402 - categorical_accuracy: 0.6427 - val_loss: 0.6815 - val_mean_absolute_error: 0.4531 - val_categorical_accuracy: 0.6158\n",
      "Epoch 27/100\n",
      "1s - loss: 0.6497 - mean_absolute_error: 0.4406 - categorical_accuracy: 0.6396 - val_loss: 0.6410 - val_mean_absolute_error: 0.4398 - val_categorical_accuracy: 0.6608\n",
      "Epoch 28/100\n",
      "1s - loss: 0.6492 - mean_absolute_error: 0.4404 - categorical_accuracy: 0.6407 - val_loss: 0.6432 - val_mean_absolute_error: 0.4373 - val_categorical_accuracy: 0.6547\n",
      "Epoch 29/100\n",
      "1s - loss: 0.6499 - mean_absolute_error: 0.4403 - categorical_accuracy: 0.6409 - val_loss: 0.6455 - val_mean_absolute_error: 0.4460 - val_categorical_accuracy: 0.6532\n",
      "Epoch 30/100\n",
      "1s - loss: 0.6506 - mean_absolute_error: 0.4408 - categorical_accuracy: 0.6414 - val_loss: 0.6489 - val_mean_absolute_error: 0.4432 - val_categorical_accuracy: 0.6456\n",
      "Epoch 31/100\n",
      "1s - loss: 0.6481 - mean_absolute_error: 0.4392 - categorical_accuracy: 0.6443 - val_loss: 0.6706 - val_mean_absolute_error: 0.4479 - val_categorical_accuracy: 0.6161\n",
      "Epoch 32/100\n",
      "1s - loss: 0.6504 - mean_absolute_error: 0.4404 - categorical_accuracy: 0.6417 - val_loss: 0.6458 - val_mean_absolute_error: 0.4413 - val_categorical_accuracy: 0.6480\n",
      "Epoch 33/100\n",
      "1s - loss: 0.6484 - mean_absolute_error: 0.4390 - categorical_accuracy: 0.6459 - val_loss: 0.6453 - val_mean_absolute_error: 0.4428 - val_categorical_accuracy: 0.6497\n",
      "Epoch 34/100\n",
      "1s - loss: 0.6494 - mean_absolute_error: 0.4406 - categorical_accuracy: 0.6431 - val_loss: 0.6476 - val_mean_absolute_error: 0.4384 - val_categorical_accuracy: 0.6473\n",
      "Epoch 35/100\n",
      "1s - loss: 0.6489 - mean_absolute_error: 0.4403 - categorical_accuracy: 0.6403 - val_loss: 0.6664 - val_mean_absolute_error: 0.4301 - val_categorical_accuracy: 0.6346\n",
      "Epoch 36/100\n",
      "1s - loss: 0.6498 - mean_absolute_error: 0.4400 - categorical_accuracy: 0.6413 - val_loss: 0.6415 - val_mean_absolute_error: 0.4386 - val_categorical_accuracy: 0.6569\n",
      "Epoch 37/100\n",
      "1s - loss: 0.6494 - mean_absolute_error: 0.4405 - categorical_accuracy: 0.6415 - val_loss: 0.6466 - val_mean_absolute_error: 0.4374 - val_categorical_accuracy: 0.6507\n",
      "Epoch 38/100\n",
      "1s - loss: 0.6486 - mean_absolute_error: 0.4395 - categorical_accuracy: 0.6426 - val_loss: 0.6422 - val_mean_absolute_error: 0.4379 - val_categorical_accuracy: 0.6538\n",
      "Epoch 39/100\n",
      "1s - loss: 0.6492 - mean_absolute_error: 0.4402 - categorical_accuracy: 0.6427 - val_loss: 0.6456 - val_mean_absolute_error: 0.4343 - val_categorical_accuracy: 0.6527\n",
      "Epoch 40/100\n",
      "1s - loss: 0.6488 - mean_absolute_error: 0.4391 - categorical_accuracy: 0.6428 - val_loss: 0.6574 - val_mean_absolute_error: 0.4488 - val_categorical_accuracy: 0.6377\n",
      "Epoch 41/100\n",
      "1s - loss: 0.6486 - mean_absolute_error: 0.4398 - categorical_accuracy: 0.6442 - val_loss: 0.6773 - val_mean_absolute_error: 0.4530 - val_categorical_accuracy: 0.6059\n",
      "Epoch 42/100\n",
      "1s - loss: 0.6486 - mean_absolute_error: 0.4399 - categorical_accuracy: 0.6412 - val_loss: 0.6673 - val_mean_absolute_error: 0.4360 - val_categorical_accuracy: 0.6272\n",
      "Epoch 43/100\n",
      "1s - loss: 0.6492 - mean_absolute_error: 0.4400 - categorical_accuracy: 0.6428 - val_loss: 0.6520 - val_mean_absolute_error: 0.4336 - val_categorical_accuracy: 0.6433\n",
      "Epoch 44/100\n",
      "1s - loss: 0.6501 - mean_absolute_error: 0.4401 - categorical_accuracy: 0.6397 - val_loss: 0.6435 - val_mean_absolute_error: 0.4406 - val_categorical_accuracy: 0.6540\n",
      "Epoch 45/100\n",
      "1s - loss: 0.6471 - mean_absolute_error: 0.4387 - categorical_accuracy: 0.6437 - val_loss: 0.6684 - val_mean_absolute_error: 0.4507 - val_categorical_accuracy: 0.6176\n",
      "Epoch 46/100\n",
      "1s - loss: 0.6493 - mean_absolute_error: 0.4405 - categorical_accuracy: 0.6411 - val_loss: 0.6557 - val_mean_absolute_error: 0.4407 - val_categorical_accuracy: 0.6378\n",
      "Epoch 47/100\n",
      "1s - loss: 0.6464 - mean_absolute_error: 0.4378 - categorical_accuracy: 0.6445 - val_loss: 0.6446 - val_mean_absolute_error: 0.4454 - val_categorical_accuracy: 0.6554\n",
      "Epoch 48/100\n",
      "1s - loss: 0.6473 - mean_absolute_error: 0.4391 - categorical_accuracy: 0.6436 - val_loss: 0.6430 - val_mean_absolute_error: 0.4399 - val_categorical_accuracy: 0.6526\n",
      "Epoch 49/100\n",
      "1s - loss: 0.6491 - mean_absolute_error: 0.4400 - categorical_accuracy: 0.6391 - val_loss: 0.6491 - val_mean_absolute_error: 0.4439 - val_categorical_accuracy: 0.6510\n",
      "Epoch 50/100\n",
      "1s - loss: 0.6472 - mean_absolute_error: 0.4392 - categorical_accuracy: 0.6417 - val_loss: 0.6514 - val_mean_absolute_error: 0.4312 - val_categorical_accuracy: 0.6448\n",
      "Epoch 51/100\n",
      "1s - loss: 0.6474 - mean_absolute_error: 0.4391 - categorical_accuracy: 0.6428 - val_loss: 0.6655 - val_mean_absolute_error: 0.4422 - val_categorical_accuracy: 0.6231\n",
      "Epoch 52/100\n",
      "1s - loss: 0.6489 - mean_absolute_error: 0.4399 - categorical_accuracy: 0.6420 - val_loss: 0.6420 - val_mean_absolute_error: 0.4376 - val_categorical_accuracy: 0.6540\n",
      "Epoch 53/100\n",
      "1s - loss: 0.6479 - mean_absolute_error: 0.4401 - categorical_accuracy: 0.6424 - val_loss: 0.6481 - val_mean_absolute_error: 0.4356 - val_categorical_accuracy: 0.6472\n",
      "Epoch 54/100\n",
      "1s - loss: 0.6484 - mean_absolute_error: 0.4390 - categorical_accuracy: 0.6452 - val_loss: 0.6489 - val_mean_absolute_error: 0.4357 - val_categorical_accuracy: 0.6454\n",
      "Epoch 55/100\n",
      "1s - loss: 0.6492 - mean_absolute_error: 0.4403 - categorical_accuracy: 0.6417 - val_loss: 0.6411 - val_mean_absolute_error: 0.4388 - val_categorical_accuracy: 0.6552\n",
      "Epoch 56/100\n",
      "1s - loss: 0.6472 - mean_absolute_error: 0.4392 - categorical_accuracy: 0.6414 - val_loss: 0.6522 - val_mean_absolute_error: 0.4358 - val_categorical_accuracy: 0.6427\n",
      "Epoch 57/100\n",
      "1s - loss: 0.6475 - mean_absolute_error: 0.4394 - categorical_accuracy: 0.6442 - val_loss: 0.7054 - val_mean_absolute_error: 0.4357 - val_categorical_accuracy: 0.5978\n",
      "Epoch 58/100\n",
      "1s - loss: 0.6492 - mean_absolute_error: 0.4402 - categorical_accuracy: 0.6427 - val_loss: 0.6530 - val_mean_absolute_error: 0.4300 - val_categorical_accuracy: 0.6440\n",
      "Epoch 59/100\n",
      "1s - loss: 0.6481 - mean_absolute_error: 0.4395 - categorical_accuracy: 0.6430 - val_loss: 0.6442 - val_mean_absolute_error: 0.4308 - val_categorical_accuracy: 0.6510\n",
      "Epoch 60/100\n",
      "1s - loss: 0.6468 - mean_absolute_error: 0.4383 - categorical_accuracy: 0.6432 - val_loss: 0.6416 - val_mean_absolute_error: 0.4376 - val_categorical_accuracy: 0.6596\n",
      "Epoch 61/100\n",
      "1s - loss: 0.6476 - mean_absolute_error: 0.4394 - categorical_accuracy: 0.6437 - val_loss: 0.6520 - val_mean_absolute_error: 0.4354 - val_categorical_accuracy: 0.6397\n",
      "Epoch 62/100\n",
      "1s - loss: 0.6479 - mean_absolute_error: 0.4390 - categorical_accuracy: 0.6408 - val_loss: 0.6496 - val_mean_absolute_error: 0.4492 - val_categorical_accuracy: 0.6494\n",
      "Epoch 63/100\n",
      "1s - loss: 0.6488 - mean_absolute_error: 0.4400 - categorical_accuracy: 0.6423 - val_loss: 0.6499 - val_mean_absolute_error: 0.4330 - val_categorical_accuracy: 0.6466\n",
      "Epoch 64/100\n",
      "1s - loss: 0.6475 - mean_absolute_error: 0.4390 - categorical_accuracy: 0.6428 - val_loss: 0.6420 - val_mean_absolute_error: 0.4317 - val_categorical_accuracy: 0.6543\n",
      "Epoch 65/100\n",
      "1s - loss: 0.6470 - mean_absolute_error: 0.4387 - categorical_accuracy: 0.6439 - val_loss: 0.6434 - val_mean_absolute_error: 0.4292 - val_categorical_accuracy: 0.6592\n",
      "Epoch 66/100\n",
      "1s - loss: 0.6470 - mean_absolute_error: 0.4385 - categorical_accuracy: 0.6438 - val_loss: 0.6424 - val_mean_absolute_error: 0.4351 - val_categorical_accuracy: 0.6508\n",
      "Epoch 67/100\n",
      "1s - loss: 0.6462 - mean_absolute_error: 0.4378 - categorical_accuracy: 0.6460 - val_loss: 0.6444 - val_mean_absolute_error: 0.4428 - val_categorical_accuracy: 0.6543\n",
      "Epoch 68/100\n",
      "1s - loss: 0.6474 - mean_absolute_error: 0.4393 - categorical_accuracy: 0.6423 - val_loss: 0.6499 - val_mean_absolute_error: 0.4399 - val_categorical_accuracy: 0.6452\n",
      "Epoch 69/100\n",
      "1s - loss: 0.6476 - mean_absolute_error: 0.4390 - categorical_accuracy: 0.6438 - val_loss: 0.6410 - val_mean_absolute_error: 0.4367 - val_categorical_accuracy: 0.6556\n",
      "Epoch 70/100\n",
      "1s - loss: 0.6486 - mean_absolute_error: 0.4397 - categorical_accuracy: 0.6412 - val_loss: 0.6551 - val_mean_absolute_error: 0.4487 - val_categorical_accuracy: 0.6389\n",
      "Epoch 71/100\n",
      "1s - loss: 0.6468 - mean_absolute_error: 0.4390 - categorical_accuracy: 0.6438 - val_loss: 0.6523 - val_mean_absolute_error: 0.4469 - val_categorical_accuracy: 0.6428\n",
      "Epoch 72/100\n",
      "1s - loss: 0.6481 - mean_absolute_error: 0.4402 - categorical_accuracy: 0.6414 - val_loss: 0.6391 - val_mean_absolute_error: 0.4366 - val_categorical_accuracy: 0.6552\n",
      "Epoch 73/100\n",
      "1s - loss: 0.6474 - mean_absolute_error: 0.4388 - categorical_accuracy: 0.6446 - val_loss: 0.6493 - val_mean_absolute_error: 0.4380 - val_categorical_accuracy: 0.6441\n",
      "Epoch 74/100\n",
      "1s - loss: 0.6477 - mean_absolute_error: 0.4397 - categorical_accuracy: 0.6427 - val_loss: 0.6784 - val_mean_absolute_error: 0.4444 - val_categorical_accuracy: 0.6094\n",
      "Epoch 75/100\n",
      "1s - loss: 0.6470 - mean_absolute_error: 0.4385 - categorical_accuracy: 0.6438 - val_loss: 0.6425 - val_mean_absolute_error: 0.4426 - val_categorical_accuracy: 0.6554\n",
      "Epoch 76/100\n",
      "1s - loss: 0.6475 - mean_absolute_error: 0.4392 - categorical_accuracy: 0.6443 - val_loss: 0.6522 - val_mean_absolute_error: 0.4432 - val_categorical_accuracy: 0.6399\n",
      "Epoch 77/100\n",
      "1s - loss: 0.6461 - mean_absolute_error: 0.4385 - categorical_accuracy: 0.6457 - val_loss: 0.6417 - val_mean_absolute_error: 0.4319 - val_categorical_accuracy: 0.6560\n",
      "Epoch 78/100\n",
      "1s - loss: 0.6474 - mean_absolute_error: 0.4386 - categorical_accuracy: 0.6446 - val_loss: 0.6417 - val_mean_absolute_error: 0.4352 - val_categorical_accuracy: 0.6554\n",
      "Epoch 79/100\n",
      "1s - loss: 0.6473 - mean_absolute_error: 0.4390 - categorical_accuracy: 0.6438 - val_loss: 0.6406 - val_mean_absolute_error: 0.4351 - val_categorical_accuracy: 0.6586\n",
      "Epoch 80/100\n",
      "1s - loss: 0.6470 - mean_absolute_error: 0.4386 - categorical_accuracy: 0.6456 - val_loss: 0.6651 - val_mean_absolute_error: 0.4368 - val_categorical_accuracy: 0.6294\n",
      "Epoch 81/100\n",
      "1s - loss: 0.6476 - mean_absolute_error: 0.4390 - categorical_accuracy: 0.6430 - val_loss: 0.6406 - val_mean_absolute_error: 0.4315 - val_categorical_accuracy: 0.6508\n",
      "Epoch 82/100\n",
      "1s - loss: 0.6473 - mean_absolute_error: 0.4389 - categorical_accuracy: 0.6452 - val_loss: 0.6417 - val_mean_absolute_error: 0.4422 - val_categorical_accuracy: 0.6583\n",
      "Epoch 83/100\n",
      "1s - loss: 0.6467 - mean_absolute_error: 0.4389 - categorical_accuracy: 0.6441 - val_loss: 0.6465 - val_mean_absolute_error: 0.4441 - val_categorical_accuracy: 0.6547\n",
      "Epoch 84/100\n",
      "1s - loss: 0.6475 - mean_absolute_error: 0.4393 - categorical_accuracy: 0.6445 - val_loss: 0.6409 - val_mean_absolute_error: 0.4392 - val_categorical_accuracy: 0.6558\n",
      "Epoch 85/100\n",
      "1s - loss: 0.6474 - mean_absolute_error: 0.4394 - categorical_accuracy: 0.6436 - val_loss: 0.6631 - val_mean_absolute_error: 0.4329 - val_categorical_accuracy: 0.6342\n",
      "Epoch 86/100\n",
      "1s - loss: 0.6476 - mean_absolute_error: 0.4388 - categorical_accuracy: 0.6442 - val_loss: 0.6420 - val_mean_absolute_error: 0.4352 - val_categorical_accuracy: 0.6553\n",
      "Epoch 87/100\n",
      "1s - loss: 0.6466 - mean_absolute_error: 0.4381 - categorical_accuracy: 0.6450 - val_loss: 0.6403 - val_mean_absolute_error: 0.4397 - val_categorical_accuracy: 0.6567\n",
      "Epoch 88/100\n",
      "1s - loss: 0.6464 - mean_absolute_error: 0.4386 - categorical_accuracy: 0.6442 - val_loss: 0.6431 - val_mean_absolute_error: 0.4376 - val_categorical_accuracy: 0.6529\n",
      "Epoch 89/100\n",
      "1s - loss: 0.6485 - mean_absolute_error: 0.4397 - categorical_accuracy: 0.6430 - val_loss: 0.6498 - val_mean_absolute_error: 0.4356 - val_categorical_accuracy: 0.6400\n",
      "Epoch 90/100\n",
      "1s - loss: 0.6481 - mean_absolute_error: 0.4398 - categorical_accuracy: 0.6413 - val_loss: 0.6482 - val_mean_absolute_error: 0.4315 - val_categorical_accuracy: 0.6463\n",
      "Epoch 91/100\n",
      "1s - loss: 0.6477 - mean_absolute_error: 0.4389 - categorical_accuracy: 0.6431 - val_loss: 0.6407 - val_mean_absolute_error: 0.4340 - val_categorical_accuracy: 0.6558\n",
      "Epoch 92/100\n",
      "1s - loss: 0.6469 - mean_absolute_error: 0.4382 - categorical_accuracy: 0.6425 - val_loss: 0.6517 - val_mean_absolute_error: 0.4461 - val_categorical_accuracy: 0.6456\n",
      "Epoch 93/100\n",
      "1s - loss: 0.6474 - mean_absolute_error: 0.4392 - categorical_accuracy: 0.6450 - val_loss: 0.6705 - val_mean_absolute_error: 0.4376 - val_categorical_accuracy: 0.6239\n",
      "Epoch 94/100\n",
      "1s - loss: 0.6473 - mean_absolute_error: 0.4395 - categorical_accuracy: 0.6429 - val_loss: 0.6449 - val_mean_absolute_error: 0.4419 - val_categorical_accuracy: 0.6491\n",
      "Epoch 95/100\n",
      "1s - loss: 0.6471 - mean_absolute_error: 0.4392 - categorical_accuracy: 0.6462 - val_loss: 0.6422 - val_mean_absolute_error: 0.4344 - val_categorical_accuracy: 0.6523\n",
      "Epoch 96/100\n",
      "1s - loss: 0.6477 - mean_absolute_error: 0.4392 - categorical_accuracy: 0.6428 - val_loss: 0.6518 - val_mean_absolute_error: 0.4389 - val_categorical_accuracy: 0.6426\n",
      "Epoch 97/100\n",
      "1s - loss: 0.6481 - mean_absolute_error: 0.4398 - categorical_accuracy: 0.6426 - val_loss: 0.6424 - val_mean_absolute_error: 0.4351 - val_categorical_accuracy: 0.6527\n",
      "Epoch 98/100\n",
      "1s - loss: 0.6465 - mean_absolute_error: 0.4383 - categorical_accuracy: 0.6457 - val_loss: 0.6405 - val_mean_absolute_error: 0.4342 - val_categorical_accuracy: 0.6557\n",
      "Epoch 99/100\n",
      "1s - loss: 0.6472 - mean_absolute_error: 0.4388 - categorical_accuracy: 0.6446 - val_loss: 0.6808 - val_mean_absolute_error: 0.4382 - val_categorical_accuracy: 0.6086\n",
      "Epoch 100/100\n",
      "1s - loss: 0.6472 - mean_absolute_error: 0.4387 - categorical_accuracy: 0.6439 - val_loss: 0.6582 - val_mean_absolute_error: 0.4356 - val_categorical_accuracy: 0.6388\n"
     ]
    }
   ],
   "source": [
    "model_checkpoint = keras.callbacks.ModelCheckpoint('/tmp/best_weights', monitor='val_categorical_accuracy', verbose=0, save_best_only=True, save_weights_only=False, mode='auto', period=1)\n",
    "history = model.fit(x_train, y_train, epochs=100, batch_size=batch_size, validation_split=0.0, validation_data=(x_val, y_val), verbose=2, callbacks = [model_checkpoint])\n",
    "\n"
   ]
  },
  {
   "cell_type": "code",
   "execution_count": 8,
   "metadata": {
    "collapsed": false,
    "deletable": true,
    "editable": true
   },
   "outputs": [],
   "source": [
    "\n",
    "model.load_weights('/tmp/best_weights')\n",
    "\n"
   ]
  },
  {
   "cell_type": "code",
   "execution_count": 9,
   "metadata": {
    "collapsed": false,
    "deletable": true,
    "editable": true
   },
   "outputs": [
    {
     "name": "stdout",
     "output_type": "stream",
     "text": [
      "[0.64096376048194037, 0.43979187247488233, 0.6607777777777778]\n"
     ]
    }
   ],
   "source": [
    "# Test loss and accuracy\n",
    "loss_and_metrics1 = model.evaluate(x_val, y_val, verbose=2)\n",
    "print(loss_and_metrics1)\n"
   ]
  },
  {
   "cell_type": "code",
   "execution_count": 10,
   "metadata": {
    "collapsed": false,
    "deletable": true,
    "editable": true
   },
   "outputs": [
    {
     "name": "stdout",
     "output_type": "stream",
     "text": [
      "[0.64096376048194037, 0.43979187247488233, 0.6607777777777778]\n"
     ]
    }
   ],
   "source": [
    "## Calculate AUC\n",
    "y_pred = model.predict_proba(x_val, verbose=0)\n",
    "score1 = roc_auc_score(y_val, y_pred)\n",
    "\n",
    "## Remove uncertain predictions\n",
    "ind1 = y_pred[:,0] > 0.6\n",
    "ind2 = y_pred[:,1] > 0.6\n",
    "ind = ind1 + ind2\n",
    "y_pred2 = y_pred[ind,:]\n",
    "y_val2 = y_val[ind,:]\n",
    "x_val2 = x_val[ind,:]\n",
    "#print(ind)\n",
    "#print(y_pred2.shape)\n",
    "#print(y_pred.shape)\n",
    "score2 = roc_auc_score(y_val2, y_pred2)\n",
    "#print(score2)\n",
    "\n",
    "loss_and_metrics2 = model.evaluate(x_val2, y_val2, verbose=2)\n",
    "print(loss_and_metrics1)\n",
    "\n"
   ]
  },
  {
   "cell_type": "code",
   "execution_count": null,
   "metadata": {
    "collapsed": true,
    "deletable": true,
    "editable": true
   },
   "outputs": [],
   "source": []
  },
  {
   "cell_type": "code",
   "execution_count": null,
   "metadata": {
    "collapsed": false,
    "deletable": true,
    "editable": true
   },
   "outputs": [],
   "source": []
  },
  {
   "cell_type": "code",
   "execution_count": 11,
   "metadata": {
    "collapsed": false,
    "deletable": true,
    "editable": true
   },
   "outputs": [
    {
     "name": "stdout",
     "output_type": "stream",
     "text": [
      "dict_keys(['val_mean_absolute_error', 'loss', 'val_categorical_accuracy', 'val_loss', 'mean_absolute_error', 'categorical_accuracy'])\n"
     ]
    },
    {
     "data": {
      "image/png": "[encoded data removed]",
      "text/plain": [
       "<matplotlib.figure.Figure at 0x7ff46c15d320>"
      ]
     },
     "metadata": {},
     "output_type": "display_data"
    },
    {
     "data": {
      "image/png": "[encoded data removed]",
      "text/plain": [
       "<matplotlib.figure.Figure at 0x7ff4440e2e80>"
      ]
     },
     "metadata": {},
     "output_type": "display_data"
    }
   ],
   "source": [
    "import matplotlib.pyplot as plt\n",
    "# list all data in history\n",
    "print(history.history.keys())\n",
    "# summarize history for accuracy\n",
    "plt.plot(history.history['categorical_accuracy'])\n",
    "plt.plot(history.history['val_categorical_accuracy'])\n",
    "plt.title('Model Accuracy')\n",
    "plt.ylabel('Accuracy')\n",
    "plt.xlabel('Epoch')\n",
    "plt.legend(['Train', 'Validation'], loc='upper left')\n",
    "plt.savefig('acc_non-expert.pdf')\n",
    "plt.show()\n",
    "# summarize history for loss\n",
    "plt.plot(history.history['loss'][1:])\n",
    "plt.plot(history.history['val_loss'][1:])\n",
    "plt.title('Model Loss')\n",
    "plt.ylabel('Loss')\n",
    "plt.xlabel('Epoch')\n",
    "plt.legend(['Train', 'Validation'], loc='upper right')\n",
    "plt.savefig('loss_non-expert.pdf')\n",
    "plt.show()\n"
   ]
  },
  {
   "cell_type": "markdown",
   "metadata": {
    "deletable": true,
    "editable": true
   },
   "source": [
    "# AUC score"
   ]
  },
  {
   "cell_type": "code",
   "execution_count": 12,
   "metadata": {
    "collapsed": false,
    "deletable": true,
    "editable": true
   },
   "outputs": [
    {
     "name": "stdout",
     "output_type": "stream",
     "text": [
      "0.71194086527\n"
     ]
    }
   ],
   "source": [
    "from sklearn.metrics import roc_auc_score\n",
    "y_pred = model.predict_proba(x_test, verbose=0)\n",
    "score = roc_auc_score(y_test, y_pred)\n",
    "print(score)"
   ]
  },
  {
   "cell_type": "markdown",
   "metadata": {
    "deletable": true,
    "editable": true
   },
   "source": [
    "# Remove unsure predictions"
   ]
  },
  {
   "cell_type": "code",
   "execution_count": 13,
   "metadata": {
    "collapsed": false,
    "deletable": true,
    "editable": true
   },
   "outputs": [
    {
     "name": "stdout",
     "output_type": "stream",
     "text": [
      "[ True  True False ..., False False  True]\n",
      "(2883, 2)\n",
      "(5000, 2)\n",
      "0.763071816664\n",
      "[0.64180724506378173, 0.439962678194046, 0.65720000000000001]\n",
      "[0.59710182133251866, 0.40220271293338783, 0.723551855705862]\n"
     ]
    }
   ],
   "source": [
    "y_pred = model.predict_proba(x_test, verbose=0)\n",
    "ind1 = y_pred[:,0] > 0.6\n",
    "ind2 = y_pred[:,1] > 0.6\n",
    "ind = ind1 + ind2\n",
    "y_pred2 = y_pred[ind]\n",
    "y_test2 = y_test[ind]\n",
    "x_test2 = x_test[ind]\n",
    "print(ind)\n",
    "print(y_pred2.shape)\n",
    "print(y_pred.shape)\n",
    "score = roc_auc_score(y_test2, y_pred2)\n",
    "print(score)\n",
    "\n",
    "loss_and_metrics1 = model.evaluate(x_test, y_test, verbose=2)\n",
    "loss_and_metrics = model.evaluate(x_test2, y_test2, verbose=2)\n",
    "print(loss_and_metrics1)\n",
    "print(loss_and_metrics)"
   ]
  },
  {
   "cell_type": "code",
   "execution_count": null,
   "metadata": {
    "collapsed": true,
    "deletable": true,
    "editable": true
   },
   "outputs": [],
   "source": []
  },
  {
   "cell_type": "code",
   "execution_count": null,
   "metadata": {
    "collapsed": true,
    "deletable": true,
    "editable": true
   },
   "outputs": [],
   "source": []
  },
  {
   "cell_type": "code",
   "execution_count": null,
   "metadata": {
    "collapsed": true,
    "deletable": true,
    "editable": true
   },
   "outputs": [],
   "source": []
  },
  {
   "cell_type": "code",
   "execution_count": null,
   "metadata": {
    "collapsed": true
   },
   "outputs": [],
   "source": []
  }
 ],
 "metadata": {
  "kernelspec": {
   "display_name": "Python 3",
   "language": "python",
   "name": "python3"
  },
  "language_info": {
   "codemirror_mode": {
    "name": "ipython",
    "version": 3
   },
   "file_extension": ".py",
   "mimetype": "text/x-python",
   "name": "python",
   "nbconvert_exporter": "python",
   "pygments_lexer": "ipython3",
   "version": "3.5.1+"
  }
 },
 "nbformat": 4,
 "nbformat_minor": 2
}
