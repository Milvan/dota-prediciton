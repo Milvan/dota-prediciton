{
 "cells": [
  {
   "cell_type": "markdown",
   "metadata": {
    "deletable": true,
    "editable": true
   },
   "source": [
    "# Import timeframe data"
   ]
  },
  {
   "cell_type": "code",
   "execution_count": 1,
   "metadata": {
    "collapsed": true,
    "deletable": true,
    "editable": true
   },
   "outputs": [],
   "source": [
    "import numpy as np\n"
   ]
  },
  {
   "cell_type": "markdown",
   "metadata": {
    "deletable": true,
    "editable": true
   },
   "source": [
    "# Import data"
   ]
  },
  {
   "cell_type": "code",
   "execution_count": 2,
   "metadata": {
    "collapsed": false,
    "deletable": true,
    "editable": true
   },
   "outputs": [
    {
     "name": "stdout",
     "output_type": "stream",
     "text": [
      "(49996, 6, 266)\n"
     ]
    }
   ],
   "source": [
    "games = np.load('/tmp/game_data.npy')\n",
    "print (games.shape)"
   ]
  },
  {
   "cell_type": "markdown",
   "metadata": {
    "deletable": true,
    "editable": true
   },
   "source": [
    "# Look at data"
   ]
  },
  {
   "cell_type": "code",
   "execution_count": 3,
   "metadata": {
    "collapsed": false,
    "deletable": true,
    "editable": true
   },
   "outputs": [],
   "source": [
    "#print(games[1][4])"
   ]
  },
  {
   "cell_type": "code",
   "execution_count": 4,
   "metadata": {
    "collapsed": false,
    "deletable": true,
    "editable": true
   },
   "outputs": [
    {
     "name": "stdout",
     "output_type": "stream",
     "text": [
      "(49996, 2)\n"
     ]
    }
   ],
   "source": [
    "labels = np.load('/tmp/game_labels.npy')\n",
    "print (labels.shape)"
   ]
  },
  {
   "cell_type": "markdown",
   "metadata": {
    "deletable": true,
    "editable": true
   },
   "source": [
    "# Separate train and test data"
   ]
  },
  {
   "cell_type": "code",
   "execution_count": 7,
   "metadata": {
    "collapsed": false,
    "deletable": true,
    "editable": true
   },
   "outputs": [
    {
     "name": "stdout",
     "output_type": "stream",
     "text": [
      "(49996, 6, 266)\n",
      "(49996, 6, 266)\n",
      "(35996, 6, 266)\n"
     ]
    }
   ],
   "source": [
    "\n",
    "#labels_binary_length_corrected = labels.reshape((300000, 2))\n",
    "labels_binary_length_corrected = labels\n",
    "\n",
    "number_of_features_to_use = games.shape[2]\n",
    "\n",
    "data = np.zeros((games.shape[0],games.shape[1], number_of_features_to_use))\n",
    "for i in range(games.shape[0]):\n",
    "    for j in range(games.shape[1]):\n",
    "        data[i, j] = games[i,j][:number_of_features_to_use]\n",
    "print (data.shape)\n",
    "\n",
    "\n",
    "val_split = int(len(data) * 0.9)\n",
    "train_split = int(val_split * 0.8)\n",
    "print(data.shape)\n",
    "x_train = data[:train_split,:]\n",
    "y_train = labels_binary_length_corrected[:train_split,:]\n",
    "x_val = data[train_split:val_split,:]\n",
    "y_val = labels_binary_length_corrected[train_split:val_split,:]\n",
    "x_test = data[val_split:,:]\n",
    "y_test = labels_binary_length_corrected[val_split:,:]\n",
    "\n",
    "#x_train = np.reshape(x_train, x_train.shape + (1,))\n",
    "#x_test = np.reshape(x_test, x_test.shape + (1,))\n",
    "\n",
    "print(x_train.shape)"
   ]
  },
  {
   "cell_type": "code",
   "execution_count": null,
   "metadata": {
    "collapsed": false,
    "deletable": true,
    "editable": true
   },
   "outputs": [],
   "source": []
  },
  {
   "cell_type": "code",
   "execution_count": 10,
   "metadata": {
    "collapsed": false,
    "deletable": true,
    "editable": true
   },
   "outputs": [
    {
     "name": "stdout",
     "output_type": "stream",
     "text": [
      "Train on 35996 samples, validate on 9000 samples\n",
      "Epoch 1/2\n",
      "10s - loss: 8.3914 - mean_absolute_error: 0.5171 - categorical_accuracy: 0.4828 - val_loss: 8.4691 - val_mean_absolute_error: 0.5227 - val_categorical_accuracy: 0.4773\n",
      "Epoch 2/2\n",
      "9s - loss: 8.3773 - mean_absolute_error: 0.5170 - categorical_accuracy: 0.4830 - val_loss: 8.4691 - val_mean_absolute_error: 0.5227 - val_categorical_accuracy: 0.4773\n",
      "0.477333333333,0.503256136166,0.477333333333,0.503256136166,128,1134,1147,0.012043624687272181,0.0035089762767319655\n",
      "\n"
     ]
    }
   ],
   "source": [
    "from keras.layers import Dense, Activation\n",
    "from keras.models import Sequential\n",
    "from keras.models import Sequential\n",
    "from keras.layers import Dense\n",
    "from keras.layers import Dropout\n",
    "from keras.layers import LSTM\n",
    "from keras.regularizers import l2\n",
    "import keras\n",
    "from sklearn.metrics import roc_auc_score\n",
    "\n",
    "\n",
    "# batch eta lambda units\n",
    "\n",
    "results = open('/tmp/dota_coarse_search.csv', 'a')\n",
    "#results.write(\"val_acc, auc, val_acc_certain, auc_certain, batch_size, lstm_size, dense_size, regularization lstm, eta\")\n",
    "\n",
    "batch_sizes = [2**y for y in range(5,10)]\n",
    "\n",
    "for i in range(1):\n",
    "\n",
    "    batch_size = np.random.choice(batch_sizes)\n",
    "    #print(\"batch size: \", batch_size)\n",
    "    lstm_size = np.random.randint(low=50, high=1500)\n",
    "    #print(\"lstm size: \", lstm_size)\n",
    "    regu = np.random.uniform(low=0, high=0.1)\n",
    "    #print(\"regularization: \", regu)\n",
    "    eta = np.random.uniform(low=1e-6, high=0.01)\n",
    "    #print(\"eta: \", eta)\n",
    "    \n",
    "    model = Sequential()\n",
    "\n",
    "    model.add(LSTM(\n",
    "        input_shape=(None, x_train.shape[2]),\n",
    "        units=lstm_size,\n",
    "        return_sequences=False,\n",
    "        kernel_regularizer= l2(regu))\n",
    "        )\n",
    "\n",
    "    \n",
    "    dense_size = np.random.randint(low=50,high=2000)\n",
    "    #print(\"dense size: \", dense_size)\n",
    "    model.add(Dense(\n",
    "        units=dense_size))\n",
    "    model.add(Activation('relu'))\n",
    "\n",
    "    model.add(Dense(\n",
    "        units=2))\n",
    "    model.add(Activation('softmax'))\n",
    "    #model.compile(loss='mse', optimizer='rmsprop')\n",
    "    model.compile(loss='categorical_crossentropy', optimizer=keras.optimizers.RMSprop(lr=eta), metrics=[keras.metrics.mae, keras.metrics.categorical_accuracy])\n",
    "    \n",
    "    model_checkpoint = keras.callbacks.ModelCheckpoint('/tmp/best_weights', monitor='val_categorical_accuracy', verbose=0, save_best_only=True, save_weights_only=False, mode='auto', period=1)\n",
    "    history = model.fit(x_train, y_train, epochs=2, batch_size=batch_size, validation_split=0.0, validation_data=(x_val, y_val), verbose=2, callbacks = [model_checkpoint])\n",
    "  \n",
    "    model.load_weights('/tmp/best_weights')\n",
    "    \n",
    "    \n",
    "    # Test loss and accuracy\n",
    "    loss_and_metrics1 = model.evaluate(x_val, y_val, verbose=2)\n",
    "    \n",
    "    \n",
    "    ## Calculate AUC\n",
    "    y_pred = model.predict_proba(x_val, verbose=0)\n",
    "    score1 = roc_auc_score(y_val, y_pred)\n",
    "\n",
    "    ## Remove uncertain predictions\n",
    "    ind1 = y_pred[:,0] > 0.6\n",
    "    ind2 = y_pred[:,1] > 0.6\n",
    "    ind = ind1 + ind2\n",
    "    y_pred2 = y_pred[ind,:]\n",
    "    y_val2 = y_val[ind,:]\n",
    "    x_val2 = x_val[ind,:]\n",
    "    #print(ind)\n",
    "    #print(y_pred2.shape)\n",
    "    #print(y_pred.shape)\n",
    "    score2 = roc_auc_score(y_val2, y_pred2)\n",
    "    #print(score2)\n",
    "\n",
    "    loss_and_metrics2 = model.evaluate(x_val2, y_val2, verbose=2)\n",
    "    #print(loss_and_metrics)\n",
    "    \n",
    "    log = \",\".join( list(map(str, [loss_and_metrics1[2], score1, loss_and_metrics2[2], score2, batch_size, lstm_size, dense_size, regu, eta, ]))) + \"\\n\"\n",
    "    print(log)\n",
    "    results.write(log)\n",
    "    #print(loss_and_metrics)\n",
    "\n",
    "results.close()"
   ]
  },
  {
   "cell_type": "code",
   "execution_count": null,
   "metadata": {
    "collapsed": false,
    "deletable": true,
    "editable": true
   },
   "outputs": [],
   "source": []
  },
  {
   "cell_type": "code",
   "execution_count": null,
   "metadata": {
    "collapsed": false,
    "deletable": true,
    "editable": true
   },
   "outputs": [],
   "source": []
  },
  {
   "cell_type": "code",
   "execution_count": null,
   "metadata": {
    "collapsed": false,
    "deletable": true,
    "editable": true
   },
   "outputs": [],
   "source": []
  },
  {
   "cell_type": "code",
   "execution_count": null,
   "metadata": {
    "collapsed": false,
    "deletable": true,
    "editable": true
   },
   "outputs": [],
   "source": []
  },
  {
   "cell_type": "code",
   "execution_count": null,
   "metadata": {
    "collapsed": true,
    "deletable": true,
    "editable": true
   },
   "outputs": [],
   "source": []
  },
  {
   "cell_type": "code",
   "execution_count": null,
   "metadata": {
    "collapsed": false,
    "deletable": true,
    "editable": true
   },
   "outputs": [],
   "source": []
  },
  {
   "cell_type": "code",
   "execution_count": null,
   "metadata": {
    "collapsed": false,
    "deletable": true,
    "editable": true
   },
   "outputs": [],
   "source": [
    "import matplotlib.pyplot as plt\n",
    "# list all data in history\n",
    "print(history.history.keys())\n",
    "# summarize history for accuracy\n",
    "plt.plot(history.history['categorical_accuracy'])\n",
    "plt.plot(history.history['val_categorical_accuracy'])\n",
    "plt.title('Model Accuracy')\n",
    "plt.ylabel('Accuracy')\n",
    "plt.xlabel('Epoch')\n",
    "plt.legend(['Train', 'Validation'], loc='upper left')\n",
    "plt.show()\n",
    "# summarize history for loss\n",
    "plt.plot(history.history['loss'])\n",
    "plt.plot(history.history['val_loss'])\n",
    "plt.title('Model Loss')\n",
    "plt.ylabel('Loss')\n",
    "plt.xlabel('Epoch')\n",
    "plt.legend(['Train', 'Validation'], loc='upper right')\n",
    "plt.show()"
   ]
  },
  {
   "cell_type": "markdown",
   "metadata": {
    "deletable": true,
    "editable": true
   },
   "source": [
    "# AUC score"
   ]
  },
  {
   "cell_type": "code",
   "execution_count": null,
   "metadata": {
    "collapsed": false,
    "deletable": true,
    "editable": true
   },
   "outputs": [],
   "source": [
    "from sklearn.metrics import roc_auc_score\n",
    "y_pred = model.predict_proba(x_test, verbose=0)\n",
    "score = roc_auc_score(y_test, y_pred)\n",
    "print(score)"
   ]
  },
  {
   "cell_type": "markdown",
   "metadata": {
    "deletable": true,
    "editable": true
   },
   "source": [
    "# Remove unsure predictions"
   ]
  },
  {
   "cell_type": "code",
   "execution_count": null,
   "metadata": {
    "collapsed": false,
    "deletable": true,
    "editable": true
   },
   "outputs": [],
   "source": [
    "y_pred = model.predict_proba(x_test, verbose=0)\n",
    "ind1 = y_pred[:,0] > 0.6\n",
    "ind2 = y_pred[:,1] > 0.6\n",
    "ind = ind1 + ind2\n",
    "y_pred2 = y_pred[ind]\n",
    "y_test2 = y_test[ind]\n",
    "x_test2 = x_test[ind]\n",
    "print(ind)\n",
    "print(y_pred2.shape)\n",
    "print(y_pred.shape)\n",
    "score = roc_auc_score(y_test2, y_pred2)\n",
    "print(score)\n",
    "\n",
    "loss_and_metrics = model.evaluate(x_test2, y_test2, verbose=2)\n",
    "print(loss_and_metrics)"
   ]
  },
  {
   "cell_type": "code",
   "execution_count": null,
   "metadata": {
    "collapsed": true,
    "deletable": true,
    "editable": true
   },
   "outputs": [],
   "source": []
  },
  {
   "cell_type": "code",
   "execution_count": null,
   "metadata": {
    "collapsed": true,
    "deletable": true,
    "editable": true
   },
   "outputs": [],
   "source": []
  },
  {
   "cell_type": "code",
   "execution_count": null,
   "metadata": {
    "collapsed": true,
    "deletable": true,
    "editable": true
   },
   "outputs": [],
   "source": []
  }
 ],
 "metadata": {
  "kernelspec": {
   "display_name": "Python 3",
   "language": "python",
   "name": "python3"
  },
  "language_info": {
   "codemirror_mode": {
    "name": "ipython",
    "version": 3
   },
   "file_extension": ".py",
   "mimetype": "text/x-python",
   "name": "python",
   "nbconvert_exporter": "python",
   "pygments_lexer": "ipython3",
   "version": "3.5.1+"
  }
 },
 "nbformat": 4,
 "nbformat_minor": 2
}
