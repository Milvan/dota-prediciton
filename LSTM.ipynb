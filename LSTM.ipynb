{
 "cells": [
  {
   "cell_type": "code",
   "execution_count": 25,
   "metadata": {
    "collapsed": false,
    "deletable": true,
    "editable": true
   },
   "outputs": [],
   "source": [
    "import numpy as np\n",
    "\n",
    "def first_x_sec(seconds, filepath, timecol):\n",
    "    ''' param: seconds, int, filter out the first seconds of the game\n",
    "        param: filepath, string, the filepath of the csv datafile\n",
    "        param: timecol, int, the index of the column that contains time\n",
    "    '''\n",
    "    f = open(filepath)\n",
    "    lines = f.readlines()\n",
    "    lines = [ line.split(',') for line in lines ]\n",
    "    if seconds is None:\n",
    "        return np.array(lines[1:])\n",
    "    else:\n",
    "        return np.array(list(filter(lambda line: int(line[timecol])<=seconds, lines[1:])))\n",
    "\n",
    "# First 5 min: 5*60=300, col 2 is time first line is header\n",
    "#ability_upgrade = first_x_sec(300, 'dataset/ability_upgrades.csv', 2)\n",
    "#objectives = first_x_sec(300, 'dataset/objectives.csv', 7)\n",
    "player_time = first_x_sec(300, 'dataset/player_time.csv', 1)\n",
    "\n",
    "\n",
    "## Match file contains more than just the label\n",
    "# column 10 contains the True/False value of Radiant win\n",
    "matches = first_x_sec(None, 'dataset/match.csv', None)\n",
    "\n"
   ]
  },
  {
   "cell_type": "code",
   "execution_count": 47,
   "metadata": {
    "collapsed": false,
    "deletable": true,
    "editable": true
   },
   "outputs": [
    {
     "name": "stdout",
     "output_type": "stream",
     "text": [
      "All the labels\n",
      "[1 0 0 ..., 1 1 0]\n",
      "Shape of player time matrix\n",
      "Contains all attributes of matches, the first minutes\n",
      "(299994, 32)\n",
      "The pre prossessed data, just the second match\n",
      "[[   1    1    1    1    1    1]\n",
      " [   0   60  120  180  240  300]\n",
      " [   0   99  199  299  399  798]\n",
      " [   0    0    0    0    0    0]\n",
      " [   0   31  288  461  607  910]\n",
      " [   0  138  358  744 1146 1479]\n",
      " [   0    1    4   11   18   20]\n",
      " [   0   93  350  647  939 1348]\n",
      " [   0   99  280  441 1018 1118]\n",
      " [   0    0    3    8    8    8]\n",
      " [   0    0  144  264  493  627]\n",
      " [   0  178  326  426  651  950]\n",
      " [   0    2    3    3    6   10]\n",
      " [   0  124  165  206  495  735]\n",
      " [   0  280  542  891 1310 1574]\n",
      " [   0    2    6   12   17   21]\n",
      " [   0  327  781 1225 1682 2059]\n",
      " [   0  599  804 1314 1861 2604]\n",
      " [   0    0    3    6   11   16]\n",
      " [   0  100  222  426  942 1512]\n",
      " [   0  183  325  623  770  911]\n",
      " [   0    2    3    8    9   10]\n",
      " [   0  175  299  670  979 1253]\n",
      " [   0   99  199  299  399  582]\n",
      " [   0    0    0    0    0    1]\n",
      " [   0    0  122  316  372  608]\n",
      " [   0  142  484  794  932 1366]\n",
      " [   0    1    7   12   13   14]\n",
      " [   0  175  464  886  994 1629]\n",
      " [   0  251  476  735 1135 1277]\n",
      " [   0    4    7   11   15   16]\n",
      " [   0  268  660 1062 1413 1702]]\n"
     ]
    }
   ],
   "source": [
    "labels = np.array([int(match[9] == 'True') for match in matches])\n",
    "print('All the labels')\n",
    "print(labels)\n",
    "\n",
    "print('Shape of player time matrix')\n",
    "print('Contains all attributes of matches, the first minutes')\n",
    "print(player_time.shape)\n",
    "#print(player_time[1:10])\n",
    "player_time = player_time.astype(np.int)\n",
    "\n",
    "## Separate data matches. Each index in data is one match. One match is a 32*x.\n",
    "## x is the number of logs. We have data every 60 secods, so for 5 min x=5\n",
    "games = [np.empty(shape=(32,0), dtype=np.int)]*50000\n",
    "for x in player_time:\n",
    "    games[x[0]] = np.concatenate((np.array(games[x[0]]), x.reshape(32,1)), axis=1)\n",
    "#Print the first match log \n",
    "print('The pre prossessed data, just the second match')\n",
    "print(games[1])\n"
   ]
  },
  {
   "cell_type": "code",
   "execution_count": 27,
   "metadata": {
    "collapsed": false,
    "deletable": true,
    "editable": true
   },
   "outputs": [],
   "source": [
    "#game_states = np.hstack([game[1:,:] for game in data])\n",
    "#print(np.shape(game_states))\n",
    "#print(game_states[:20])"
   ]
  },
  {
   "cell_type": "code",
   "execution_count": 32,
   "metadata": {
    "collapsed": false,
    "deletable": true,
    "editable": true
   },
   "outputs": [],
   "source": [
    "from keras.layers import Dense, Activation\n",
    "from keras.models import Sequential\n",
    "import keras\n",
    "\n",
    "model = Sequential()\n",
    "\n",
    "model.add(Dense(units=50, input_dim=30))\n",
    "model.add(Activation('relu'))\n",
    "model.add(Dense(units=2))\n",
    "model.add(Activation('softmax'))\n",
    "model.compile(loss=keras.losses.categorical_crossentropy,\n",
    "             optimizer=keras.optimizers.SGD(lr=0.0001, momentum=0.0, nesterov=False),\n",
    "             metrics=[keras.metrics.mae, keras.metrics.categorical_accuracy])\n"
   ]
  },
  {
   "cell_type": "code",
   "execution_count": 50,
   "metadata": {
    "collapsed": false,
    "deletable": true,
    "editable": true
   },
   "outputs": [
    {
     "name": "stdout",
     "output_type": "stream",
     "text": [
      "Shapes of labels\n",
      "(50000,)\n",
      "example of how the labels look like\n",
      "[1 0 0 0 1 1 1 1 0 0]\n",
      "Re-structure the labels so that it is two dimensions, with prob value of each team winning\n",
      "(50000, 2)\n",
      "example of how the binary labels look like\n",
      "[[ 0.  1.]\n",
      " [ 1.  0.]\n",
      " [ 1.  0.]\n",
      " [ 1.  0.]\n",
      " [ 0.  1.]\n",
      " [ 0.  1.]\n",
      " [ 0.  1.]\n",
      " [ 0.  1.]\n",
      " [ 1.  0.]\n",
      " [ 1.  0.]]\n",
      "[[   0    0    0    0    0    0]\n",
      " [   0   60  120  180  240  300]\n",
      " [   0  409  546  683  956 1056]\n",
      " [   0    0    0    1    1    1]\n",
      " [   0   63  283  314  485  649]\n",
      " [   0  142  622  927 1264 1451]\n",
      " [   0    1    4    9   11   13]\n",
      " [   0  186  645 1202 1583 1810]\n",
      " [   0  168  330  430  530  630]\n",
      " [   0    0    0    0    0    0]\n",
      " [   0  125  376  376  391  504]\n",
      " [   0  200  345  644  919 1102]\n",
      " [   0    0    1    6   11   15]\n",
      " [   0  193  698 1172 1610 1888]\n",
      " [   0  194  628  806 1281 1708]\n",
      " [   0    1    5    7   10   17]\n",
      " [   0  125  374  570 1216 1633]\n",
      " [   0  174  354  614 1082 1300]\n",
      " [   0    2    4    8    8   11]\n",
      " [   0   77  437  829 1318 1901]\n",
      " [   0  138  673  895 1087 1233]\n",
      " [   0    1    5    8   10   11]\n",
      " [   0   62  543  842 1048 1352]\n",
      " [   0  345  684  958 1500 1841]\n",
      " [   0    6   12   16   26   32]\n",
      " [   0  351  805 1135 1842 2162]\n",
      " [   0  100  200  300  400  500]\n",
      " [   0    0    0    0    0    0]\n",
      " [   0   77  210  210  210  241]\n",
      " [   0  613  815 1290 1431 2110]\n",
      " [   0    1    5    8    9   17]\n",
      " [   0  125  323  527  589  918]]\n"
     ]
    },
    {
     "ename": "ValueError",
     "evalue": "could not broadcast input array from shape (32,5) into shape (32)",
     "output_type": "error",
     "traceback": [
      "\u001b[0;31m---------------------------------------------------------------------------\u001b[0m",
      "\u001b[0;31mValueError\u001b[0m                                Traceback (most recent call last)",
      "\u001b[0;32m<ipython-input-50-8fdd8c06df8c>\u001b[0m in \u001b[0;36m<module>\u001b[0;34m()\u001b[0m\n\u001b[1;32m     11\u001b[0m \u001b[0;34m\u001b[0m\u001b[0m\n\u001b[1;32m     12\u001b[0m \u001b[0mprint\u001b[0m\u001b[0;34m(\u001b[0m\u001b[0mgames\u001b[0m\u001b[0;34m[\u001b[0m\u001b[0;36m0\u001b[0m\u001b[0;34m]\u001b[0m\u001b[0;34m)\u001b[0m\u001b[0;34m\u001b[0m\u001b[0m\n\u001b[0;32m---> 13\u001b[0;31m \u001b[0mgames\u001b[0m \u001b[0;34m=\u001b[0m \u001b[0mnp\u001b[0m\u001b[0;34m.\u001b[0m\u001b[0mmatrix\u001b[0m\u001b[0;34m(\u001b[0m\u001b[0;34m[\u001b[0m\u001b[0mgame\u001b[0m\u001b[0;34m[\u001b[0m\u001b[0;34m:\u001b[0m\u001b[0;34m,\u001b[0m \u001b[0;36m1\u001b[0m\u001b[0;34m:\u001b[0m\u001b[0;34m]\u001b[0m \u001b[0;32mfor\u001b[0m \u001b[0mgame\u001b[0m \u001b[0;32min\u001b[0m \u001b[0mgames\u001b[0m\u001b[0;34m]\u001b[0m\u001b[0;34m)\u001b[0m\u001b[0;34m.\u001b[0m\u001b[0mT\u001b[0m\u001b[0;34m\u001b[0m\u001b[0m\n\u001b[0m\u001b[1;32m     14\u001b[0m \u001b[0mprint\u001b[0m\u001b[0;34m(\u001b[0m\u001b[0mgames\u001b[0m\u001b[0;34m[\u001b[0m\u001b[0;36m0\u001b[0m\u001b[0;34m]\u001b[0m\u001b[0;34m)\u001b[0m\u001b[0;34m\u001b[0m\u001b[0m\n\u001b[1;32m     15\u001b[0m \u001b[0mprint\u001b[0m\u001b[0;34m(\u001b[0m\u001b[0mgames\u001b[0m\u001b[0;34m)\u001b[0m\u001b[0;34m\u001b[0m\u001b[0m\n",
      "\u001b[0;32m/usr/local/lib/python3.6/site-packages/numpy/matrixlib/defmatrix.py\u001b[0m in \u001b[0;36m__new__\u001b[0;34m(subtype, data, dtype, copy)\u001b[0m\n\u001b[1;32m    268\u001b[0m \u001b[0;34m\u001b[0m\u001b[0m\n\u001b[1;32m    269\u001b[0m         \u001b[0;31m# now convert data to an array\u001b[0m\u001b[0;34m\u001b[0m\u001b[0;34m\u001b[0m\u001b[0m\n\u001b[0;32m--> 270\u001b[0;31m         \u001b[0marr\u001b[0m \u001b[0;34m=\u001b[0m \u001b[0mN\u001b[0m\u001b[0;34m.\u001b[0m\u001b[0marray\u001b[0m\u001b[0;34m(\u001b[0m\u001b[0mdata\u001b[0m\u001b[0;34m,\u001b[0m \u001b[0mdtype\u001b[0m\u001b[0;34m=\u001b[0m\u001b[0mdtype\u001b[0m\u001b[0;34m,\u001b[0m \u001b[0mcopy\u001b[0m\u001b[0;34m=\u001b[0m\u001b[0mcopy\u001b[0m\u001b[0;34m)\u001b[0m\u001b[0;34m\u001b[0m\u001b[0m\n\u001b[0m\u001b[1;32m    271\u001b[0m         \u001b[0mndim\u001b[0m \u001b[0;34m=\u001b[0m \u001b[0marr\u001b[0m\u001b[0;34m.\u001b[0m\u001b[0mndim\u001b[0m\u001b[0;34m\u001b[0m\u001b[0m\n\u001b[1;32m    272\u001b[0m         \u001b[0mshape\u001b[0m \u001b[0;34m=\u001b[0m \u001b[0marr\u001b[0m\u001b[0;34m.\u001b[0m\u001b[0mshape\u001b[0m\u001b[0;34m\u001b[0m\u001b[0m\n",
      "\u001b[0;31mValueError\u001b[0m: could not broadcast input array from shape (32,5) into shape (32)"
     ]
    }
   ],
   "source": [
    "print('Shapes of labels')\n",
    "print(labels.shape)\n",
    "from keras.utils.np_utils import to_categorical\n",
    "labels_binary = to_categorical(labels)\n",
    "print('example of how the labels look like')\n",
    "print(labels[:10])\n",
    "print('Re-structure the labels so that it is two dimensions, with prob value of each team winning')\n",
    "print(labels_binary.shape)\n",
    "print('example of how the binary labels look like')\n",
    "print(labels_binary[:10])\n",
    "\n",
    "print(games[0])\n",
    "games = np.array([game[:, 1:] for game in games]).T\n",
    "print(games[0])\n",
    "print(games)\n",
    "\n",
    "# separate into train and test\n",
    "x_train = games[:,:40000]\n",
    "y_train = labels_binary[:40000,:]\n",
    "x_test = games[:,40000:]\n",
    "y_test = labels_binary[40000:,:]\n",
    "print(y_test.shape)\n",
    "\n"
   ]
  },
  {
   "cell_type": "code",
   "execution_count": null,
   "metadata": {
    "collapsed": false,
    "deletable": true,
    "editable": true
   },
   "outputs": [],
   "source": [
    "res = model.fit(x_train.T, y_train, epochs=50, batch_size=1000, validation_split=0.8)"
   ]
  },
  {
   "cell_type": "code",
   "execution_count": null,
   "metadata": {
    "collapsed": false,
    "deletable": true,
    "editable": true
   },
   "outputs": [],
   "source": [
    "# Test loss and accuracy\n",
    "loss_and_metrics = model.evaluate(x_test.T, y_test)\n",
    "print(loss_and_metrics)"
   ]
  }
 ],
 "metadata": {
  "kernelspec": {
   "display_name": "Python 3",
   "language": "python",
   "name": "python3"
  },
  "language_info": {
   "codemirror_mode": {
    "name": "ipython",
    "version": 3
   },
   "file_extension": ".py",
   "mimetype": "text/x-python",
   "name": "python",
   "nbconvert_exporter": "python",
   "pygments_lexer": "ipython3",
   "version": "3.6.0"
  }
 },
 "nbformat": 4,
 "nbformat_minor": 2
}
