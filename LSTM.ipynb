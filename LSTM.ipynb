{
 "cells": [
  {
   "cell_type": "markdown",
   "metadata": {
    "deletable": true,
    "editable": true
   },
   "source": [
    "# Import timeframe data"
   ]
  },
  {
   "cell_type": "code",
   "execution_count": null,
   "metadata": {
    "collapsed": false,
    "deletable": true,
    "editable": true
   },
   "outputs": [],
   "source": [
    "import numpy as np\n",
    "\n",
    "def first_x_sec(seconds, filepath, timecol):\n",
    "    ''' param: seconds, int, filter out the first seconds of the game\n",
    "        param: filepath, string, the filepath of the csv datafile\n",
    "        param: timecol, int, the index of the column that contains time\n",
    "    '''\n",
    "    f = open(filepath)\n",
    "    lines = f.readlines()\n",
    "    lines = [ line.split(',') for line in lines ]\n",
    "    if seconds is None:\n",
    "        return np.array(lines[1:])\n",
    "    else:\n",
    "        return np.array(list(filter(lambda line: int(line[timecol])<=seconds, lines[1:])))\n",
    "\n",
    "# First 5 min: 5*60=300, col 2 is time first line is header\n",
    "#ability_upgrade = first_x_sec(300, 'dataset/ability_upgrades.csv', 2)\n",
    "#objectives = first_x_sec(300, 'dataset/objectives.csv', 7)\n",
    "player_time_data = first_x_sec(300, 'dataset/player_time.csv', 1)\n",
    "\n",
    "## Match file contains more than just the label\n",
    "# column 10 contains the True/False value of Radiant win\n",
    "matches_data = first_x_sec(None, 'dataset/match.csv', None)\n",
    "\n"
   ]
  },
  {
   "cell_type": "markdown",
   "metadata": {
    "deletable": true,
    "editable": true
   },
   "source": [
    "# Import players.csv data"
   ]
  },
  {
   "cell_type": "code",
   "execution_count": null,
   "metadata": {
    "collapsed": false,
    "deletable": true,
    "editable": true
   },
   "outputs": [],
   "source": [
    "def read_columns(filepath, start_col, stop_col):\n",
    "    f = open(filepath)\n",
    "    lines = f.readlines()\n",
    "    lines = [ line.strip().split(',')[start_col:stop_col] for line in lines[1:] ]\n",
    "    return np.array(lines).astype(np.int)\n",
    "    \n",
    "asd = read_columns('dataset/players.csv', 2, 3)\n",
    "print(asd[:20])"
   ]
  },
  {
   "cell_type": "code",
   "execution_count": null,
   "metadata": {
    "collapsed": false,
    "deletable": true,
    "editable": true
   },
   "outputs": [],
   "source": [
    "labels = np.array([int(match[9] == 'True') for match in matches_data])\n",
    "print('Shape of player time data matrix')\n",
    "print(player_time_data.shape)\n",
    "player_time_data = player_time_data.astype(np.int)\n",
    "\n",
    "## Separate data matches. Each index in data is one match. One match is a 32*x.\n",
    "## x is the number of logs. We have data every 60 secods, so for 5 min x=5\n",
    "games = [np.empty(shape=(32,0), dtype=np.int)]*50000\n",
    "for x in player_time_data:\n",
    "    games[x[0]] = np.concatenate((np.array(games[x[0]]), x.reshape(32,1)), axis=1)\n",
    "#Print the first match log\n",
    "print(\"First game data\")\n",
    "print(games[0])"
   ]
  },
  {
   "cell_type": "markdown",
   "metadata": {
    "deletable": true,
    "editable": true
   },
   "source": [
    "# Merge Data"
   ]
  },
  {
   "cell_type": "code",
   "execution_count": null,
   "metadata": {
    "collapsed": false,
    "deletable": true,
    "editable": true
   },
   "outputs": [],
   "source": [
    "for i, game in enumerate(games):\n",
    "    games[i] = np.vstack((games[i], np.repeat(asd[10*i:10*(i+1)], games[i].shape[1], axis=1)))\n",
    "\n",
    "print(games[0])"
   ]
  },
  {
   "cell_type": "markdown",
   "metadata": {
    "deletable": true,
    "editable": true
   },
   "source": [
    "# Normalize Data"
   ]
  },
  {
   "cell_type": "code",
   "execution_count": null,
   "metadata": {
    "collapsed": false,
    "deletable": true,
    "editable": true
   },
   "outputs": [],
   "source": [
    "from sklearn.preprocessing import normalize\n",
    "for index, game in enumerate(games):\n",
    "    games[index] = np.vstack((game[0], normalize(game[1:, :])))"
   ]
  },
  {
   "cell_type": "code",
   "execution_count": null,
   "metadata": {
    "collapsed": false,
    "deletable": true,
    "editable": true
   },
   "outputs": [],
   "source": [
    "from keras.utils.np_utils import to_categorical\n",
    "labels_binary = to_categorical(labels)\n",
    "\n",
    "# We don't know how long the game existed for, therefore we append labels_binary for each frame.\n",
    "data = []\n",
    "labels_binary_length_corrected = []\n",
    "for index, game in enumerate(games):\n",
    "    for frame in game.T:\n",
    "        data.append(frame[1:])\n",
    "        labels_binary_length_corrected.append(labels_binary[index])\n",
    "\n",
    "\n",
    "data = np.array(data)\n",
    "labels_binary_length_corrected = np.array(labels_binary_length_corrected)\n",
    "\n",
    "num_train_examples = int(len(data) * 0.9)\n",
    "\n",
    "x_train = data[:num_train_examples,:]\n",
    "y_train = labels_binary_length_corrected[:num_train_examples,:]\n",
    "x_test = data[num_train_examples:,:]\n",
    "y_test = labels_binary_length_corrected[num_train_examples:,:]\n",
    "\n",
    "x_train = np.reshape(x_train, x_train.shape + (1,))\n",
    "x_test = np.reshape(x_test, x_test.shape + (1,))\n",
    "\n",
    "print(x_train.shape)"
   ]
  },
  {
   "cell_type": "code",
   "execution_count": null,
   "metadata": {
    "collapsed": false,
    "deletable": true,
    "editable": true
   },
   "outputs": [],
   "source": [
    "from keras.layers import Dense, Activation\n",
    "from keras.models import Sequential\n",
    "from keras.models import Sequential\n",
    "from keras.layers import Dense\n",
    "from keras.layers import Dropout\n",
    "from keras.layers import LSTM\n",
    "import keras\n",
    "\n",
    "model = Sequential()\n",
    "\n",
    "model.add(LSTM(\n",
    "    input_shape=x_train.shape[1:],\n",
    "    units=50,\n",
    "    return_sequences=True))\n",
    "model.add(Dropout(0.2))\n",
    "\n",
    "model.add(LSTM(\n",
    "    units=100,\n",
    "    return_sequences=False))\n",
    "\n",
    "model.add(Dense(\n",
    "    units=2))\n",
    "model.add(Activation('softmax'))\n",
    "#model.compile(loss='mse', optimizer='rmsprop')\n",
    "model.compile(loss='mse', optimizer='rmsprop', metrics=[keras.metrics.mae, keras.metrics.categorical_accuracy])\n",
    "#model.compile(loss=keras.losses.categorical_crossentropy,\n",
    "#             optimizer=keras.optimizers.SGD(lr=0.0001, momentum=0.0, nesterov=False),\n",
    "#             metrics=[keras.metrics.mae, keras.metrics.categorical_accuracy])"
   ]
  },
  {
   "cell_type": "code",
   "execution_count": null,
   "metadata": {
    "collapsed": false,
    "deletable": true,
    "editable": true
   },
   "outputs": [],
   "source": [
    "res = model.fit(x_train, y_train, epochs=50, batch_size=1000, validation_split=0.2)"
   ]
  },
  {
   "cell_type": "code",
   "execution_count": null,
   "metadata": {
    "collapsed": false,
    "deletable": true,
    "editable": true
   },
   "outputs": [],
   "source": [
    "# Test loss and accuracy\n",
    "loss_and_metrics = model.evaluate(x_test, y_test)\n",
    "print(loss_and_metrics)"
   ]
  },
  {
   "cell_type": "code",
   "execution_count": null,
   "metadata": {
    "collapsed": true,
    "deletable": true,
    "editable": true
   },
   "outputs": [],
   "source": []
  }
 ],
 "metadata": {
  "kernelspec": {
   "display_name": "Python 3",
   "language": "python",
   "name": "python3"
  },
  "language_info": {
   "codemirror_mode": {
    "name": "ipython",
    "version": 3
   },
   "file_extension": ".py",
   "mimetype": "text/x-python",
   "name": "python",
   "nbconvert_exporter": "python",
   "pygments_lexer": "ipython3",
   "version": "3.6.0"
  }
 },
 "nbformat": 4,
 "nbformat_minor": 2
}
