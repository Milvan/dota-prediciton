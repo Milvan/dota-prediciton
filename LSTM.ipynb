{
 "cells": [
  {
   "cell_type": "markdown",
   "metadata": {
    "deletable": true,
    "editable": true
   },
   "source": [
    "# Import timeframe data"
   ]
  },
  {
   "cell_type": "code",
   "execution_count": 29,
   "metadata": {
    "collapsed": true,
    "deletable": true,
    "editable": true
   },
   "outputs": [],
   "source": [
    "import numpy as np\n"
   ]
  },
  {
   "cell_type": "markdown",
   "metadata": {
    "deletable": true,
    "editable": true
   },
   "source": [
    "# Import data"
   ]
  },
  {
   "cell_type": "code",
   "execution_count": 30,
   "metadata": {
    "collapsed": false,
    "deletable": true,
    "editable": true
   },
   "outputs": [
    {
     "name": "stdout",
     "output_type": "stream",
     "text": [
      "(49996, 6, 338)\n"
     ]
    }
   ],
   "source": [
    "games = np.load('/tmp/game_data.npy')\n",
    "print (games.shape)"
   ]
  },
  {
   "cell_type": "markdown",
   "metadata": {
    "deletable": true,
    "editable": true
   },
   "source": [
    "# Look at data"
   ]
  },
  {
   "cell_type": "code",
   "execution_count": 31,
   "metadata": {
    "collapsed": false,
    "deletable": true,
    "editable": true
   },
   "outputs": [],
   "source": [
    "#print(games[1][4])"
   ]
  },
  {
   "cell_type": "code",
   "execution_count": 32,
   "metadata": {
    "collapsed": false,
    "deletable": true,
    "editable": true
   },
   "outputs": [
    {
     "name": "stdout",
     "output_type": "stream",
     "text": [
      "(49996, 2)\n"
     ]
    }
   ],
   "source": [
    "labels = np.load('/tmp/game_labels.npy')\n",
    "print (labels.shape)"
   ]
  },
  {
   "cell_type": "markdown",
   "metadata": {
    "deletable": true,
    "editable": true
   },
   "source": [
    "# Separate train and test data"
   ]
  },
  {
   "cell_type": "code",
   "execution_count": 33,
   "metadata": {
    "collapsed": false,
    "deletable": true,
    "editable": true
   },
   "outputs": [
    {
     "name": "stdout",
     "output_type": "stream",
     "text": [
      "(49996, 6, 338)\n",
      "(49996, 6, 338)\n",
      "(35996, 6, 338)\n"
     ]
    }
   ],
   "source": [
    "\n",
    "#labels_binary_length_corrected = labels.reshape((300000, 2))\n",
    "labels_binary_length_corrected = labels\n",
    "\n",
    "number_of_features_to_use = games.shape[2]\n",
    "\n",
    "data = np.zeros((games.shape[0],games.shape[1], number_of_features_to_use))\n",
    "for i in range(games.shape[0]):\n",
    "    for j in range(games.shape[1]):\n",
    "        data[i, j] = games[i,j][:number_of_features_to_use]\n",
    "print (data.shape)\n",
    "\n",
    "\n",
    "val_split = int(len(data) * 0.9)\n",
    "train_split = int(val_split * 0.8)\n",
    "print(data.shape)\n",
    "x_train = data[:train_split,:]\n",
    "y_train = labels_binary_length_corrected[:train_split,:]\n",
    "x_val = data[train_split:val_split,:]\n",
    "y_val = labels_binary_length_corrected[train_split:val_split,:]\n",
    "x_test = data[val_split:,:]\n",
    "y_test = labels_binary_length_corrected[val_split:,:]\n",
    "\n",
    "#x_train = np.reshape(x_train, x_train.shape + (1,))\n",
    "#x_test = np.reshape(x_test, x_test.shape + (1,))\n",
    "\n",
    "print(x_train.shape)"
   ]
  },
  {
   "cell_type": "code",
   "execution_count": null,
   "metadata": {
    "collapsed": false,
    "deletable": true,
    "editable": true
   },
   "outputs": [],
   "source": []
  },
  {
   "cell_type": "code",
   "execution_count": 34,
   "metadata": {
    "collapsed": false,
    "deletable": true,
    "editable": true
   },
   "outputs": [],
   "source": [
    "from keras.layers import Dense, Activation\n",
    "from keras.models import Sequential\n",
    "from keras.models import Sequential\n",
    "from keras.layers import Dense\n",
    "from keras.layers import Dropout\n",
    "from keras.layers import LSTM\n",
    "from keras.regularizers import l2\n",
    "import keras\n",
    "from sklearn.metrics import roc_auc_score\n",
    "\n",
    "\n",
    "# batch eta lambda units\n",
    "\n",
    "batch_size = 256\n",
    "#print(\"batch size: \", batch_size)\n",
    "lstm_size = 191\n",
    "#print(\"lstm size: \", lstm_size)\n",
    "regu = 0.043642676542451186\n",
    "#print(\"regularization: \", regu)\n",
    "eta = 0.0004253972368105083\n",
    "#print(\"eta: \", eta)\n",
    "dense_size = 1160\n",
    "\n",
    "model = Sequential()\n",
    "\n",
    "model.add(LSTM(\n",
    "    input_shape=(None, x_train.shape[2]),\n",
    "    units=lstm_size,\n",
    "    return_sequences=False,\n",
    "    kernel_regularizer= l2(regu))\n",
    "    )\n",
    "\n",
    "\n",
    "\n",
    "#print(\"dense size: \", dense_size)\n",
    "model.add(Dense(\n",
    "    units=dense_size))\n",
    "model.add(Activation('relu'))\n",
    "\n",
    "model.add(Dense(\n",
    "    units=2))\n",
    "model.add(Activation('softmax'))\n",
    "#model.compile(loss='mse', optimizer='rmsprop')\n",
    "model.compile(loss='categorical_crossentropy', optimizer=keras.optimizers.RMSprop(lr=eta), metrics=[keras.metrics.mae, keras.metrics.categorical_accuracy])\n",
    "\n"
   ]
  },
  {
   "cell_type": "code",
   "execution_count": 35,
   "metadata": {
    "collapsed": false,
    "deletable": true,
    "editable": true
   },
   "outputs": [
    {
     "name": "stdout",
     "output_type": "stream",
     "text": [
      "Train on 35996 samples, validate on 9000 samples\n",
      "Epoch 1/100\n",
      "2s - loss: 6.4383 - mean_absolute_error: 0.4772 - categorical_accuracy: 0.5900 - val_loss: 1.0075 - val_mean_absolute_error: 0.4649 - val_categorical_accuracy: 0.5928\n",
      "Epoch 2/100\n",
      "2s - loss: 0.7322 - mean_absolute_error: 0.4572 - categorical_accuracy: 0.6222 - val_loss: 0.6904 - val_mean_absolute_error: 0.4523 - val_categorical_accuracy: 0.6164\n",
      "Epoch 3/100\n",
      "2s - loss: 0.6677 - mean_absolute_error: 0.4514 - categorical_accuracy: 0.6292 - val_loss: 0.6732 - val_mean_absolute_error: 0.4490 - val_categorical_accuracy: 0.6137\n",
      "Epoch 4/100\n",
      "2s - loss: 0.6548 - mean_absolute_error: 0.4467 - categorical_accuracy: 0.6349 - val_loss: 0.6427 - val_mean_absolute_error: 0.4418 - val_categorical_accuracy: 0.6497\n",
      "Epoch 5/100\n",
      "2s - loss: 0.6489 - mean_absolute_error: 0.4440 - categorical_accuracy: 0.6380 - val_loss: 0.6401 - val_mean_absolute_error: 0.4413 - val_categorical_accuracy: 0.6507\n",
      "Epoch 6/100\n",
      "2s - loss: 0.6449 - mean_absolute_error: 0.4423 - categorical_accuracy: 0.6412 - val_loss: 0.6537 - val_mean_absolute_error: 0.4337 - val_categorical_accuracy: 0.6333\n",
      "Epoch 7/100\n",
      "2s - loss: 0.6421 - mean_absolute_error: 0.4404 - categorical_accuracy: 0.6433 - val_loss: 0.6333 - val_mean_absolute_error: 0.4358 - val_categorical_accuracy: 0.6528\n",
      "Epoch 8/100\n",
      "2s - loss: 0.6403 - mean_absolute_error: 0.4392 - categorical_accuracy: 0.6444 - val_loss: 0.6478 - val_mean_absolute_error: 0.4436 - val_categorical_accuracy: 0.6347\n",
      "Epoch 9/100\n",
      "2s - loss: 0.6394 - mean_absolute_error: 0.4392 - categorical_accuracy: 0.6425 - val_loss: 0.6302 - val_mean_absolute_error: 0.4369 - val_categorical_accuracy: 0.6570\n",
      "Epoch 10/100\n",
      "2s - loss: 0.6380 - mean_absolute_error: 0.4379 - categorical_accuracy: 0.6461 - val_loss: 0.6305 - val_mean_absolute_error: 0.4379 - val_categorical_accuracy: 0.6594\n",
      "Epoch 11/100\n",
      "2s - loss: 0.6372 - mean_absolute_error: 0.4375 - categorical_accuracy: 0.6428 - val_loss: 0.6315 - val_mean_absolute_error: 0.4333 - val_categorical_accuracy: 0.6523\n",
      "Epoch 12/100\n",
      "2s - loss: 0.6375 - mean_absolute_error: 0.4374 - categorical_accuracy: 0.6440 - val_loss: 0.6301 - val_mean_absolute_error: 0.4358 - val_categorical_accuracy: 0.6581\n",
      "Epoch 13/100\n",
      "2s - loss: 0.6361 - mean_absolute_error: 0.4365 - categorical_accuracy: 0.6464 - val_loss: 0.6310 - val_mean_absolute_error: 0.4339 - val_categorical_accuracy: 0.6561\n",
      "Epoch 14/100\n",
      "2s - loss: 0.6353 - mean_absolute_error: 0.4360 - categorical_accuracy: 0.6457 - val_loss: 0.6340 - val_mean_absolute_error: 0.4368 - val_categorical_accuracy: 0.6517\n",
      "Epoch 15/100\n",
      "2s - loss: 0.6356 - mean_absolute_error: 0.4360 - categorical_accuracy: 0.6443 - val_loss: 0.6377 - val_mean_absolute_error: 0.4356 - val_categorical_accuracy: 0.6429\n",
      "Epoch 16/100\n",
      "2s - loss: 0.6355 - mean_absolute_error: 0.4362 - categorical_accuracy: 0.6463 - val_loss: 0.6298 - val_mean_absolute_error: 0.4295 - val_categorical_accuracy: 0.6546\n",
      "Epoch 17/100\n",
      "2s - loss: 0.6353 - mean_absolute_error: 0.4355 - categorical_accuracy: 0.6439 - val_loss: 0.6383 - val_mean_absolute_error: 0.4393 - val_categorical_accuracy: 0.6482\n",
      "Epoch 18/100\n",
      "2s - loss: 0.6339 - mean_absolute_error: 0.4346 - categorical_accuracy: 0.6482 - val_loss: 0.6296 - val_mean_absolute_error: 0.4359 - val_categorical_accuracy: 0.6581\n",
      "Epoch 19/100\n",
      "2s - loss: 0.6341 - mean_absolute_error: 0.4355 - categorical_accuracy: 0.6450 - val_loss: 0.6409 - val_mean_absolute_error: 0.4347 - val_categorical_accuracy: 0.6453\n",
      "Epoch 20/100\n",
      "2s - loss: 0.6335 - mean_absolute_error: 0.4346 - categorical_accuracy: 0.6481 - val_loss: 0.6320 - val_mean_absolute_error: 0.4301 - val_categorical_accuracy: 0.6567\n",
      "Epoch 21/100\n",
      "2s - loss: 0.6333 - mean_absolute_error: 0.4342 - categorical_accuracy: 0.6485 - val_loss: 0.6328 - val_mean_absolute_error: 0.4349 - val_categorical_accuracy: 0.6551\n",
      "Epoch 22/100\n",
      "2s - loss: 0.6331 - mean_absolute_error: 0.4342 - categorical_accuracy: 0.6503 - val_loss: 0.6317 - val_mean_absolute_error: 0.4358 - val_categorical_accuracy: 0.6519\n",
      "Epoch 23/100\n",
      "2s - loss: 0.6323 - mean_absolute_error: 0.4338 - categorical_accuracy: 0.6492 - val_loss: 0.6291 - val_mean_absolute_error: 0.4279 - val_categorical_accuracy: 0.6558\n",
      "Epoch 24/100\n",
      "2s - loss: 0.6320 - mean_absolute_error: 0.4331 - categorical_accuracy: 0.6490 - val_loss: 0.6324 - val_mean_absolute_error: 0.4366 - val_categorical_accuracy: 0.6540\n",
      "Epoch 25/100\n",
      "2s - loss: 0.6317 - mean_absolute_error: 0.4331 - categorical_accuracy: 0.6498 - val_loss: 0.6340 - val_mean_absolute_error: 0.4363 - val_categorical_accuracy: 0.6506\n",
      "Epoch 26/100\n",
      "2s - loss: 0.6314 - mean_absolute_error: 0.4327 - categorical_accuracy: 0.6491 - val_loss: 0.6321 - val_mean_absolute_error: 0.4379 - val_categorical_accuracy: 0.6541\n",
      "Epoch 27/100\n",
      "2s - loss: 0.6314 - mean_absolute_error: 0.4327 - categorical_accuracy: 0.6504 - val_loss: 0.6417 - val_mean_absolute_error: 0.4395 - val_categorical_accuracy: 0.6393\n",
      "Epoch 28/100\n",
      "2s - loss: 0.6312 - mean_absolute_error: 0.4322 - categorical_accuracy: 0.6512 - val_loss: 0.6362 - val_mean_absolute_error: 0.4326 - val_categorical_accuracy: 0.6503\n",
      "Epoch 29/100\n",
      "2s - loss: 0.6321 - mean_absolute_error: 0.4327 - categorical_accuracy: 0.6501 - val_loss: 0.6347 - val_mean_absolute_error: 0.4403 - val_categorical_accuracy: 0.6494\n",
      "Epoch 30/100\n",
      "2s - loss: 0.6306 - mean_absolute_error: 0.4322 - categorical_accuracy: 0.6511 - val_loss: 0.6425 - val_mean_absolute_error: 0.4268 - val_categorical_accuracy: 0.6469\n",
      "Epoch 31/100\n",
      "2s - loss: 0.6313 - mean_absolute_error: 0.4320 - categorical_accuracy: 0.6520 - val_loss: 0.6321 - val_mean_absolute_error: 0.4353 - val_categorical_accuracy: 0.6542\n",
      "Epoch 32/100\n",
      "2s - loss: 0.6306 - mean_absolute_error: 0.4314 - categorical_accuracy: 0.6526 - val_loss: 0.6406 - val_mean_absolute_error: 0.4327 - val_categorical_accuracy: 0.6491\n",
      "Epoch 33/100\n",
      "2s - loss: 0.6301 - mean_absolute_error: 0.4309 - categorical_accuracy: 0.6533 - val_loss: 0.6375 - val_mean_absolute_error: 0.4346 - val_categorical_accuracy: 0.6463\n",
      "Epoch 34/100\n",
      "2s - loss: 0.6294 - mean_absolute_error: 0.4304 - categorical_accuracy: 0.6549 - val_loss: 0.6359 - val_mean_absolute_error: 0.4302 - val_categorical_accuracy: 0.6496\n",
      "Epoch 35/100\n",
      "2s - loss: 0.6296 - mean_absolute_error: 0.4308 - categorical_accuracy: 0.6521 - val_loss: 0.6323 - val_mean_absolute_error: 0.4318 - val_categorical_accuracy: 0.6544\n",
      "Epoch 36/100\n",
      "2s - loss: 0.6296 - mean_absolute_error: 0.4300 - categorical_accuracy: 0.6549 - val_loss: 0.6373 - val_mean_absolute_error: 0.4360 - val_categorical_accuracy: 0.6451\n",
      "Epoch 37/100\n",
      "2s - loss: 0.6294 - mean_absolute_error: 0.4307 - categorical_accuracy: 0.6540 - val_loss: 0.6323 - val_mean_absolute_error: 0.4277 - val_categorical_accuracy: 0.6526\n",
      "Epoch 38/100\n",
      "2s - loss: 0.6292 - mean_absolute_error: 0.4294 - categorical_accuracy: 0.6535 - val_loss: 0.6378 - val_mean_absolute_error: 0.4372 - val_categorical_accuracy: 0.6443\n",
      "Epoch 39/100\n",
      "2s - loss: 0.6288 - mean_absolute_error: 0.4299 - categorical_accuracy: 0.6550 - val_loss: 0.6354 - val_mean_absolute_error: 0.4389 - val_categorical_accuracy: 0.6510\n",
      "Epoch 40/100\n",
      "2s - loss: 0.6285 - mean_absolute_error: 0.4295 - categorical_accuracy: 0.6542 - val_loss: 0.6339 - val_mean_absolute_error: 0.4312 - val_categorical_accuracy: 0.6519\n",
      "Epoch 41/100\n",
      "2s - loss: 0.6284 - mean_absolute_error: 0.4294 - categorical_accuracy: 0.6557 - val_loss: 0.6314 - val_mean_absolute_error: 0.4328 - val_categorical_accuracy: 0.6502\n",
      "Epoch 42/100\n",
      "2s - loss: 0.6281 - mean_absolute_error: 0.4290 - categorical_accuracy: 0.6572 - val_loss: 0.6318 - val_mean_absolute_error: 0.4297 - val_categorical_accuracy: 0.6519\n",
      "Epoch 43/100\n",
      "2s - loss: 0.6276 - mean_absolute_error: 0.4285 - categorical_accuracy: 0.6560 - val_loss: 0.6410 - val_mean_absolute_error: 0.4357 - val_categorical_accuracy: 0.6418\n",
      "Epoch 44/100\n",
      "2s - loss: 0.6277 - mean_absolute_error: 0.4289 - categorical_accuracy: 0.6568 - val_loss: 0.6357 - val_mean_absolute_error: 0.4266 - val_categorical_accuracy: 0.6529\n",
      "Epoch 45/100\n",
      "2s - loss: 0.6272 - mean_absolute_error: 0.4278 - categorical_accuracy: 0.6567 - val_loss: 0.6313 - val_mean_absolute_error: 0.4307 - val_categorical_accuracy: 0.6531\n",
      "Epoch 46/100\n",
      "2s - loss: 0.6266 - mean_absolute_error: 0.4280 - categorical_accuracy: 0.6566 - val_loss: 0.6324 - val_mean_absolute_error: 0.4277 - val_categorical_accuracy: 0.6506\n",
      "Epoch 47/100\n",
      "2s - loss: 0.6264 - mean_absolute_error: 0.4276 - categorical_accuracy: 0.6579 - val_loss: 0.6360 - val_mean_absolute_error: 0.4300 - val_categorical_accuracy: 0.6508\n",
      "Epoch 48/100\n",
      "2s - loss: 0.6257 - mean_absolute_error: 0.4266 - categorical_accuracy: 0.6586 - val_loss: 0.6324 - val_mean_absolute_error: 0.4281 - val_categorical_accuracy: 0.6542\n",
      "Epoch 49/100\n",
      "2s - loss: 0.6249 - mean_absolute_error: 0.4260 - categorical_accuracy: 0.6567 - val_loss: 0.6425 - val_mean_absolute_error: 0.4303 - val_categorical_accuracy: 0.6443\n",
      "Epoch 50/100\n",
      "2s - loss: 0.6249 - mean_absolute_error: 0.4260 - categorical_accuracy: 0.6615 - val_loss: 0.6342 - val_mean_absolute_error: 0.4337 - val_categorical_accuracy: 0.6526\n",
      "Epoch 51/100\n",
      "2s - loss: 0.6240 - mean_absolute_error: 0.4248 - categorical_accuracy: 0.6590 - val_loss: 0.6355 - val_mean_absolute_error: 0.4320 - val_categorical_accuracy: 0.6531\n",
      "Epoch 52/100\n",
      "2s - loss: 0.6239 - mean_absolute_error: 0.4252 - categorical_accuracy: 0.6612 - val_loss: 0.6422 - val_mean_absolute_error: 0.4258 - val_categorical_accuracy: 0.6456\n",
      "Epoch 53/100\n",
      "2s - loss: 0.6247 - mean_absolute_error: 0.4255 - categorical_accuracy: 0.6603 - val_loss: 0.6344 - val_mean_absolute_error: 0.4310 - val_categorical_accuracy: 0.6508\n",
      "Epoch 54/100\n",
      "2s - loss: 0.6235 - mean_absolute_error: 0.4245 - categorical_accuracy: 0.6593 - val_loss: 0.6344 - val_mean_absolute_error: 0.4304 - val_categorical_accuracy: 0.6490\n",
      "Epoch 55/100\n",
      "2s - loss: 0.6236 - mean_absolute_error: 0.4247 - categorical_accuracy: 0.6626 - val_loss: 0.6418 - val_mean_absolute_error: 0.4317 - val_categorical_accuracy: 0.6440\n",
      "Epoch 56/100\n",
      "2s - loss: 0.6243 - mean_absolute_error: 0.4251 - categorical_accuracy: 0.6594 - val_loss: 0.6348 - val_mean_absolute_error: 0.4289 - val_categorical_accuracy: 0.6542\n",
      "Epoch 57/100\n",
      "2s - loss: 0.6228 - mean_absolute_error: 0.4237 - categorical_accuracy: 0.6619 - val_loss: 0.6524 - val_mean_absolute_error: 0.4277 - val_categorical_accuracy: 0.6389\n",
      "Epoch 58/100\n",
      "2s - loss: 0.6231 - mean_absolute_error: 0.4238 - categorical_accuracy: 0.6620 - val_loss: 0.6423 - val_mean_absolute_error: 0.4325 - val_categorical_accuracy: 0.6440\n",
      "Epoch 59/100\n",
      "2s - loss: 0.6234 - mean_absolute_error: 0.4240 - categorical_accuracy: 0.6620 - val_loss: 0.6423 - val_mean_absolute_error: 0.4319 - val_categorical_accuracy: 0.6481\n",
      "Epoch 60/100\n",
      "2s - loss: 0.6237 - mean_absolute_error: 0.4242 - categorical_accuracy: 0.6600 - val_loss: 0.6367 - val_mean_absolute_error: 0.4271 - val_categorical_accuracy: 0.6542\n",
      "Epoch 61/100\n",
      "2s - loss: 0.6232 - mean_absolute_error: 0.4239 - categorical_accuracy: 0.6610 - val_loss: 0.6417 - val_mean_absolute_error: 0.4286 - val_categorical_accuracy: 0.6432\n",
      "Epoch 62/100\n",
      "2s - loss: 0.6230 - mean_absolute_error: 0.4235 - categorical_accuracy: 0.6608 - val_loss: 0.6365 - val_mean_absolute_error: 0.4314 - val_categorical_accuracy: 0.6542\n",
      "Epoch 63/100\n",
      "2s - loss: 0.6221 - mean_absolute_error: 0.4227 - categorical_accuracy: 0.6620 - val_loss: 0.6370 - val_mean_absolute_error: 0.4286 - val_categorical_accuracy: 0.6539\n",
      "Epoch 64/100\n",
      "2s - loss: 0.6225 - mean_absolute_error: 0.4227 - categorical_accuracy: 0.6617 - val_loss: 0.6410 - val_mean_absolute_error: 0.4356 - val_categorical_accuracy: 0.6467\n",
      "Epoch 65/100\n",
      "2s - loss: 0.6222 - mean_absolute_error: 0.4231 - categorical_accuracy: 0.6638 - val_loss: 0.6460 - val_mean_absolute_error: 0.4290 - val_categorical_accuracy: 0.6436\n",
      "Epoch 66/100\n",
      "2s - loss: 0.6229 - mean_absolute_error: 0.4227 - categorical_accuracy: 0.6627 - val_loss: 0.6388 - val_mean_absolute_error: 0.4328 - val_categorical_accuracy: 0.6516\n",
      "Epoch 67/100\n",
      "2s - loss: 0.6222 - mean_absolute_error: 0.4219 - categorical_accuracy: 0.6631 - val_loss: 0.6394 - val_mean_absolute_error: 0.4314 - val_categorical_accuracy: 0.6473\n",
      "Epoch 68/100\n",
      "2s - loss: 0.6217 - mean_absolute_error: 0.4221 - categorical_accuracy: 0.6649 - val_loss: 0.6395 - val_mean_absolute_error: 0.4321 - val_categorical_accuracy: 0.6500\n",
      "Epoch 69/100\n",
      "2s - loss: 0.6224 - mean_absolute_error: 0.4221 - categorical_accuracy: 0.6638 - val_loss: 0.6438 - val_mean_absolute_error: 0.4322 - val_categorical_accuracy: 0.6496\n",
      "Epoch 70/100\n",
      "2s - loss: 0.6216 - mean_absolute_error: 0.4213 - categorical_accuracy: 0.6670 - val_loss: 0.6543 - val_mean_absolute_error: 0.4363 - val_categorical_accuracy: 0.6330\n",
      "Epoch 71/100\n",
      "2s - loss: 0.6213 - mean_absolute_error: 0.4213 - categorical_accuracy: 0.6648 - val_loss: 0.6433 - val_mean_absolute_error: 0.4318 - val_categorical_accuracy: 0.6487\n",
      "Epoch 72/100\n",
      "2s - loss: 0.6210 - mean_absolute_error: 0.4204 - categorical_accuracy: 0.6639 - val_loss: 0.6409 - val_mean_absolute_error: 0.4334 - val_categorical_accuracy: 0.6520\n",
      "Epoch 73/100\n",
      "2s - loss: 0.6207 - mean_absolute_error: 0.4200 - categorical_accuracy: 0.6657 - val_loss: 0.6422 - val_mean_absolute_error: 0.4272 - val_categorical_accuracy: 0.6494\n",
      "Epoch 74/100\n",
      "2s - loss: 0.6200 - mean_absolute_error: 0.4192 - categorical_accuracy: 0.6650 - val_loss: 0.6440 - val_mean_absolute_error: 0.4339 - val_categorical_accuracy: 0.6461\n",
      "Epoch 75/100\n",
      "2s - loss: 0.6199 - mean_absolute_error: 0.4194 - categorical_accuracy: 0.6681 - val_loss: 0.6464 - val_mean_absolute_error: 0.4310 - val_categorical_accuracy: 0.6471\n",
      "Epoch 76/100\n",
      "2s - loss: 0.6198 - mean_absolute_error: 0.4190 - categorical_accuracy: 0.6665 - val_loss: 0.6556 - val_mean_absolute_error: 0.4339 - val_categorical_accuracy: 0.6337\n",
      "Epoch 77/100\n",
      "2s - loss: 0.6203 - mean_absolute_error: 0.4196 - categorical_accuracy: 0.6655 - val_loss: 0.6429 - val_mean_absolute_error: 0.4290 - val_categorical_accuracy: 0.6493\n",
      "Epoch 78/100\n",
      "2s - loss: 0.6196 - mean_absolute_error: 0.4184 - categorical_accuracy: 0.6680 - val_loss: 0.6505 - val_mean_absolute_error: 0.4261 - val_categorical_accuracy: 0.6409\n",
      "Epoch 79/100\n",
      "2s - loss: 0.6186 - mean_absolute_error: 0.4178 - categorical_accuracy: 0.6694 - val_loss: 0.6460 - val_mean_absolute_error: 0.4271 - val_categorical_accuracy: 0.6477\n",
      "Epoch 80/100\n",
      "2s - loss: 0.6191 - mean_absolute_error: 0.4177 - categorical_accuracy: 0.6673 - val_loss: 0.6448 - val_mean_absolute_error: 0.4278 - val_categorical_accuracy: 0.6488\n",
      "Epoch 81/100\n",
      "2s - loss: 0.6183 - mean_absolute_error: 0.4172 - categorical_accuracy: 0.6693 - val_loss: 0.6465 - val_mean_absolute_error: 0.4309 - val_categorical_accuracy: 0.6466\n",
      "Epoch 82/100\n",
      "2s - loss: 0.6177 - mean_absolute_error: 0.4163 - categorical_accuracy: 0.6689 - val_loss: 0.6473 - val_mean_absolute_error: 0.4315 - val_categorical_accuracy: 0.6426\n",
      "Epoch 83/100\n",
      "2s - loss: 0.6186 - mean_absolute_error: 0.4170 - categorical_accuracy: 0.6694 - val_loss: 0.6473 - val_mean_absolute_error: 0.4293 - val_categorical_accuracy: 0.6484\n",
      "Epoch 84/100\n",
      "2s - loss: 0.6172 - mean_absolute_error: 0.4157 - categorical_accuracy: 0.6704 - val_loss: 0.6566 - val_mean_absolute_error: 0.4402 - val_categorical_accuracy: 0.6358\n",
      "Epoch 85/100\n",
      "2s - loss: 0.6180 - mean_absolute_error: 0.4163 - categorical_accuracy: 0.6699 - val_loss: 0.6501 - val_mean_absolute_error: 0.4338 - val_categorical_accuracy: 0.6386\n",
      "Epoch 86/100\n",
      "2s - loss: 0.6174 - mean_absolute_error: 0.4155 - categorical_accuracy: 0.6694 - val_loss: 0.6560 - val_mean_absolute_error: 0.4299 - val_categorical_accuracy: 0.6378\n",
      "Epoch 87/100\n",
      "2s - loss: 0.6175 - mean_absolute_error: 0.4155 - categorical_accuracy: 0.6721 - val_loss: 0.6501 - val_mean_absolute_error: 0.4269 - val_categorical_accuracy: 0.6488\n",
      "Epoch 88/100\n",
      "2s - loss: 0.6170 - mean_absolute_error: 0.4153 - categorical_accuracy: 0.6721 - val_loss: 0.6555 - val_mean_absolute_error: 0.4308 - val_categorical_accuracy: 0.6419\n",
      "Epoch 89/100\n",
      "2s - loss: 0.6175 - mean_absolute_error: 0.4152 - categorical_accuracy: 0.6697 - val_loss: 0.6613 - val_mean_absolute_error: 0.4347 - val_categorical_accuracy: 0.6312\n",
      "Epoch 90/100\n",
      "2s - loss: 0.6168 - mean_absolute_error: 0.4155 - categorical_accuracy: 0.6712 - val_loss: 0.6513 - val_mean_absolute_error: 0.4263 - val_categorical_accuracy: 0.6424\n",
      "Epoch 91/100\n",
      "2s - loss: 0.6168 - mean_absolute_error: 0.4142 - categorical_accuracy: 0.6721 - val_loss: 0.6518 - val_mean_absolute_error: 0.4353 - val_categorical_accuracy: 0.6389\n",
      "Epoch 92/100\n",
      "2s - loss: 0.6170 - mean_absolute_error: 0.4147 - categorical_accuracy: 0.6716 - val_loss: 0.6510 - val_mean_absolute_error: 0.4327 - val_categorical_accuracy: 0.6436\n",
      "Epoch 93/100\n",
      "2s - loss: 0.6165 - mean_absolute_error: 0.4143 - categorical_accuracy: 0.6722 - val_loss: 0.6501 - val_mean_absolute_error: 0.4311 - val_categorical_accuracy: 0.6498\n",
      "Epoch 94/100\n",
      "2s - loss: 0.6166 - mean_absolute_error: 0.4142 - categorical_accuracy: 0.6721 - val_loss: 0.6505 - val_mean_absolute_error: 0.4284 - val_categorical_accuracy: 0.6410\n",
      "Epoch 95/100\n",
      "2s - loss: 0.6160 - mean_absolute_error: 0.4139 - categorical_accuracy: 0.6727 - val_loss: 0.6497 - val_mean_absolute_error: 0.4308 - val_categorical_accuracy: 0.6436\n",
      "Epoch 96/100\n",
      "2s - loss: 0.6164 - mean_absolute_error: 0.4141 - categorical_accuracy: 0.6718 - val_loss: 0.6519 - val_mean_absolute_error: 0.4246 - val_categorical_accuracy: 0.6479\n",
      "Epoch 97/100\n",
      "2s - loss: 0.6150 - mean_absolute_error: 0.4134 - categorical_accuracy: 0.6718 - val_loss: 0.6503 - val_mean_absolute_error: 0.4303 - val_categorical_accuracy: 0.6456\n",
      "Epoch 98/100\n",
      "2s - loss: 0.6160 - mean_absolute_error: 0.4137 - categorical_accuracy: 0.6721 - val_loss: 0.6513 - val_mean_absolute_error: 0.4332 - val_categorical_accuracy: 0.6441\n",
      "Epoch 99/100\n",
      "2s - loss: 0.6144 - mean_absolute_error: 0.4127 - categorical_accuracy: 0.6740 - val_loss: 0.6574 - val_mean_absolute_error: 0.4236 - val_categorical_accuracy: 0.6442\n",
      "Epoch 100/100\n",
      "2s - loss: 0.6151 - mean_absolute_error: 0.4122 - categorical_accuracy: 0.6734 - val_loss: 0.6569 - val_mean_absolute_error: 0.4307 - val_categorical_accuracy: 0.6370\n"
     ]
    }
   ],
   "source": [
    "model_checkpoint = keras.callbacks.ModelCheckpoint('/tmp/best_weights', monitor='val_categorical_accuracy', verbose=0, save_best_only=True, save_weights_only=False, mode='auto', period=1)\n",
    "history = model.fit(x_train, y_train, epochs=100, batch_size=batch_size, validation_split=0.0, validation_data=(x_val, y_val), verbose=2, callbacks = [model_checkpoint])\n",
    "\n"
   ]
  },
  {
   "cell_type": "code",
   "execution_count": 36,
   "metadata": {
    "collapsed": false,
    "deletable": true,
    "editable": true
   },
   "outputs": [],
   "source": [
    "\n",
    "model.load_weights('/tmp/best_weights')\n",
    "\n"
   ]
  },
  {
   "cell_type": "code",
   "execution_count": 37,
   "metadata": {
    "collapsed": false,
    "deletable": true,
    "editable": true
   },
   "outputs": [
    {
     "name": "stdout",
     "output_type": "stream",
     "text": [
      "[0.63050933631261186, 0.43785759422514176, 0.6594444444444445]\n"
     ]
    }
   ],
   "source": [
    "# Test loss and accuracy\n",
    "loss_and_metrics1 = model.evaluate(x_val, y_val, verbose=2)\n",
    "print(loss_and_metrics1)\n"
   ]
  },
  {
   "cell_type": "code",
   "execution_count": 38,
   "metadata": {
    "collapsed": false,
    "deletable": true,
    "editable": true
   },
   "outputs": [
    {
     "name": "stdout",
     "output_type": "stream",
     "text": [
      "[0.63050933631261186, 0.43785759422514176, 0.6594444444444445]\n"
     ]
    }
   ],
   "source": [
    "## Calculate AUC\n",
    "y_pred = model.predict_proba(x_val, verbose=0)\n",
    "score1 = roc_auc_score(y_val, y_pred)\n",
    "\n",
    "## Remove uncertain predictions\n",
    "ind1 = y_pred[:,0] > 0.6\n",
    "ind2 = y_pred[:,1] > 0.6\n",
    "ind = ind1 + ind2\n",
    "y_pred2 = y_pred[ind,:]\n",
    "y_val2 = y_val[ind,:]\n",
    "x_val2 = x_val[ind,:]\n",
    "#print(ind)\n",
    "#print(y_pred2.shape)\n",
    "#print(y_pred.shape)\n",
    "score2 = roc_auc_score(y_val2, y_pred2)\n",
    "#print(score2)\n",
    "\n",
    "loss_and_metrics2 = model.evaluate(x_val2, y_val2, verbose=2)\n",
    "print(loss_and_metrics1)\n",
    "\n"
   ]
  },
  {
   "cell_type": "code",
   "execution_count": null,
   "metadata": {
    "collapsed": true,
    "deletable": true,
    "editable": true
   },
   "outputs": [],
   "source": []
  },
  {
   "cell_type": "code",
   "execution_count": null,
   "metadata": {
    "collapsed": false,
    "deletable": true,
    "editable": true
   },
   "outputs": [],
   "source": []
  },
  {
   "cell_type": "code",
   "execution_count": 39,
   "metadata": {
    "collapsed": false,
    "deletable": true,
    "editable": true
   },
   "outputs": [
    {
     "name": "stdout",
     "output_type": "stream",
     "text": [
      "dict_keys(['categorical_accuracy', 'mean_absolute_error', 'loss', 'val_categorical_accuracy', 'val_loss', 'val_mean_absolute_error'])\n"
     ]
    },
    {
     "data": {
      "image/png": "[encoded data removed]",
      "text/plain": [
       "<matplotlib.figure.Figure at 0x7f719801bdd8>"
      ]
     },
     "metadata": {},
     "output_type": "display_data"
    },
    {
     "data": {
      "image/png": "[encoded data removed]",
      "text/plain": [
       "<matplotlib.figure.Figure at 0x7f718ceb5f28>"
      ]
     },
     "metadata": {},
     "output_type": "display_data"
    }
   ],
   "source": [
    "import matplotlib.pyplot as plt\n",
    "# list all data in history\n",
    "print(history.history.keys())\n",
    "# summarize history for accuracy\n",
    "plt.plot(history.history['categorical_accuracy'])\n",
    "plt.plot(history.history['val_categorical_accuracy'])\n",
    "plt.title('Model Accuracy')\n",
    "plt.ylabel('Accuracy')\n",
    "plt.xlabel('Epoch')\n",
    "plt.legend(['Train', 'Validation'], loc='upper left')\n",
    "plt.savefig('acc_expert')\n",
    "plt.show()\n",
    "# summarize history for loss\n",
    "plt.plot(history.history['loss'])\n",
    "plt.plot(history.history['val_loss'])\n",
    "plt.title('Model Loss')\n",
    "plt.ylabel('Loss')\n",
    "plt.xlabel('Epoch')\n",
    "plt.legend(['Train', 'Validation'], loc='upper right')\n",
    "plt.show()"
   ]
  },
  {
   "cell_type": "markdown",
   "metadata": {
    "deletable": true,
    "editable": true
   },
   "source": [
    "# AUC score"
   ]
  },
  {
   "cell_type": "code",
   "execution_count": 40,
   "metadata": {
    "collapsed": false,
    "deletable": true,
    "editable": true
   },
   "outputs": [
    {
     "name": "stdout",
     "output_type": "stream",
     "text": [
      "0.708129717862\n"
     ]
    }
   ],
   "source": [
    "from sklearn.metrics import roc_auc_score\n",
    "y_pred = model.predict_proba(x_test, verbose=0)\n",
    "score = roc_auc_score(y_test, y_pred)\n",
    "print(score)"
   ]
  },
  {
   "cell_type": "markdown",
   "metadata": {
    "deletable": true,
    "editable": true
   },
   "source": [
    "# Remove unsure predictions"
   ]
  },
  {
   "cell_type": "code",
   "execution_count": 41,
   "metadata": {
    "collapsed": false,
    "deletable": true,
    "editable": true
   },
   "outputs": [
    {
     "name": "stdout",
     "output_type": "stream",
     "text": [
      "[ True  True False ..., False False False]\n",
      "(2876, 2)\n",
      "(5000, 2)\n",
      "0.762912631077\n",
      "[0.5846955244829658, 0.39833466416439856, 0.72635605031823913]\n"
     ]
    }
   ],
   "source": [
    "y_pred = model.predict_proba(x_test, verbose=0)\n",
    "ind1 = y_pred[:,0] > 0.6\n",
    "ind2 = y_pred[:,1] > 0.6\n",
    "ind = ind1 + ind2\n",
    "y_pred2 = y_pred[ind]\n",
    "y_test2 = y_test[ind]\n",
    "x_test2 = x_test[ind]\n",
    "print(ind)\n",
    "print(y_pred2.shape)\n",
    "print(y_pred.shape)\n",
    "score = roc_auc_score(y_test2, y_pred2)\n",
    "print(score)\n",
    "\n",
    "loss_and_metrics = model.evaluate(x_test2, y_test2, verbose=2)\n",
    "print(loss_and_metrics)"
   ]
  },
  {
   "cell_type": "code",
   "execution_count": null,
   "metadata": {
    "collapsed": true,
    "deletable": true,
    "editable": true
   },
   "outputs": [],
   "source": []
  },
  {
   "cell_type": "code",
   "execution_count": null,
   "metadata": {
    "collapsed": true,
    "deletable": true,
    "editable": true
   },
   "outputs": [],
   "source": []
  },
  {
   "cell_type": "code",
   "execution_count": null,
   "metadata": {
    "collapsed": true,
    "deletable": true,
    "editable": true
   },
   "outputs": [],
   "source": []
  },
  {
   "cell_type": "code",
   "execution_count": null,
   "metadata": {
    "collapsed": true
   },
   "outputs": [],
   "source": []
  }
 ],
 "metadata": {
  "kernelspec": {
   "display_name": "Python 3",
   "language": "python",
   "name": "python3"
  },
  "language_info": {
   "codemirror_mode": {
    "name": "ipython",
    "version": 3
   },
   "file_extension": ".py",
   "mimetype": "text/x-python",
   "name": "python",
   "nbconvert_exporter": "python",
   "pygments_lexer": "ipython3",
   "version": "3.5.1+"
  }
 },
 "nbformat": 4,
 "nbformat_minor": 2
}
