{
 "cells": [
  {
   "cell_type": "markdown",
   "metadata": {
    "deletable": true,
    "editable": true
   },
   "source": [
    "# Import timeframe data"
   ]
  },
  {
   "cell_type": "code",
   "execution_count": 139,
   "metadata": {
    "collapsed": true,
    "deletable": true,
    "editable": true
   },
   "outputs": [],
   "source": [
    "import numpy as np\n"
   ]
  },
  {
   "cell_type": "markdown",
   "metadata": {
    "deletable": true,
    "editable": true
   },
   "source": [
    "# Import data"
   ]
  },
  {
   "cell_type": "code",
   "execution_count": 140,
   "metadata": {
    "collapsed": false,
    "deletable": true,
    "editable": true
   },
   "outputs": [
    {
     "name": "stdout",
     "output_type": "stream",
     "text": [
      "(49996, 6, 704)\n"
     ]
    }
   ],
   "source": [
    "games = np.load('/tmp/game_data.npy')\n",
    "print (games.shape)"
   ]
  },
  {
   "cell_type": "markdown",
   "metadata": {
    "deletable": true,
    "editable": true
   },
   "source": [
    "# Look at data"
   ]
  },
  {
   "cell_type": "code",
   "execution_count": 141,
   "metadata": {
    "collapsed": false,
    "deletable": true,
    "editable": true
   },
   "outputs": [],
   "source": [
    "#print(games[1][4])"
   ]
  },
  {
   "cell_type": "code",
   "execution_count": 142,
   "metadata": {
    "collapsed": false,
    "deletable": true,
    "editable": true
   },
   "outputs": [
    {
     "name": "stdout",
     "output_type": "stream",
     "text": [
      "(49996, 2)\n"
     ]
    }
   ],
   "source": [
    "labels = np.load('/tmp/game_labels.npy')\n",
    "print (labels.shape)"
   ]
  },
  {
   "cell_type": "markdown",
   "metadata": {
    "deletable": true,
    "editable": true
   },
   "source": [
    "# Separate train and test data"
   ]
  },
  {
   "cell_type": "code",
   "execution_count": 143,
   "metadata": {
    "collapsed": false,
    "deletable": true,
    "editable": true
   },
   "outputs": [
    {
     "name": "stdout",
     "output_type": "stream",
     "text": [
      "(49996, 6, 704)\n",
      "(49996, 6, 704)\n",
      "(44996, 6, 704)\n"
     ]
    }
   ],
   "source": [
    "\n",
    "#labels_binary_length_corrected = labels.reshape((300000, 2))\n",
    "labels_binary_length_corrected = labels\n",
    "\n",
    "number_of_features_to_use = games.shape[2]\n",
    "\n",
    "data = np.zeros((games.shape[0],games.shape[1], number_of_features_to_use))\n",
    "for i in range(games.shape[0]):\n",
    "    for j in range(games.shape[1]):\n",
    "        data[i, j] = games[i,j][:number_of_features_to_use]\n",
    "print (data.shape)\n",
    "\n",
    "\n",
    "num_train_examples = int(len(data) * 0.9)\n",
    "print(data.shape)\n",
    "x_train = data[:num_train_examples,:]\n",
    "y_train = labels_binary_length_corrected[:num_train_examples,:]\n",
    "x_test = data[num_train_examples:,:]\n",
    "y_test = labels_binary_length_corrected[num_train_examples:,:]\n",
    "\n",
    "#x_train = np.reshape(x_train, x_train.shape + (1,))\n",
    "#x_test = np.reshape(x_test, x_test.shape + (1,))\n",
    "\n",
    "print(x_train.shape)"
   ]
  },
  {
   "cell_type": "code",
   "execution_count": null,
   "metadata": {
    "collapsed": false,
    "deletable": true,
    "editable": true
   },
   "outputs": [],
   "source": []
  },
  {
   "cell_type": "code",
   "execution_count": 169,
   "metadata": {
    "collapsed": false,
    "deletable": true,
    "editable": true
   },
   "outputs": [],
   "source": [
    "from keras.layers import Dense, Activation\n",
    "from keras.models import Sequential\n",
    "from keras.models import Sequential\n",
    "from keras.layers import Dense\n",
    "from keras.layers import Dropout\n",
    "from keras.layers import LSTM\n",
    "from keras.regularizers import l2\n",
    "import keras\n",
    "\n",
    "model = Sequential()\n",
    "\n",
    "model.add(LSTM(\n",
    "    input_shape=(None, x_train.shape[2]),\n",
    "    units=500,\n",
    "    return_sequences=False,\n",
    "    kernel_regularizer= l2(0.01))\n",
    "    )\n",
    "model.add(Dense(\n",
    "    units=2000))\n",
    "model.add(Activation('relu'))\n",
    "model.add(Dropout(0.2))\n",
    "\n",
    "model.add(Dense(\n",
    "    units=200))\n",
    "model.add(Activation('relu'))\n",
    "model.add(Dropout(0.2))\n",
    "\n",
    "model.add(Dense(\n",
    "    units=2))\n",
    "model.add(Activation('softmax'))\n",
    "#model.compile(loss='mse', optimizer='rmsprop')\n",
    "model.compile(loss='categorical_crossentropy', optimizer=keras.optimizers.RMSprop(lr=0.0001), metrics=[keras.metrics.mae, keras.metrics.categorical_accuracy])\n",
    "#model.compile(loss=keras.losses.categorical_crossentropy,\n",
    "#             optimizer=keras.optimizers.SGD(lr=0.0001, momentum=0.0, nesterov=False),\n",
    "#             metrics=[keras.metrics.mae, keras.metrics.categorical_accuracy])"
   ]
  },
  {
   "cell_type": "code",
   "execution_count": null,
   "metadata": {
    "collapsed": false,
    "deletable": true,
    "editable": true
   },
   "outputs": [],
   "source": []
  },
  {
   "cell_type": "code",
   "execution_count": 170,
   "metadata": {
    "collapsed": false,
    "deletable": true,
    "editable": true
   },
   "outputs": [
    {
     "name": "stdout",
     "output_type": "stream",
     "text": [
      "Train on 35996 samples, validate on 9000 samples\n",
      "Epoch 1/20\n",
      "4s - loss: 9.5764 - mean_absolute_error: 0.4883 - categorical_accuracy: 0.5738 - val_loss: 8.4455 - val_mean_absolute_error: 0.4750 - val_categorical_accuracy: 0.5869\n",
      "Epoch 2/20\n",
      "3s - loss: 7.5755 - mean_absolute_error: 0.4648 - categorical_accuracy: 0.6165 - val_loss: 6.7113 - val_mean_absolute_error: 0.4557 - val_categorical_accuracy: 0.6406\n",
      "Epoch 3/20\n",
      "3s - loss: 6.0068 - mean_absolute_error: 0.4536 - categorical_accuracy: 0.6299 - val_loss: 5.2899 - val_mean_absolute_error: 0.4457 - val_categorical_accuracy: 0.6532\n",
      "Epoch 4/20\n",
      "3s - loss: 4.7118 - mean_absolute_error: 0.4480 - categorical_accuracy: 0.6368 - val_loss: 4.1282 - val_mean_absolute_error: 0.4409 - val_categorical_accuracy: 0.6463\n",
      "Epoch 5/20\n",
      "3s - loss: 3.6572 - mean_absolute_error: 0.4429 - categorical_accuracy: 0.6404 - val_loss: 3.1859 - val_mean_absolute_error: 0.4399 - val_categorical_accuracy: 0.6568\n",
      "Epoch 6/20\n",
      "3s - loss: 2.8181 - mean_absolute_error: 0.4413 - categorical_accuracy: 0.6448 - val_loss: 2.4593 - val_mean_absolute_error: 0.4381 - val_categorical_accuracy: 0.6426\n",
      "Epoch 7/20\n",
      "3s - loss: 2.1659 - mean_absolute_error: 0.4397 - categorical_accuracy: 0.6435 - val_loss: 1.8853 - val_mean_absolute_error: 0.4377 - val_categorical_accuracy: 0.6569\n",
      "Epoch 8/20\n",
      "3s - loss: 1.6744 - mean_absolute_error: 0.4377 - categorical_accuracy: 0.6491 - val_loss: 1.4680 - val_mean_absolute_error: 0.4350 - val_categorical_accuracy: 0.6570\n",
      "Epoch 9/20\n",
      "3s - loss: 1.3186 - mean_absolute_error: 0.4346 - categorical_accuracy: 0.6526 - val_loss: 1.1769 - val_mean_absolute_error: 0.4359 - val_categorical_accuracy: 0.6562\n",
      "Epoch 10/20\n",
      "3s - loss: 1.0789 - mean_absolute_error: 0.4356 - categorical_accuracy: 0.6534 - val_loss: 0.9870 - val_mean_absolute_error: 0.4331 - val_categorical_accuracy: 0.6583\n",
      "Epoch 11/20\n",
      "3s - loss: 0.9261 - mean_absolute_error: 0.4330 - categorical_accuracy: 0.6545 - val_loss: 0.8756 - val_mean_absolute_error: 0.4332 - val_categorical_accuracy: 0.6543\n",
      "Epoch 12/20\n",
      "3s - loss: 0.8380 - mean_absolute_error: 0.4313 - categorical_accuracy: 0.6586 - val_loss: 0.8133 - val_mean_absolute_error: 0.4360 - val_categorical_accuracy: 0.6542\n",
      "Epoch 13/20\n",
      "3s - loss: 0.7926 - mean_absolute_error: 0.4300 - categorical_accuracy: 0.6598 - val_loss: 0.7884 - val_mean_absolute_error: 0.4365 - val_categorical_accuracy: 0.6552\n",
      "Epoch 14/20\n",
      "3s - loss: 0.7729 - mean_absolute_error: 0.4297 - categorical_accuracy: 0.6612 - val_loss: 0.7709 - val_mean_absolute_error: 0.4369 - val_categorical_accuracy: 0.6559\n",
      "Epoch 15/20\n",
      "3s - loss: 0.7555 - mean_absolute_error: 0.4277 - categorical_accuracy: 0.6646 - val_loss: 0.7690 - val_mean_absolute_error: 0.4301 - val_categorical_accuracy: 0.6471\n",
      "Epoch 16/20\n",
      "3s - loss: 0.7423 - mean_absolute_error: 0.4254 - categorical_accuracy: 0.6700 - val_loss: 0.7488 - val_mean_absolute_error: 0.4270 - val_categorical_accuracy: 0.6566\n",
      "Epoch 17/20\n",
      "3s - loss: 0.7317 - mean_absolute_error: 0.4241 - categorical_accuracy: 0.6699 - val_loss: 0.7410 - val_mean_absolute_error: 0.4280 - val_categorical_accuracy: 0.6574\n",
      "Epoch 18/20\n",
      "3s - loss: 0.7223 - mean_absolute_error: 0.4222 - categorical_accuracy: 0.6746 - val_loss: 0.7379 - val_mean_absolute_error: 0.4292 - val_categorical_accuracy: 0.6527\n",
      "Epoch 19/20\n",
      "3s - loss: 0.7106 - mean_absolute_error: 0.4193 - categorical_accuracy: 0.6780 - val_loss: 0.7291 - val_mean_absolute_error: 0.4309 - val_categorical_accuracy: 0.6576\n",
      "Epoch 20/20\n",
      "3s - loss: 0.7025 - mean_absolute_error: 0.4173 - categorical_accuracy: 0.6809 - val_loss: 0.7304 - val_mean_absolute_error: 0.4337 - val_categorical_accuracy: 0.6493\n"
     ]
    }
   ],
   "source": [
    "history = model.fit(x_train, y_train, epochs=20, batch_size=1000, validation_split=0.2, verbose=2)"
   ]
  },
  {
   "cell_type": "code",
   "execution_count": 171,
   "metadata": {
    "collapsed": false,
    "deletable": true,
    "editable": true
   },
   "outputs": [
    {
     "name": "stdout",
     "output_type": "stream",
     "text": [
      "[0.73558607158660894, 0.43542691907882691, 0.64100000000000001]\n"
     ]
    }
   ],
   "source": [
    "# Test loss and accuracy\n",
    "loss_and_metrics = model.evaluate(x_test, y_test, verbose=2)\n",
    "print(loss_and_metrics)"
   ]
  },
  {
   "cell_type": "code",
   "execution_count": null,
   "metadata": {
    "collapsed": false,
    "deletable": true,
    "editable": true
   },
   "outputs": [],
   "source": []
  },
  {
   "cell_type": "code",
   "execution_count": 172,
   "metadata": {
    "collapsed": false,
    "deletable": true,
    "editable": true
   },
   "outputs": [
    {
     "name": "stdout",
     "output_type": "stream",
     "text": [
      "dict_keys(['mean_absolute_error', 'val_categorical_accuracy', 'val_loss', 'val_mean_absolute_error', 'loss', 'categorical_accuracy'])\n"
     ]
    },
    {
     "data": {
      "image/png": "[encoded data removed]",
      "text/plain": [
       "<matplotlib.figure.Figure at 0x7f41f151b2b0>"
      ]
     },
     "metadata": {},
     "output_type": "display_data"
    },
    {
     "data": {
      "image/png": "[encoded data removed]",
      "text/plain": [
       "<matplotlib.figure.Figure at 0x7f41f1faac18>"
      ]
     },
     "metadata": {},
     "output_type": "display_data"
    }
   ],
   "source": [
    "import matplotlib.pyplot as plt\n",
    "# list all data in history\n",
    "print(history.history.keys())\n",
    "# summarize history for accuracy\n",
    "plt.plot(history.history['categorical_accuracy'])\n",
    "plt.plot(history.history['val_categorical_accuracy'])\n",
    "plt.title('Model Accuracy')\n",
    "plt.ylabel('Accuracy')\n",
    "plt.xlabel('Epoch')\n",
    "plt.legend(['Train', 'Validation'], loc='upper left')\n",
    "plt.show()\n",
    "# summarize history for loss\n",
    "plt.plot(history.history['loss'])\n",
    "plt.plot(history.history['val_loss'])\n",
    "plt.title('Model Loss')\n",
    "plt.ylabel('Loss')\n",
    "plt.xlabel('Epoch')\n",
    "plt.legend(['Train', 'Validation'], loc='upper right')\n",
    "plt.show()"
   ]
  },
  {
   "cell_type": "markdown",
   "metadata": {},
   "source": [
    "# AUC score"
   ]
  },
  {
   "cell_type": "code",
   "execution_count": 173,
   "metadata": {
    "collapsed": false,
    "deletable": true,
    "editable": true
   },
   "outputs": [
    {
     "name": "stdout",
     "output_type": "stream",
     "text": [
      "0.706783012177\n"
     ]
    }
   ],
   "source": [
    "from sklearn.metrics import roc_auc_score\n",
    "y_pred = model.predict_proba(x_test, verbose=0)\n",
    "score = roc_auc_score(y_test, y_pred)\n",
    "print(score)"
   ]
  },
  {
   "cell_type": "markdown",
   "metadata": {},
   "source": [
    "# Remove unsure predictions"
   ]
  },
  {
   "cell_type": "code",
   "execution_count": 184,
   "metadata": {
    "collapsed": false,
    "deletable": true,
    "editable": true
   },
   "outputs": [
    {
     "name": "stdout",
     "output_type": "stream",
     "text": [
      "[ True  True False ..., False False  True]\n",
      "(3244, 2)\n",
      "(5000, 2)\n",
      "0.746202304295\n",
      "[0.70565459562141708, 0.40411786137908956, 0.69143033299581336]\n"
     ]
    }
   ],
   "source": [
    "y_pred = model.predict_proba(x_test, verbose=0)\n",
    "ind1 = y_pred[:,0] > 0.6\n",
    "ind2 = y_pred[:,1] > 0.6\n",
    "ind = ind1 + ind2\n",
    "y_pred2 = y_pred[ind]\n",
    "y_test2 = y_test[ind]\n",
    "x_test2 = x_test[ind]\n",
    "print(ind)\n",
    "print(y_pred2.shape)\n",
    "print(y_pred.shape)\n",
    "score = roc_auc_score(y_test2, y_pred2)\n",
    "print(score)\n",
    "\n",
    "loss_and_metrics = model.evaluate(x_test2, y_test2, verbose=2)\n",
    "print(loss_and_metrics)"
   ]
  },
  {
   "cell_type": "code",
   "execution_count": null,
   "metadata": {
    "collapsed": true
   },
   "outputs": [],
   "source": []
  }
 ],
 "metadata": {
  "kernelspec": {
   "display_name": "Python 3",
   "language": "python",
   "name": "python3"
  },
  "language_info": {
   "codemirror_mode": {
    "name": "ipython",
    "version": 3
   },
   "file_extension": ".py",
   "mimetype": "text/x-python",
   "name": "python",
   "nbconvert_exporter": "python",
   "pygments_lexer": "ipython3",
   "version": "3.5.1+"
  }
 },
 "nbformat": 4,
 "nbformat_minor": 2
}
