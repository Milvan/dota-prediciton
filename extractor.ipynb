{
 "cells": [
  {
   "cell_type": "code",
   "execution_count": 11,
   "metadata": {},
   "outputs": [
    {
     "name": "stdout",
     "output_type": "stream",
     "text": [
      "[['44' '-81' '0' '0\\n']\n",
      " ['29' '-63' '0' '0\\n']\n",
      " ['43' '6' '0' '0\\n']\n",
      " ..., \n",
      " ['77' '150' '132' '49999\\n']\n",
      " ['20' '150' '132' '49999\\n']\n",
      " ['25' '284' '132' '49999\\n']]\n"
     ]
    }
   ],
   "source": [
    "import numpy as np\n",
    "\n",
    "def first_x_sec(seconds, filepath, timecol):\n",
    "    ''' param: seconds, int, filter out the first seconds of the game\n",
    "        param: filepath, string, the filepath of the csv datafile\n",
    "        param: timecol, int, the index of the column that contains time\n",
    "    '''\n",
    "    f = open(filepath)\n",
    "    lines = f.readlines()\n",
    "    lines = [ line.split(',') for line in lines ]\n",
    "    if seconds is None:\n",
    "        return np.array(lines[1:])\n",
    "    else:\n",
    "        return np.array(list(filter(lambda line: int(line[timecol])<=seconds, lines[1:])))\n",
    "\n",
    "# First 5 min: 5*60=300, col 2 is time first line is header\n",
    "#ability_upgrade = first_x_sec(300, 'dataset/ability_upgrades.csv', 2)\n",
    "#objectives = first_x_sec(300, 'dataset/objectives.csv', 7)\n",
    "player_time = first_x_sec(300, 'dataset/player_time.csv', 1)\n",
    "\n",
    "\n",
    "## Match file contains more than just the label\n",
    "# column 10 contains the True/False value of Radiant win\n",
    "labels = first_x_sec(None, 'dataset/match.csv', None)\n",
    "purchases = first_x_sec(300, 'dataset/purchase_log.csv', 1)\n",
    "print(purchases)\n",
    "\n",
    "\n",
    "def read_columns(filepath, start_col, stop_col):\n",
    "    f = open(filepath)\n",
    "    lines = f.readlines()\n",
    "    lines = [ line.strip().split(',')[start_col:stop_col] for line in lines[1:] ]\n",
    "    return np.array(lines).astype(np.int)\n",
    "    \n",
    "hero_data = read_columns('dataset/players.csv', 2, 3)\n"
   ]
  },
  {
   "cell_type": "code",
   "execution_count": 12,
   "metadata": {},
   "outputs": [
    {
     "name": "stdout",
     "output_type": "stream",
     "text": [
      "All the labels\n",
      "[1 0 0 ..., 1 1 0]\n"
     ]
    }
   ],
   "source": [
    "labels = np.array([int(match[9] == 'True') for match in labels])\n",
    "print('All the labels')\n",
    "print(labels)"
   ]
  },
  {
   "cell_type": "code",
   "execution_count": 13,
   "metadata": {},
   "outputs": [
    {
     "name": "stdout",
     "output_type": "stream",
     "text": [
      "(4014805, 4)\n",
      "['29' '-63' '0' '0\\n']\n",
      "[[   44     0     0     0]\n",
      " [   29     0     0     0]\n",
      " [   43     0     0     0]\n",
      " ..., \n",
      " [   77   120   132 49999]\n",
      " [   20   120   132 49999]\n",
      " [   25   240   132 49999]]\n"
     ]
    }
   ],
   "source": [
    "import math\n",
    "print(purchases.shape)\n",
    "print(purchases[1])\n",
    "purchases = purchases.astype(np.int)\n",
    "\n",
    "#def set_forth(log):\n",
    "#        log[1] = math.ceil(max(0, log[1]) / 60) * 60\n",
    "#        return log\n",
    "    \n",
    "for log in purchases:\n",
    "    log[1] = math.ceil(max(0, log[1]) / 60) * 60\n",
    "\n",
    "#purchases = np.array([ set_forth(log) for log in purchases ])    \n",
    "print(purchases)\n",
    "\n"
   ]
  },
  {
   "cell_type": "code",
   "execution_count": 14,
   "metadata": {},
   "outputs": [
    {
     "name": "stdout",
     "output_type": "stream",
     "text": [
      "423\n"
     ]
    }
   ],
   "source": [
    "#in any game, any player for one timestep, what is maximum number of items?\n",
    "matches = [np.empty(shape=(4,0), dtype=np.int)]*50000\n",
    "for x in purchases:\n",
    "    matches[x[3]] = np.concatenate((matches[x[3]], x.reshape(4,1)), axis=1)\n",
    "\n",
    "# separate on time\n",
    "#print(matches[1].T)\n",
    "for i, match in enumerate(matches):\n",
    "    separated = [np.empty(shape=(4,0), dtype=np.int)]*6 # 6 time steps [0 60 120 180 240 300]\n",
    "    for x in match.T:\n",
    "        time = x[1]/60\n",
    "        separated[time] = np.concatenate((separated[time], x.reshape(4,1)), axis=1)\n",
    "    matches[i] = separated\n",
    "\n",
    "#Separate on player\n",
    "for match in matches:\n",
    "    for i, time_step in enumerate(match):\n",
    "        #problem is that this vector is the same for all players. Need 10 copies\n",
    "        separated = [np.zeros(shape=(218,1), dtype=np.int) for j in range(10)]*10 # 10 players and 218 is maximum item id in dataset\n",
    "        \n",
    "        for x in time_step.T:\n",
    "            player = x[2] if x[2]<5 else x[2] - 123 #make players numbered 0 to 9\n",
    "            separated[player][x[0]-1] += 1\n",
    "        match[i] = separated\n",
    "print(423)      "
   ]
  },
  {
   "cell_type": "code",
   "execution_count": 15,
   "metadata": {},
   "outputs": [
    {
     "name": "stdout",
     "output_type": "stream",
     "text": [
      "4\n"
     ]
    }
   ],
   "source": [
    "print(4)"
   ]
  },
  {
   "cell_type": "code",
   "execution_count": 16,
   "metadata": {},
   "outputs": [
    {
     "name": "stdout",
     "output_type": "stream",
     "text": [
      "(218, 1)\n"
     ]
    }
   ],
   "source": [
    "print matches[15][0][2].shape # first match, first timestep 0 and first player purchase log"
   ]
  },
  {
   "cell_type": "code",
   "execution_count": null,
   "metadata": {},
   "outputs": [],
   "source": [
    "         "
   ]
  },
  {
   "cell_type": "code",
   "execution_count": 17,
   "metadata": {},
   "outputs": [
    {
     "name": "stdout",
     "output_type": "stream",
     "text": [
      "Shape of player time matrix\n",
      "Contains all attributes of matches, the first minutes\n",
      "(299994, 32)\n",
      "The pre prossessed data, just the second match\n",
      "[[  1   1   1   1   1   1]\n",
      " [  0  60 120 180 240 300]\n",
      " [  0  99 199 299 399 798]\n",
      " ..., \n",
      " [  1   0   0   0   0   0]\n",
      " [  0   0   0   0   0   0]\n",
      " [  0   0   0   0   0   0]]\n"
     ]
    }
   ],
   "source": [
    "print('Shape of player time matrix')\n",
    "print('Contains all attributes of matches, the first minutes')\n",
    "print(player_time.shape)\n",
    "#print(player_time[1:10])\n",
    "player_time = player_time.astype(np.int)\n",
    "\n",
    "\n",
    "## Separate data matches. Each index in data is one match. One match is a 32*n.\n",
    "## n is the number of logs. We have data every 60 secods, so for 5 min n=5\n",
    "data = [np.empty(shape=(2212,0), dtype=np.int)]*50000\n",
    "for x in player_time:\n",
    "    timestep = x[1]/60\n",
    "    features = x.reshape(32, 1)\n",
    "    for player in range(10):\n",
    "        features = np.concatenate((features, matches[x[0]][timestep][player]), axis=0)   \n",
    "    data[x[0]] = np.concatenate((data[x[0]], features), axis=1)\n",
    "#Print the first match log \n",
    "print('The pre prossessed data, just the second match')\n",
    "print(data[1])\n"
   ]
  },
  {
   "cell_type": "code",
   "execution_count": 18,
   "metadata": {},
   "outputs": [
    {
     "name": "stdout",
     "output_type": "stream",
     "text": [
      "(500000, 1)\n",
      "(2212, 6)\n",
      "asd\n",
      "[[   0    0    0    0    0    0]\n",
      " [   0   60  120  180  240  300]\n",
      " [   0  409  546  683  956 1056]\n",
      " ..., \n",
      " [  46   46   46   46   46   46]\n",
      " [   7    7    7    7    7    7]\n",
      " [  73   73   73   73   73   73]]\n"
     ]
    }
   ],
   "source": [
    "print(hero_data.shape)\n",
    "print(data[0].shape)\n",
    "for i, _ in enumerate(data):\n",
    "    data[i] = np.vstack((data[i], np.repeat(hero_data[10*i:10*(i+1)], data[i].shape[1], axis=1)))\n",
    "print(\"asd\")\n",
    "print(data[0])"
   ]
  },
  {
   "cell_type": "code",
   "execution_count": 22,
   "metadata": {},
   "outputs": [
    {
     "name": "stdout",
     "output_type": "stream",
     "text": [
      "(2222, 6)\n"
     ]
    }
   ],
   "source": [
    "#Pad games shorter than timelimit. (5 minutes)\n",
    "print(data[0].shape)\n",
    "for i in range(len(data)):\n",
    "    while data[i].shape[1] <= 300/60:\n",
    "        features = np.zeros(shape=(data[0].shape[0],1), dtype=np.int)\n",
    "        data[i] = np.concatenate((data[i], features), axis=1)\n",
    "    "
   ]
  },
  {
   "cell_type": "code",
   "execution_count": 23,
   "metadata": {
    "collapsed": true
   },
   "outputs": [],
   "source": [
    "outfile = open('/tmp/game_data.npy', 'w')\n",
    "np.save(outfile, data)\n",
    "outfile.close()  "
   ]
  },
  {
   "cell_type": "code",
   "execution_count": 24,
   "metadata": {
    "collapsed": true
   },
   "outputs": [],
   "source": [
    "outfile = open('/tmp/game_labels.npy', 'w')\n",
    "labels = labels.reshape((50000, 1))\n",
    "np.save(outfile, labels) \n",
    "outfile.close()"
   ]
  },
  {
   "cell_type": "code",
   "execution_count": null,
   "metadata": {
    "collapsed": true
   },
   "outputs": [],
   "source": []
  },
  {
   "cell_type": "code",
   "execution_count": null,
   "metadata": {},
   "outputs": [],
   "source": [
    "\n"
   ]
  },
  {
   "cell_type": "code",
   "execution_count": null,
   "metadata": {
    "scrolled": false
   },
   "outputs": [],
   "source": []
  },
  {
   "cell_type": "code",
   "execution_count": null,
   "metadata": {
    "collapsed": true
   },
   "outputs": [],
   "source": []
  },
  {
   "cell_type": "code",
   "execution_count": null,
   "metadata": {},
   "outputs": [],
   "source": []
  },
  {
   "cell_type": "code",
   "execution_count": null,
   "metadata": {
    "collapsed": true
   },
   "outputs": [],
   "source": []
  }
 ],
 "metadata": {
  "kernelspec": {
   "display_name": "Python 2",
   "language": "python",
   "name": "python2"
  },
  "language_info": {
   "codemirror_mode": {
    "name": "ipython",
    "version": 2
   },
   "file_extension": ".py",
   "mimetype": "text/x-python",
   "name": "python",
   "nbconvert_exporter": "python",
   "pygments_lexer": "ipython2",
   "version": "2.7.12"
  }
 },
 "nbformat": 4,
 "nbformat_minor": 2
}
