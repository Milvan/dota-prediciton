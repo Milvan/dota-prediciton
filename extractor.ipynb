{
 "cells": [
  {
   "cell_type": "code",
   "execution_count": 45,
   "metadata": {
    "collapsed": false
   },
   "outputs": [],
   "source": [
    "import numpy as np\n",
    "\n",
    "def first_x_sec(seconds, filepath, timecol):\n",
    "    ''' param: seconds, int, filter out the first seconds of the game\n",
    "        param: filepath, string, the filepath of the csv datafile\n",
    "        param: timecol, int, the index of the column that contains time\n",
    "    '''\n",
    "    f = open(filepath)\n",
    "    lines = f.readlines()\n",
    "    lines = [ line.split(',') for line in lines ]\n",
    "    if seconds is None:\n",
    "        return np.array(lines[1:])\n",
    "    else:\n",
    "        return np.array(list(filter(lambda line: int(line[timecol])<=seconds, lines[1:])))\n",
    "\n",
    "# First 5 min: 5*60=300, col 2 is time first line is header\n",
    "#ability_upgrade = first_x_sec(300, 'dataset/ability_upgrades.csv', 2)\n",
    "#objectives = first_x_sec(300, 'dataset/objectives.csv', 7)\n",
    "player_time = first_x_sec(300, 'dataset/player_time.csv', 1)\n",
    "\n",
    "\n",
    "## Match file contains more than just the label\n",
    "# column 10 contains the True/False value of Radiant win\n",
    "labels = first_x_sec(None, 'dataset/match.csv', None)\n",
    "purchases = first_x_sec(300, 'dataset/purchase_log.csv', 1)\n",
    "\n",
    "\n",
    "\n",
    "def read_columns(filepath, start_col, stop_col):\n",
    "    f = open(filepath)\n",
    "    lines = f.readlines()\n",
    "    lines = [ line.strip().split(',')[start_col:stop_col] for line in lines[1:] ]\n",
    "    return np.array(lines).astype(np.int)\n",
    "    \n",
    "hero_data = read_columns('dataset/players.csv', 2, 3)\n"
   ]
  },
  {
   "cell_type": "code",
   "execution_count": 46,
   "metadata": {
    "collapsed": false
   },
   "outputs": [],
   "source": [
    "labels = np.array([int(match[9] == 'True') for match in labels])\n"
   ]
  },
  {
   "cell_type": "code",
   "execution_count": 47,
   "metadata": {
    "collapsed": false
   },
   "outputs": [
    {
     "name": "stdout",
     "output_type": "stream",
     "text": [
      "(4014805, 4)\n"
     ]
    }
   ],
   "source": [
    "import math\n",
    "print(purchases.shape)\n",
    "purchases = purchases.astype(np.int)\n",
    "\n",
    "    \n",
    "for log in purchases:\n",
    "    log[1] = math.ceil(max(0, log[1]) / 60) * 60\n",
    " \n",
    "\n"
   ]
  },
  {
   "cell_type": "code",
   "execution_count": 48,
   "metadata": {
    "collapsed": false
   },
   "outputs": [],
   "source": [
    "#in any game, any player for one timestep, what is maximum number of items?\n",
    "matches = [np.empty(shape=(4,0), dtype=np.int)]*50000\n",
    "for x in purchases:\n",
    "    matches[x[3]] = np.concatenate((matches[x[3]], x.reshape(4,1)), axis=1)\n",
    "\n",
    "# separate on time\n",
    "#print(matches[1].T)\n",
    "for i, match in enumerate(matches):\n",
    "    separated = [np.empty(shape=(4,0), dtype=np.int)]*6 # 6 time steps [0 60 120 180 240 300]\n",
    "    for x in match.T:\n",
    "        time = x[1]/60\n",
    "        separated[time] = np.concatenate((separated[time], x.reshape(4,1)), axis=1)\n",
    "    matches[i] = separated\n",
    "\n",
    "#Separate on player\n",
    "for match in matches:\n",
    "    for i, time_step in enumerate(match):\n",
    "        #problem is that this vector is the same for all players. Need 10 copies\n",
    "        separated = [np.zeros(shape=(218,1), dtype=np.int) for j in range(10)]*10 # 10 players and 218 is maximum item id in dataset\n",
    "        \n",
    "        for x in time_step.T:\n",
    "            player = x[2] if x[2]<5 else x[2] - 123 #make players numbered 0 to 9\n",
    "            separated[player][x[0]-1] += 1\n",
    "        match[i] = separated\n",
    " "
   ]
  },
  {
   "cell_type": "code",
   "execution_count": null,
   "metadata": {
    "collapsed": false
   },
   "outputs": [],
   "source": []
  },
  {
   "cell_type": "code",
   "execution_count": 49,
   "metadata": {
    "collapsed": false
   },
   "outputs": [
    {
     "name": "stdout",
     "output_type": "stream",
     "text": [
      "(218, 1)\n"
     ]
    }
   ],
   "source": [
    "print matches[15][0][2].shape # first match, first timestep 0 and first player purchase log"
   ]
  },
  {
   "cell_type": "code",
   "execution_count": null,
   "metadata": {
    "collapsed": true
   },
   "outputs": [],
   "source": [
    "         "
   ]
  },
  {
   "cell_type": "code",
   "execution_count": 50,
   "metadata": {
    "collapsed": false
   },
   "outputs": [
    {
     "name": "stdout",
     "output_type": "stream",
     "text": [
      "Shape of player time matrix\n",
      "Contains all attributes of matches, the first minutes\n",
      "(299994, 32)\n"
     ]
    }
   ],
   "source": [
    "print('Shape of player time matrix')\n",
    "print('Contains all attributes of matches, the first minutes')\n",
    "print(player_time.shape)\n",
    "#print(player_time[1:10])\n",
    "player_time = player_time.astype(np.int)\n",
    "\n",
    "\n",
    "## Separate data matches. Each index in data is one match. One match is a 32*n.\n",
    "## n is the number of logs. We have data every 60 secods, so for 5 min n=5\n",
    "data = [np.empty(shape=(2212,0), dtype=np.int)]*50000\n",
    "for x in player_time:\n",
    "    timestep = x[1]/60\n",
    "    features = x.reshape(32, 1)\n",
    "    for player in range(10):\n",
    "        features = np.concatenate((features, matches[x[0]][timestep][player]), axis=0)   \n",
    "    data[x[0]] = np.concatenate((data[x[0]], features), axis=1)\n",
    "#Print the first match log \n"
   ]
  },
  {
   "cell_type": "code",
   "execution_count": 51,
   "metadata": {
    "collapsed": false
   },
   "outputs": [
    {
     "name": "stdout",
     "output_type": "stream",
     "text": [
      "(500000, 1)\n",
      "(2212, 6)\n"
     ]
    }
   ],
   "source": [
    "print(hero_data.shape)\n",
    "print(data[0].shape)\n",
    "for i, _ in enumerate(data):\n",
    "    data[i] = np.vstack((data[i], np.repeat(hero_data[10*i:10*(i+1)], data[i].shape[1], axis=1)))\n"
   ]
  },
  {
   "cell_type": "code",
   "execution_count": 52,
   "metadata": {
    "collapsed": false
   },
   "outputs": [
    {
     "name": "stdout",
     "output_type": "stream",
     "text": [
      "(2222, 6)\n"
     ]
    }
   ],
   "source": [
    "#Pad games shorter than timelimit. (5 minutes)\n",
    "print(data[0].shape)\n",
    "for i in range(len(data)):\n",
    "    while data[i].shape[1] <= 300/60:\n",
    "        features = np.zeros(shape=(data[0].shape[0],1), dtype=np.int)\n",
    "        data[i] = np.concatenate((data[i], features), axis=1)\n",
    "    "
   ]
  },
  {
   "cell_type": "code",
   "execution_count": 53,
   "metadata": {
    "collapsed": false
   },
   "outputs": [
    {
     "name": "stdout",
     "output_type": "stream",
     "text": [
      "(300000, 2)\n"
     ]
    }
   ],
   "source": [
    "from keras.utils.np_utils import to_categorical\n",
    "games=np.array(data)\n",
    "labels_binary = to_categorical(labels)\n",
    "\n",
    "# We don't know how long the game existed for, therefore we append labels_binary for each frame.\n",
    "labels_binary_length_corrected = []\n",
    "for index, game in enumerate(games):\n",
    "    for frame in game.T:\n",
    "        labels_binary_length_corrected.append(labels_binary[index])\n",
    "\n",
    "\n",
    "labels_binary_length_corrected = np.array(labels_binary_length_corrected)\n",
    "print(labels_binary_length_corrected.shape)"
   ]
  },
  {
   "cell_type": "code",
   "execution_count": 55,
   "metadata": {
    "collapsed": false
   },
   "outputs": [
    {
     "name": "stdout",
     "output_type": "stream",
     "text": [
      "(50000, 2222, 6)\n",
      "(300000, 2)\n"
     ]
    }
   ],
   "source": [
    "print games.shape\n",
    "print labels_binary_length_corrected.shape\n",
    "labels = labels_binary_length_corrected.reshape((50000,6,2))"
   ]
  },
  {
   "cell_type": "code",
   "execution_count": 56,
   "metadata": {
    "collapsed": false
   },
   "outputs": [
    {
     "name": "stdout",
     "output_type": "stream",
     "text": [
      "(50000, 2222, 6)\n"
     ]
    }
   ],
   "source": [
    "games2 = np.zeros(shape=(50000,6,2222))\n",
    "for i, match in enumerate(games2):\n",
    "    games2[i] = games[i].T\n",
    "print games.shape"
   ]
  },
  {
   "cell_type": "code",
   "execution_count": 57,
   "metadata": {
    "collapsed": false
   },
   "outputs": [
    {
     "name": "stdout",
     "output_type": "stream",
     "text": [
      "(50000, 6, 2222)\n"
     ]
    }
   ],
   "source": [
    "print games2.shape\n",
    "#games2 = games2.reshape((300000, 2222))\n",
    "#print games2.shape"
   ]
  },
  {
   "cell_type": "code",
   "execution_count": 58,
   "metadata": {
    "collapsed": true
   },
   "outputs": [],
   "source": [
    "outfile = open('/tmp/game_data.npy', 'w')\n",
    "np.save(outfile, games2)\n",
    "outfile.close()  "
   ]
  },
  {
   "cell_type": "code",
   "execution_count": 60,
   "metadata": {
    "collapsed": false
   },
   "outputs": [],
   "source": [
    "outfile = open('/tmp/game_labels.npy', 'w')\n",
    "np.save(outfile, labels) \n",
    "outfile.close()"
   ]
  },
  {
   "cell_type": "code",
   "execution_count": null,
   "metadata": {
    "collapsed": true
   },
   "outputs": [],
   "source": []
  },
  {
   "cell_type": "code",
   "execution_count": null,
   "metadata": {
    "collapsed": true
   },
   "outputs": [],
   "source": [
    "\n"
   ]
  },
  {
   "cell_type": "code",
   "execution_count": null,
   "metadata": {
    "collapsed": true,
    "scrolled": false
   },
   "outputs": [],
   "source": []
  },
  {
   "cell_type": "code",
   "execution_count": null,
   "metadata": {
    "collapsed": true
   },
   "outputs": [],
   "source": []
  },
  {
   "cell_type": "code",
   "execution_count": null,
   "metadata": {
    "collapsed": true
   },
   "outputs": [],
   "source": []
  },
  {
   "cell_type": "code",
   "execution_count": null,
   "metadata": {
    "collapsed": true
   },
   "outputs": [],
   "source": []
  }
 ],
 "metadata": {
  "kernelspec": {
   "display_name": "Python 2",
   "language": "python",
   "name": "python2"
  },
  "language_info": {
   "codemirror_mode": {
    "name": "ipython",
    "version": 2
   },
   "file_extension": ".py",
   "mimetype": "text/x-python",
   "name": "python",
   "nbconvert_exporter": "python",
   "pygments_lexer": "ipython2",
   "version": "2.7.13"
  }
 },
 "nbformat": 4,
 "nbformat_minor": 2
}
