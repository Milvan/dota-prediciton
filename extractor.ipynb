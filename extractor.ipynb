{
 "cells": [
  {
   "cell_type": "code",
   "execution_count": 17,
   "metadata": {},
   "outputs": [
    {
     "name": "stdout",
     "output_type": "stream",
     "text": [
      "[['44' '-81' '0' '0\\n']\n",
      " ['29' '-63' '0' '0\\n']\n",
      " ['43' '6' '0' '0\\n']\n",
      " ..., \n",
      " ['77' '150' '132' '49999\\n']\n",
      " ['20' '150' '132' '49999\\n']\n",
      " ['25' '284' '132' '49999\\n']]\n"
     ]
    }
   ],
   "source": [
    "import numpy as np\n",
    "\n",
    "def first_x_sec(seconds, filepath, timecol):\n",
    "    ''' param: seconds, int, filter out the first seconds of the game\n",
    "        param: filepath, string, the filepath of the csv datafile\n",
    "        param: timecol, int, the index of the column that contains time\n",
    "    '''\n",
    "    f = open(filepath)\n",
    "    lines = f.readlines()\n",
    "    lines = [ line.split(',') for line in lines ]\n",
    "    if seconds is None:\n",
    "        return np.array(lines[1:])\n",
    "    else:\n",
    "        return np.array(list(filter(lambda line: int(line[timecol])<=seconds, lines[1:])))\n",
    "\n",
    "# First 5 min: 5*60=300, col 2 is time first line is header\n",
    "#ability_upgrade = first_x_sec(300, 'dataset/ability_upgrades.csv', 2)\n",
    "#objectives = first_x_sec(300, 'dataset/objectives.csv', 7)\n",
    "player_time = first_x_sec(300, 'dataset/player_time.csv', 1)\n",
    "\n",
    "\n",
    "## Match file contains more than just the label\n",
    "# column 10 contains the True/False value of Radiant win\n",
    "matches = first_x_sec(None, 'dataset/match.csv', None)\n",
    "purchases = first_x_sec(300, 'dataset/purchase_log.csv', 1)\n",
    "print(purchases)"
   ]
  },
  {
   "cell_type": "code",
   "execution_count": 26,
   "metadata": {},
   "outputs": [
    {
     "name": "stdout",
     "output_type": "stream",
     "text": [
      "(4014805, 4)\n",
      "[ 29 -63   0   0]\n",
      "[  0   0   0 ..., 120 120 240]\n"
     ]
    }
   ],
   "source": [
    "import math\n",
    "print(purchases.shape)\n",
    "print(purchases[1])\n",
    "purchases = purchases.astype(np.int)\n",
    "\n",
    "def set_forth(log):\n",
    "        log[1] = math.ceil(max(0, log[1]) / 60) * 60\n",
    "        return log\n",
    "\n",
    "np.array([ set_forth(log) for log in purchases ])    \n",
    "print(purchases[:,1])"
   ]
  },
  {
   "cell_type": "code",
   "execution_count": 20,
   "metadata": {},
   "outputs": [
    {
     "name": "stdout",
     "output_type": "stream",
     "text": [
      "sdsaafgsa\n"
     ]
    }
   ],
   "source": [
    "print('sdsaafgsa')"
   ]
  },
  {
   "cell_type": "code",
   "execution_count": 4,
   "metadata": {},
   "outputs": [
    {
     "name": "stdout",
     "output_type": "stream",
     "text": [
      "All the labels\n",
      "[1 0 0 ..., 1 1 0]\n",
      "Shape of player time matrix\n",
      "Contains all attributes of matches, the first minutes\n",
      "(299994, 32)\n",
      "The pre prossessed data, just the second match\n",
      "[[   1    1    1    1    1    1]\n",
      " [   0   60  120  180  240  300]\n",
      " [   0   99  199  299  399  798]\n",
      " [   0    0    0    0    0    0]\n",
      " [   0   31  288  461  607  910]\n",
      " [   0  138  358  744 1146 1479]\n",
      " [   0    1    4   11   18   20]\n",
      " [   0   93  350  647  939 1348]\n",
      " [   0   99  280  441 1018 1118]\n",
      " [   0    0    3    8    8    8]\n",
      " [   0    0  144  264  493  627]\n",
      " [   0  178  326  426  651  950]\n",
      " [   0    2    3    3    6   10]\n",
      " [   0  124  165  206  495  735]\n",
      " [   0  280  542  891 1310 1574]\n",
      " [   0    2    6   12   17   21]\n",
      " [   0  327  781 1225 1682 2059]\n",
      " [   0  599  804 1314 1861 2604]\n",
      " [   0    0    3    6   11   16]\n",
      " [   0  100  222  426  942 1512]\n",
      " [   0  183  325  623  770  911]\n",
      " [   0    2    3    8    9   10]\n",
      " [   0  175  299  670  979 1253]\n",
      " [   0   99  199  299  399  582]\n",
      " [   0    0    0    0    0    1]\n",
      " [   0    0  122  316  372  608]\n",
      " [   0  142  484  794  932 1366]\n",
      " [   0    1    7   12   13   14]\n",
      " [   0  175  464  886  994 1629]\n",
      " [   0  251  476  735 1135 1277]\n",
      " [   0    4    7   11   15   16]\n",
      " [   0  268  660 1062 1413 1702]]\n"
     ]
    }
   ],
   "source": [
    "labels = np.array([int(match[9] == 'True') for match in matches])\n",
    "print('All the labels')\n",
    "print(labels)\n",
    "\n",
    "print('Shape of player time matrix')\n",
    "print('Contains all attributes of matches, the first minutes')\n",
    "print(player_time.shape)\n",
    "#print(player_time[1:10])\n",
    "player_time = player_time.astype(np.int)\n",
    "\n",
    "\n",
    "## Separate data matches. Each index in data is one match. One match is a 32*n.\n",
    "## n is the number of logs. We have data every 60 secods, so for 5 min n=5\n",
    "data = [np.empty(shape=(32,0), dtype=np.int)]*50000\n",
    "for x in player_time:\n",
    "    data[x[0]] = np.concatenate((data[x[0]], x.reshape(32,1)), axis=1)\n",
    "#Print the first match log \n",
    "print('The pre prossessed data, just the second match')\n",
    "print(data[1])\n"
   ]
  },
  {
   "cell_type": "code",
   "execution_count": 5,
   "metadata": {},
   "outputs": [
    {
     "name": "stdout",
     "output_type": "stream",
     "text": [
      "Example data table. First 10 matches. Game state at the end of 5 min\n",
      "[[1056  798 1140 1007 1739  876  902 1063 1797  836]\n",
      " [   1    0   12    4   28    8    3   16   27    8]\n",
      " [ 649  910 1291 1034 1313 1122  849  834 1504 1105]\n",
      " [1451 1479 1518 1140 1888  593 1593 1763 1168  659]\n",
      " [  13   20   14    9   16    1   22   27    8    4]\n",
      " [1810 1348 1795  700 2139  552 1323 1872 1190  656]\n",
      " [ 630 1118 1103  957 1013 1547 1043 1241 1268 1664]\n",
      " [   0    8    6    9   11   23   13    4    6   19]\n",
      " [ 504  627 1106 1347  720 1316 1474 1211 1056 1065]\n",
      " [1102  950 1163 1051  943 2087 1259  649 1318  770]\n",
      " [  15   10   14    4    1   16   13    0   15    3]\n",
      " [1888  735 1372  861  900 2031 1127  257 1960 1127]\n",
      " [1708 1574  544  893 1303  670  819 1696  760 1200]\n",
      " [  17   21    2    8   20    5    3   23    0   17]\n",
      " [1633 2059  760 1795 1265  320  746 2091  729 1867]\n",
      " [1300 2604 1209  795  677 1399 1152 1503  688 1209]\n",
      " [  11   16   12    5    0   21    0   23    0   12]\n",
      " [1901 1512 1029  955  485 1285  744 1487  637 1151]\n",
      " [1233  911  703 1404  923  501 1784  823 1088 1019]\n",
      " [  11   10    2   13    7    0   28    3    9    6]\n",
      " [1352 1253  988 1912  796  704 1672  614 1517 1134]\n",
      " [1841  582 1427  590 1159  919 1296  621 1358 1302]\n",
      " [  32    1   22    1    9    4   14    3   22   17]\n",
      " [2162  608 2193  615 1185 1059 1625  820 1753 2148]\n",
      " [ 500 1366 1068  554 1491  550 1654 1778  942  539]\n",
      " [   0   14    3    0   24    2   10   25   11    1]\n",
      " [ 241 1629 1122  575 1514  464  967 2229  796   61]\n",
      " [2110 1277  539 1960  881 1610 1439  585  789  916]\n",
      " [  17   16    1   28    7   16   13    2    7    3]\n",
      " [ 918 1702  763 1765 1045 1982 1781  598  972 2111]]\n",
      "The shape of the match data table, first row is the time column, which is always 300\n",
      "(30, 50000)\n"
     ]
    }
   ],
   "source": [
    "#Filter out the end state from data. \n",
    "# This will be a matrix with the game state afer x seconds in each column\n",
    "# the first row is time\n",
    "# following by gold, last hits and xp for each player\n",
    "end_5_min_games = np.array([game[2:,-1] for game in data]).T\n",
    "#print the data to look at it\n",
    "print('Example data table. First 10 matches. Game state at the end of 5 min')\n",
    "print(end_5_min_games[it:,:10])\n",
    "# the shape should be 31, 50000. \n",
    "print('The shape of the match data table, first row is the time column, which is always 300')\n",
    "print(end_5_min_games.shape)"
   ]
  },
  {
   "cell_type": "code",
   "execution_count": null,
   "metadata": {
    "collapsed": true
   },
   "outputs": [],
   "source": []
  },
  {
   "cell_type": "code",
   "execution_count": 4,
   "metadata": {},
   "outputs": [
    {
     "name": "stderr",
     "output_type": "stream",
     "text": [
      "Using TensorFlow backend.\n"
     ]
    }
   ],
   "source": [
    "from keras.layers import Dense, Activation\n",
    "from keras.models import Sequential\n",
    "import keras\n",
    "\n",
    "model = Sequential()\n",
    "\n",
    "model.add(Dense(units=50, input_dim=30))\n",
    "model.add(Activation('relu'))\n",
    "model.add(Dense(units=2))\n",
    "model.add(Activation('softmax'))\n",
    "model.compile(loss=keras.losses.categorical_crossentropy,\n",
    "             optimizer=keras.optimizers.SGD(lr=0.0001, momentum=0.0, nesterov=False),\n",
    "             metrics=[keras.metrics.mae, keras.metrics.categorical_accuracy])\n"
   ]
  },
  {
   "cell_type": "code",
   "execution_count": 5,
   "metadata": {},
   "outputs": [
    {
     "name": "stdout",
     "output_type": "stream",
     "text": [
      "Shapes of labels\n",
      "(50000,)\n",
      "example of how the labels look like\n",
      "[1 0 0 0 1 1 1 1 0 0]\n",
      "Re-structure the labels so that it is two dimensions, with prob value of each team winning\n",
      "(50000, 2)\n",
      "example of how the binary labels look like\n",
      "[[ 0.  1.]\n",
      " [ 1.  0.]\n",
      " [ 1.  0.]\n",
      " [ 1.  0.]\n",
      " [ 0.  1.]\n",
      " [ 0.  1.]\n",
      " [ 0.  1.]\n",
      " [ 0.  1.]\n",
      " [ 1.  0.]\n",
      " [ 1.  0.]]\n",
      "(10000, 2)\n"
     ]
    }
   ],
   "source": [
    "print('Shapes of labels')\n",
    "print(labels.shape)\n",
    "from keras.utils.np_utils import to_categorical\n",
    "labels_binary = to_categorical(labels)\n",
    "print('example of how the labels look like')\n",
    "print(labels[:10])\n",
    "print('Re-structure the labels so that it is two dimensions, with prob value of each team winning')\n",
    "print(labels_binary.shape)\n",
    "print('example of how the binary labels look like')\n",
    "print(labels_binary[:10])\n",
    "\n",
    "# separate into train and test\n",
    "x_train = end_5_min_games[:,:40000]\n",
    "y_train = labels_binary[:40000,:]\n",
    "x_test = end_5_min_games[:,40000:]\n",
    "y_test = labels_binary[40000:,:]\n",
    "print(y_test.shape)\n",
    "\n"
   ]
  },
  {
   "cell_type": "code",
   "execution_count": 6,
   "metadata": {},
   "outputs": [
    {
     "name": "stdout",
     "output_type": "stream",
     "text": [
      "Train on 7999 samples, validate on 32001 samples\n",
      "Epoch 1/50\n",
      "7999/7999 [==============================] - 0s - loss: 7.7593 - mean_absolute_error: 0.4818 - categorical_accuracy: 0.5182 - val_loss: 7.8044 - val_mean_absolute_error: 0.4844 - val_categorical_accuracy: 0.5156\b\b\b\b\b\b\b\b\b\b\b\b\b\b\b\b\b\b\b\b\b\b\b\b\b\b\b\b\b\b\b\b\b\b\b\b\b\b\b\b\b\b\b\b\b\n",
      "Epoch 2/50\n",
      "7999/7999 [==============================] - 0s - loss: 7.7535 - mean_absolute_error: 0.4813 - categorical_accuracy: 0.5187 - val_loss: 7.8064 - val_mean_absolute_error: 0.4846 - val_categorical_accuracy: 0.5154\b\b\b\b\b\b\b\b\b\b\b\b\b\b\b\b\b\b\b\b\b\b\b\b\b\b\b\b\b\b\b\b\b\b\b\b\b\b\b\b\b\b\b\b\b\n",
      "Epoch 3/50\n",
      "7999/7999 [==============================] - 0s - loss: 7.7613 - mean_absolute_error: 0.4817 - categorical_accuracy: 0.5183 - val_loss: 7.8074 - val_mean_absolute_error: 0.4846 - val_categorical_accuracy: 0.5155\b\b\b\b\b\b\b\b\b\b\b\b\b\b\b\b\b\b\b\b\b\b\b\b\b\b\b\b\b\b\b\b\b\b\b\b\b\b\b\b\b\b\b\b\b\n",
      "Epoch 4/50\n",
      "7999/7999 [==============================] - 0s - loss: 7.7604 - mean_absolute_error: 0.4818 - categorical_accuracy: 0.5182 - val_loss: 7.8092 - val_mean_absolute_error: 0.4847 - val_categorical_accuracy: 0.5154\b\b\b\b\b\b\b\b\b\b\b\b\b\b\b\b\b\b\b\b\b\b\b\b\b\b\b\b\b\b\b\b\b\b\b\b\b\b\b\b\b\b\b\b\b\n",
      "Epoch 5/50\n",
      "7999/7999 [==============================] - 0s - loss: 7.7575 - mean_absolute_error: 0.4816 - categorical_accuracy: 0.5184 - val_loss: 7.8111 - val_mean_absolute_error: 0.4850 - val_categorical_accuracy: 0.5150\b\b\b\b\b\b\b\b\b\b\b\b\b\b\b\b\b\b\b\b\b\b\b\b\b\b\b\b\b\b\b\b\b\b\b\b\b\b\b\b\b\b\b\b\b\n",
      "Epoch 6/50\n",
      "7999/7999 [==============================] - 0s - loss: 7.7593 - mean_absolute_error: 0.4819 - categorical_accuracy: 0.5182 - val_loss: 7.8077 - val_mean_absolute_error: 0.4847 - val_categorical_accuracy: 0.5153\b\b\b\b\b\b\b\b\b\b\b\b\b\b\b\b\b\b\b\b\b\b\b\b\b\b\b\b\b\b\b\b\b\b\b\b\b\b\b\b\b\b\b\b\b\n",
      "Epoch 7/50\n",
      "7999/7999 [==============================] - 0s - loss: 7.7557 - mean_absolute_error: 0.4815 - categorical_accuracy: 0.5186 - val_loss: 7.8126 - val_mean_absolute_error: 0.4851 - val_categorical_accuracy: 0.5149\b\b\b\b\b\b\b\b\b\b\b\b\b\b\b\b\b\b\b\b\b\b\b\b\b\b\b\b\b\b\b\b\b\b\b\b\b\b\b\b\b\b\b\b\b\n",
      "Epoch 8/50\n",
      "7999/7999 [==============================] - 0s - loss: 7.7572 - mean_absolute_error: 0.4817 - categorical_accuracy: 0.5183 - val_loss: 7.8110 - val_mean_absolute_error: 0.4849 - val_categorical_accuracy: 0.5150\b\b\b\b\b\b\b\b\b\b\b\b\b\b\b\b\b\b\b\b\b\b\b\b\b\b\b\b\b\b\b\b\b\b\b\b\b\b\b\b\b\b\b\b\b\n",
      "Epoch 9/50\n",
      "7999/7999 [==============================] - 0s - loss: 7.7584 - mean_absolute_error: 0.4817 - categorical_accuracy: 0.5183 - val_loss: 7.8106 - val_mean_absolute_error: 0.4849 - val_categorical_accuracy: 0.5151\b\b\b\b\b\b\b\b\b\b\b\b\b\b\b\b\b\b\b\b\b\b\b\b\b\b\b\b\b\b\b\b\b\b\b\b\b\b\b\b\b\b\b\b\b\n",
      "Epoch 10/50\n",
      "7999/7999 [==============================] - 0s - loss: 7.7555 - mean_absolute_error: 0.4815 - categorical_accuracy: 0.5184 - val_loss: 7.8097 - val_mean_absolute_error: 0.4847 - val_categorical_accuracy: 0.5154\b\b\b\b\b\b\b\b\b\b\b\b\b\b\b\b\b\b\b\b\b\b\b\b\b\b\b\b\b\b\b\b\b\b\b\b\b\b\b\b\b\b\b\b\b\n",
      "Epoch 11/50\n",
      "7999/7999 [==============================] - 0s - loss: 7.7553 - mean_absolute_error: 0.4816 - categorical_accuracy: 0.5184 - val_loss: 7.8080 - val_mean_absolute_error: 0.4847 - val_categorical_accuracy: 0.5153\b\b\b\b\b\b\b\b\b\b\b\b\b\b\b\b\b\b\b\b\b\b\b\b\b\b\b\b\b\b\b\b\b\b\b\b\b\b\b\b\b\b\b\b\b\n",
      "Epoch 12/50\n",
      "7999/7999 [==============================] - 0s - loss: 7.7573 - mean_absolute_error: 0.4819 - categorical_accuracy: 0.5181 - val_loss: 7.8096 - val_mean_absolute_error: 0.4847 - val_categorical_accuracy: 0.5153\b\b\b\b\b\b\b\b\b\b\b\b\b\b\b\b\b\b\b\b\b\b\b\b\b\b\b\b\b\b\b\b\b\b\b\b\b\b\b\b\b\b\b\b\b\n",
      "Epoch 13/50\n",
      "7999/7999 [==============================] - 0s - loss: 7.7583 - mean_absolute_error: 0.4818 - categorical_accuracy: 0.5182 - val_loss: 7.8045 - val_mean_absolute_error: 0.4844 - val_categorical_accuracy: 0.5156\b\b\b\b\b\b\b\b\b\b\b\b\b\b\b\b\b\b\b\b\b\b\b\b\b\b\b\b\b\b\b\b\b\b\b\b\b\b\b\b\b\b\b\b\b\n",
      "Epoch 14/50\n",
      "7999/7999 [==============================] - 0s - loss: 7.7548 - mean_absolute_error: 0.4813 - categorical_accuracy: 0.5187 - val_loss: 7.8039 - val_mean_absolute_error: 0.4843 - val_categorical_accuracy: 0.5157\b\b\b\b\b\b\b\b\b\b\b\b\b\b\b\b\b\b\b\b\b\b\b\b\b\b\b\b\b\b\b\b\b\b\b\b\b\b\b\b\b\b\b\b\b\n",
      "Epoch 15/50\n",
      "7999/7999 [==============================] - 0s - loss: 7.7550 - mean_absolute_error: 0.4812 - categorical_accuracy: 0.5188 - val_loss: 7.8044 - val_mean_absolute_error: 0.4844 - val_categorical_accuracy: 0.5156\b\b\b\b\b\b\b\b\b\b\b\b\b\b\b\b\b\b\b\b\b\b\b\b\b\b\b\b\b\b\b\b\b\b\b\b\b\b\b\b\b\b\b\b\b\n",
      "Epoch 16/50\n",
      "7999/7999 [==============================] - 0s - loss: 7.7557 - mean_absolute_error: 0.4813 - categorical_accuracy: 0.5187 - val_loss: 7.8043 - val_mean_absolute_error: 0.4844 - val_categorical_accuracy: 0.5156\b\b\b\b\b\b\b\b\b\b\b\b\b\b\b\b\b\b\b\b\b\b\b\b\b\b\b\b\b\b\b\b\b\b\b\b\b\b\b\b\b\b\b\b\b\n",
      "Epoch 17/50\n",
      "7999/7999 [==============================] - 0s - loss: 7.7555 - mean_absolute_error: 0.4813 - categorical_accuracy: 0.5187 - val_loss: 7.8043 - val_mean_absolute_error: 0.4844 - val_categorical_accuracy: 0.5156\b\b\b\b\b\b\b\b\b\b\b\b\b\b\b\b\b\b\b\b\b\b\b\b\b\b\b\b\b\b\b\b\b\b\b\b\b\b\b\b\b\b\b\b\b\n",
      "Epoch 18/50\n",
      "7999/7999 [==============================] - 0s - loss: 7.7560 - mean_absolute_error: 0.4814 - categorical_accuracy: 0.5187 - val_loss: 7.8035 - val_mean_absolute_error: 0.4843 - val_categorical_accuracy: 0.5157\b\b\b\b\b\b\b\b\b\b\b\b\b\b\b\b\b\b\b\b\b\b\b\b\b\b\b\b\b\b\b\b\b\b\b\b\b\b\b\b\b\b\b\b\b\n",
      "Epoch 19/50\n",
      "7999/7999 [==============================] - 0s - loss: 7.7546 - mean_absolute_error: 0.4812 - categorical_accuracy: 0.5188 - val_loss: 7.8043 - val_mean_absolute_error: 0.4844 - val_categorical_accuracy: 0.5156\b\b\b\b\b\b\b\b\b\b\b\b\b\b\b\b\b\b\b\b\b\b\b\b\b\b\b\b\b\b\b\b\b\b\b\b\b\b\b\b\b\b\b\b\b\n",
      "Epoch 20/50\n",
      "7999/7999 [==============================] - 0s - loss: 7.7549 - mean_absolute_error: 0.4813 - categorical_accuracy: 0.5187 - val_loss: 7.8037 - val_mean_absolute_error: 0.4843 - val_categorical_accuracy: 0.5157\b\b\b\b\b\b\b\b\b\b\b\b\b\b\b\b\b\b\b\b\b\b\b\b\b\b\b\b\b\b\b\b\b\b\b\b\b\b\b\b\b\b\b\b\b\n",
      "Epoch 21/50\n",
      "7999/7999 [==============================] - 0s - loss: 7.7543 - mean_absolute_error: 0.4814 - categorical_accuracy: 0.5186 - val_loss: 7.8034 - val_mean_absolute_error: 0.4843 - val_categorical_accuracy: 0.5157\b\b\b\b\b\b\b\b\b\b\b\b\b\b\b\b\b\b\b\b\b\b\b\b\b\b\b\b\b\b\b\b\b\b\b\b\b\b\b\b\b\b\b\b\b\n",
      "Epoch 22/50\n",
      "7999/7999 [==============================] - 0s - loss: 7.7544 - mean_absolute_error: 0.4813 - categorical_accuracy: 0.5187 - val_loss: 7.8042 - val_mean_absolute_error: 0.4844 - val_categorical_accuracy: 0.5156\b\b\b\b\b\b\b\b\b\b\b\b\b\b\b\b\b\b\b\b\b\b\b\b\b\b\b\b\b\b\b\b\b\b\b\b\b\b\b\b\b\b\b\b\b\n",
      "Epoch 23/50\n",
      "7999/7999 [==============================] - 0s - loss: 7.7538 - mean_absolute_error: 0.4815 - categorical_accuracy: 0.5184 - val_loss: 7.8027 - val_mean_absolute_error: 0.4843 - val_categorical_accuracy: 0.5157\b\b\b\b\b\b\b\b\b\b\b\b\b\b\b\b\b\b\b\b\b\b\b\b\b\b\b\b\b\b\b\b\b\b\b\b\b\b\b\b\b\b\b\b\b\n",
      "Epoch 24/50\n",
      "7999/7999 [==============================] - 0s - loss: 7.7551 - mean_absolute_error: 0.4813 - categorical_accuracy: 0.5187 - val_loss: 7.8034 - val_mean_absolute_error: 0.4843 - val_categorical_accuracy: 0.5157\b\b\b\b\b\b\b\b\b\b\b\b\b\b\b\b\b\b\b\b\b\b\b\b\b\b\b\b\b\b\b\b\b\b\b\b\b\b\b\b\b\b\b\b\b\n",
      "Epoch 25/50\n",
      "7999/7999 [==============================] - 0s - loss: 7.7535 - mean_absolute_error: 0.4813 - categorical_accuracy: 0.5187 - val_loss: 7.8042 - val_mean_absolute_error: 0.4844 - val_categorical_accuracy: 0.5156\b\b\b\b\b\b\b\b\b\b\b\b\b\b\b\b\b\b\b\b\b\b\b\b\b\b\b\b\b\b\b\b\b\b\b\b\b\b\b\b\b\b\b\b\b\n",
      "Epoch 26/50\n",
      "7999/7999 [==============================] - 0s - loss: 7.7531 - mean_absolute_error: 0.4813 - categorical_accuracy: 0.5187 - val_loss: 7.8036 - val_mean_absolute_error: 0.4843 - val_categorical_accuracy: 0.5157\b\b\b\b\b\b\b\b\b\b\b\b\b\b\b\b\b\b\b\b\b\b\b\b\b\b\b\b\b\b\b\b\b\b\b\b\b\b\b\b\b\b\b\b\b\n",
      "Epoch 27/50\n",
      "7999/7999 [==============================] - 0s - loss: 7.7520 - mean_absolute_error: 0.4810 - categorical_accuracy: 0.5189 - val_loss: 7.8043 - val_mean_absolute_error: 0.4844 - val_categorical_accuracy: 0.5155\b\b\b\b\b\b\b\b\b\b\b\b\b\b\b\b\b\b\b\b\b\b\b\b\b\b\b\b\b\b\b\b\b\b\b\b\b\b\b\b\b\b\b\b\b\n",
      "Epoch 28/50\n",
      "7999/7999 [==============================] - 0s - loss: 7.7527 - mean_absolute_error: 0.4812 - categorical_accuracy: 0.5188 - val_loss: 7.8040 - val_mean_absolute_error: 0.4844 - val_categorical_accuracy: 0.5156\b\b\b\b\b\b\b\b\b\b\b\b\b\b\b\b\b\b\b\b\b\b\b\b\b\b\b\b\b\b\b\b\b\b\b\b\b\b\b\b\b\b\b\b\b\n",
      "Epoch 29/50\n",
      "7999/7999 [==============================] - 0s - loss: 7.7518 - mean_absolute_error: 0.4810 - categorical_accuracy: 0.5191 - val_loss: 7.8039 - val_mean_absolute_error: 0.4844 - val_categorical_accuracy: 0.5156\b\b\b\b\b\b\b\b\b\b\b\b\b\b\b\b\b\b\b\b\b\b\b\b\b\b\b\b\b\b\b\b\b\b\b\b\b\b\b\b\b\b\b\b\b\n",
      "Epoch 30/50\n",
      "7999/7999 [==============================] - 0s - loss: 7.7518 - mean_absolute_error: 0.4810 - categorical_accuracy: 0.5191 - val_loss: 7.8039 - val_mean_absolute_error: 0.4844 - val_categorical_accuracy: 0.5156\b\b\b\b\b\b\b\b\b\b\b\b\b\b\b\b\b\b\b\b\b\b\b\b\b\b\b\b\b\b\b\b\b\b\b\b\b\b\b\b\b\b\b\b\b\n",
      "Epoch 31/50\n",
      "7999/7999 [==============================] - 0s - loss: 7.7518 - mean_absolute_error: 0.4810 - categorical_accuracy: 0.5191 - val_loss: 7.8038 - val_mean_absolute_error: 0.4844 - val_categorical_accuracy: 0.5156\b\b\b\b\b\b\b\b\b\b\b\b\b\b\b\b\b\b\b\b\b\b\b\b\b\b\b\b\b\b\b\b\b\b\b\b\b\b\b\b\b\b\b\b\b\n",
      "Epoch 32/50\n",
      "7999/7999 [==============================] - 0s - loss: 7.7518 - mean_absolute_error: 0.4810 - categorical_accuracy: 0.5191 - val_loss: 7.8038 - val_mean_absolute_error: 0.4844 - val_categorical_accuracy: 0.5156\b\b\b\b\b\b\b\b\b\b\b\b\b\b\b\b\b\b\b\b\b\b\b\b\b\b\b\b\b\b\b\b\b\b\b\b\b\b\b\b\b\b\b\b\b\n",
      "Epoch 33/50\n",
      "7999/7999 [==============================] - 0s - loss: 7.7518 - mean_absolute_error: 0.4810 - categorical_accuracy: 0.5191 - val_loss: 7.8038 - val_mean_absolute_error: 0.4844 - val_categorical_accuracy: 0.5156\b\b\b\b\b\b\b\b\b\b\b\b\b\b\b\b\b\b\b\b\b\b\b\b\b\b\b\b\b\b\b\b\b\b\b\b\b\b\b\b\b\b\b\b\b\n",
      "Epoch 34/50\n",
      "7999/7999 [==============================] - 0s - loss: 7.7518 - mean_absolute_error: 0.4810 - categorical_accuracy: 0.5191 - val_loss: 7.8038 - val_mean_absolute_error: 0.4844 - val_categorical_accuracy: 0.5156\b\b\b\b\b\b\b\b\b\b\b\b\b\b\b\b\b\b\b\b\b\b\b\b\b\b\b\b\b\b\b\b\b\b\b\b\b\b\b\b\b\b\b\b\b\n",
      "Epoch 35/50\n",
      "7999/7999 [==============================] - 0s - loss: 7.7518 - mean_absolute_error: 0.4810 - categorical_accuracy: 0.5191 - val_loss: 7.8038 - val_mean_absolute_error: 0.4844 - val_categorical_accuracy: 0.5156\b\b\b\b\b\b\b\b\b\b\b\b\b\b\b\b\b\b\b\b\b\b\b\b\b\b\b\b\b\b\b\b\b\b\b\b\b\b\b\b\b\b\b\b\b\n",
      "Epoch 36/50\n",
      "7999/7999 [==============================] - 0s - loss: 7.7518 - mean_absolute_error: 0.4810 - categorical_accuracy: 0.5191 - val_loss: 7.8038 - val_mean_absolute_error: 0.4844 - val_categorical_accuracy: 0.5156\b\b\b\b\b\b\b\b\b\b\b\b\b\b\b\b\b\b\b\b\b\b\b\b\b\b\b\b\b\b\b\b\b\b\b\b\b\b\b\b\b\b\b\b\b\n",
      "Epoch 37/50\n",
      "7999/7999 [==============================] - 0s - loss: 7.7518 - mean_absolute_error: 0.4810 - categorical_accuracy: 0.5191 - val_loss: 7.8038 - val_mean_absolute_error: 0.4844 - val_categorical_accuracy: 0.5156\b\b\b\b\b\b\b\b\b\b\b\b\b\b\b\b\b\b\b\b\b\b\b\b\b\b\b\b\b\b\b\b\b\b\b\b\b\b\b\b\b\b\b\b\b\n",
      "Epoch 38/50\n",
      "7999/7999 [==============================] - 0s - loss: 7.7518 - mean_absolute_error: 0.4810 - categorical_accuracy: 0.5191 - val_loss: 7.8038 - val_mean_absolute_error: 0.4844 - val_categorical_accuracy: 0.5156\b\b\b\b\b\b\b\b\b\b\b\b\b\b\b\b\b\b\b\b\b\b\b\b\b\b\b\b\b\b\b\b\b\b\b\b\b\b\b\b\b\b\b\b\b\n",
      "Epoch 39/50\n",
      "7999/7999 [==============================] - 0s - loss: 7.7518 - mean_absolute_error: 0.4810 - categorical_accuracy: 0.5191 - val_loss: 7.8038 - val_mean_absolute_error: 0.4844 - val_categorical_accuracy: 0.5156\b\b\b\b\b\b\b\b\b\b\b\b\b\b\b\b\b\b\b\b\b\b\b\b\b\b\b\b\b\b\b\b\b\b\b\b\b\b\b\b\b\b\b\b\b\n",
      "Epoch 40/50\n",
      "7999/7999 [==============================] - 0s - loss: 7.7518 - mean_absolute_error: 0.4810 - categorical_accuracy: 0.5191 - val_loss: 7.8037 - val_mean_absolute_error: 0.4844 - val_categorical_accuracy: 0.5156\b\b\b\b\b\b\b\b\b\b\b\b\b\b\b\b\b\b\b\b\b\b\b\b\b\b\b\b\b\b\b\b\b\b\b\b\b\b\b\b\b\b\b\b\b\n",
      "Epoch 41/50\n",
      "7999/7999 [==============================] - 0s - loss: 7.7518 - mean_absolute_error: 0.4810 - categorical_accuracy: 0.5191 - val_loss: 7.8037 - val_mean_absolute_error: 0.4844 - val_categorical_accuracy: 0.5156\b\b\b\b\b\b\b\b\b\b\b\b\b\b\b\b\b\b\b\b\b\b\b\b\b\b\b\b\b\b\b\b\b\b\b\b\b\b\b\b\b\b\b\b\b\n",
      "Epoch 42/50\n",
      "7999/7999 [==============================] - 0s - loss: 7.7518 - mean_absolute_error: 0.4809 - categorical_accuracy: 0.5191 - val_loss: 7.8038 - val_mean_absolute_error: 0.4844 - val_categorical_accuracy: 0.5156\b\b\b\b\b\b\b\b\b\b\b\b\b\b\b\b\b\b\b\b\b\b\b\b\b\b\b\b\b\b\b\b\b\b\b\b\b\b\b\b\b\b\b\b\b\n",
      "Epoch 43/50\n",
      "7999/7999 [==============================] - 0s - loss: 7.7518 - mean_absolute_error: 0.4810 - categorical_accuracy: 0.5191 - val_loss: 7.8038 - val_mean_absolute_error: 0.4844 - val_categorical_accuracy: 0.5156\b\b\b\b\b\b\b\b\b\b\b\b\b\b\b\b\b\b\b\b\b\b\b\b\b\b\b\b\b\b\b\b\b\b\b\b\b\b\b\b\b\b\b\b\b\n",
      "Epoch 44/50\n",
      "7999/7999 [==============================] - 0s - loss: 7.7518 - mean_absolute_error: 0.4809 - categorical_accuracy: 0.5191 - val_loss: 7.8037 - val_mean_absolute_error: 0.4844 - val_categorical_accuracy: 0.5156\b\b\b\b\b\b\b\b\b\b\b\b\b\b\b\b\b\b\b\b\b\b\b\b\b\b\b\b\b\b\b\b\b\b\b\b\b\b\b\b\b\b\b\b\b\n",
      "Epoch 45/50\n",
      "7999/7999 [==============================] - 0s - loss: 7.7518 - mean_absolute_error: 0.4809 - categorical_accuracy: 0.5191 - val_loss: 7.8037 - val_mean_absolute_error: 0.4844 - val_categorical_accuracy: 0.5156\b\b\b\b\b\b\b\b\b\b\b\b\b\b\b\b\b\b\b\b\b\b\b\b\b\b\b\b\b\b\b\b\b\b\b\b\b\b\b\b\b\b\b\b\b\n",
      "Epoch 46/50\n",
      "7999/7999 [==============================] - 0s - loss: 7.7518 - mean_absolute_error: 0.4809 - categorical_accuracy: 0.5191 - val_loss: 7.8037 - val_mean_absolute_error: 0.4844 - val_categorical_accuracy: 0.5156\b\b\b\b\b\b\b\b\b\b\b\b\b\b\b\b\b\b\b\b\b\b\b\b\b\b\b\b\b\b\b\b\b\b\b\b\b\b\b\b\b\b\b\b\b\n",
      "Epoch 47/50\n",
      "7999/7999 [==============================] - 0s - loss: 7.7518 - mean_absolute_error: 0.4809 - categorical_accuracy: 0.5191 - val_loss: 7.8037 - val_mean_absolute_error: 0.4844 - val_categorical_accuracy: 0.5156\b\b\b\b\b\b\b\b\b\b\b\b\b\b\b\b\b\b\b\b\b\b\b\b\b\b\b\b\b\b\b\b\b\b\b\b\b\b\b\b\b\b\b\b\b\n",
      "Epoch 48/50\n",
      "7999/7999 [==============================] - 0s - loss: 7.7518 - mean_absolute_error: 0.4809 - categorical_accuracy: 0.5191 - val_loss: 7.8037 - val_mean_absolute_error: 0.4844 - val_categorical_accuracy: 0.5156\b\b\b\b\b\b\b\b\b\b\b\b\b\b\b\b\b\b\b\b\b\b\b\b\b\b\b\b\b\b\b\b\b\b\b\b\b\b\b\b\b\b\b\b\b\n",
      "Epoch 49/50\n",
      "7999/7999 [==============================] - 0s - loss: 7.7518 - mean_absolute_error: 0.4809 - categorical_accuracy: 0.5191 - val_loss: 7.8037 - val_mean_absolute_error: 0.4844 - val_categorical_accuracy: 0.5156\b\b\b\b\b\b\b\b\b\b\b\b\b\b\b\b\b\b\b\b\b\b\b\b\b\b\b\b\b\b\b\b\b\b\b\b\b\b\b\b\b\b\b\b\b\n",
      "Epoch 50/50\n",
      "7999/7999 [==============================] - 0s - loss: 7.7518 - mean_absolute_error: 0.4809 - categorical_accuracy: 0.5191 - val_loss: 7.8038 - val_mean_absolute_error: 0.4844 - val_categorical_accuracy: 0.5156\b\b\b\b\b\b\b\b\b\b\b\b\b\b\b\b\b\b\b\b\b\b\b\b\b\b\b\b\b\b\b\b\b\b\b\b\b\b\b\b\b\b\b\b\b\n"
     ]
    }
   ],
   "source": [
    "res = model.fit(x_train.T, y_train, epochs=50, batch_size=1000, validation_split=0.8)"
   ]
  },
  {
   "cell_type": "code",
   "execution_count": 7,
   "metadata": {},
   "outputs": [
    {
     "name": "stdout",
     "output_type": "stream",
     "text": [
      " 7488/10000 [=====================>........] - ETA: 0s\b\b\b\b\b\b\b\b\b\b\b\b\b\b\b\b\b\b\b\b\b\b\b\b\b\b\b\b\b\b\b\b\b\b\b\b\b\b\b\b\b\b\b\b\b\b\b\b\b\b\b\b\b\b\b\b\b\b\b\b\b\b\b\b\b\b\b\b\b\b\b\b\b\b\b\b\b\b\b\b\b\b\b\b\b\b\b\b\b\b\b\b\b\b\b\b\b\b\b\b\b\b\b\b\b\b\b\b\b\b\b\b\b\b\b\b\b\b\b\b\b\b\b\b\b\b\b\b\b\b\b\b\b\b\b\b\b\b\b\b\b\b\b\b\b\b\b\b\b\b\b\b\b\b\b\b\b\b\b\b\b\b[7.6399250358581545, 0.47409038228988648, 0.52590000000000003]\n"
     ]
    }
   ],
   "source": [
    "# Test loss and accuracy\n",
    "loss_and_metrics = model.evaluate(x_test.T, y_test)\n",
    "print(loss_and_metrics)"
   ]
  }
 ],
 "metadata": {
  "kernelspec": {
   "display_name": "Python 2",
   "language": "python",
   "name": "python2"
  },
  "language_info": {
   "codemirror_mode": {
    "name": "ipython",
    "version": 2
   },
   "file_extension": ".py",
   "mimetype": "text/x-python",
   "name": "python",
   "nbconvert_exporter": "python",
   "pygments_lexer": "ipython2",
   "version": "2.7.12"
  }
 },
 "nbformat": 4,
 "nbformat_minor": 2
}
