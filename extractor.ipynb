{
 "cells": [
  {
   "cell_type": "markdown",
   "metadata": {
    "deletable": true,
    "editable": true
   },
   "source": [
    "## Functions and parameters"
   ]
  },
  {
   "cell_type": "code",
   "execution_count": null,
   "metadata": {
    "collapsed": false,
    "deletable": true,
    "editable": true
   },
   "outputs": [],
   "source": [
    "import numpy as np\n",
    "\n",
    "def first_x_sec(seconds, filepath, timecol):\n",
    "    ''' param: seconds, int, filter out the first seconds of the game\n",
    "        param: filepath, string, the filepath of the csv datafile\n",
    "        param: timecol, int, the index of the column that contains time\n",
    "    '''\n",
    "    f = open(filepath)\n",
    "    lines = f.readlines()\n",
    "    lines = [ line.split(',') for line in lines ]\n",
    "    if seconds is None:\n",
    "        return np.array(lines[1:])\n",
    "    else:\n",
    "        return np.array(list(filter(lambda line: int(line[timecol])<=seconds, lines[1:])))\n",
    "\n",
    "def read_columns(filepath, start_col, stop_col):\n",
    "    f = open(filepath)\n",
    "    lines = f.readlines()\n",
    "    lines = [ line.strip().split(',')[start_col:stop_col] for line in lines[1:] ]\n",
    "    return np.array(lines).astype(np.int)\n",
    "\n",
    "def separate(matrix, col, index_function = lambda x: x):\n",
    "    ''' This function will take a 2 diminsional numpy array and create a python list.\n",
    "        each entry is a 2 dimensional numpy array. The entries in the list are separated \n",
    "        on the values in the given column\n",
    "    '''\n",
    "    max_index = np.max(list(map(index_function, matrix[:,col])))\n",
    "    min_index = np.min(list(map(index_function, matrix[:,col])))\n",
    "    list_length = max_index-min_index+1\n",
    "    separated = [np.empty(shape=(0,matrix.shape[1])) for _ in range(list_length)]\n",
    "    for i in range(list_length):\n",
    "        separated[i] = np.array(list(filter(lambda x: index_function(x[col])==i, matrix)))\n",
    "    return separated\n",
    "\n",
    "def save_array(array, filepath):\n",
    "    print(array.shape)\n",
    "    outfile = open(filepath, 'wb')\n",
    "    np.save(outfile, array)\n",
    "    outfile.close()\n",
    "\n",
    "\n",
    "time_scope = 300\n",
    "time_step = 60 # This is determined by data rather than by user here. Make sure how your data is separaed\n",
    "\n",
    "\n",
    "\n",
    "## Match file contains more than just the label\n",
    "# column 10 contains the True/False value of Radiant win\n",
    "\n",
    "#purchases = first_x_sec(time_scope, 'dataset/purchase_log.csv', 1)\n",
    "\n",
    "\n",
    "\n"
   ]
  },
  {
   "cell_type": "markdown",
   "metadata": {
    "deletable": true,
    "editable": true
   },
   "source": [
    "## Read player stats"
   ]
  },
  {
   "cell_type": "code",
   "execution_count": null,
   "metadata": {
    "collapsed": false,
    "deletable": true,
    "editable": true
   },
   "outputs": [],
   "source": [
    "# First 5 min: 5*60=300, col 2(1 in 0 indexing) is time.\n",
    "player_time = first_x_sec(time_scope, 'dataset/player_time.csv', 1)\n",
    "player_time = player_time.astype(np.float)\n",
    "print(player_time.shape)\n",
    "\n",
    "\n"
   ]
  },
  {
   "cell_type": "code",
   "execution_count": null,
   "metadata": {
    "collapsed": false,
    "deletable": true,
    "editable": true
   },
   "outputs": [],
   "source": [
    "# Find what matches are too short\n",
    "match_lengths = np.zeros((50000,1))\n",
    "for log in player_time:\n",
    "    match_lengths[int(log[0])] = log[1]\n",
    "too_short_matches = []\n",
    "for i in range(len(match_lengths)):\n",
    "    if match_lengths[i] < time_scope:\n",
    "        too_short_matches.append(i)\n",
    "print(too_short_matches)\n",
    "match_lengths = None"
   ]
  },
  {
   "cell_type": "markdown",
   "metadata": {
    "deletable": true,
    "editable": true
   },
   "source": [
    "## Remove too short matches"
   ]
  },
  {
   "cell_type": "code",
   "execution_count": null,
   "metadata": {
    "collapsed": false,
    "deletable": true,
    "editable": true
   },
   "outputs": [],
   "source": [
    "player_time = np.array(list(filter(lambda log: log[0] not in too_short_matches, player_time)))\n",
    "print(player_time.shape)"
   ]
  },
  {
   "cell_type": "markdown",
   "metadata": {
    "deletable": true,
    "editable": true
   },
   "source": [
    "## Label data"
   ]
  },
  {
   "cell_type": "code",
   "execution_count": null,
   "metadata": {
    "collapsed": false,
    "deletable": true,
    "editable": true
   },
   "outputs": [],
   "source": [
    "from keras.utils import to_categorical\n",
    "labels = first_x_sec(None, 'dataset/match.csv', None)\n",
    "labels = np.array([int(match[9] == 'True') for match in labels])\n",
    "print(labels)\n",
    "labels = np.array(list(filter(lambda x: x[0] not in too_short_matches, enumerate(labels))))\n",
    "print(labels.shape)\n",
    "labels = labels[:,1]\n",
    "labels =to_categorical(labels)\n",
    "print(labels.shape)\n",
    "print(labels)"
   ]
  },
  {
   "cell_type": "code",
   "execution_count": null,
   "metadata": {
    "collapsed": false,
    "deletable": true,
    "editable": true
   },
   "outputs": [],
   "source": [
    "save_array(labels, '/tmp/game_labels.npy')\n",
    "labels = None # Clear memory"
   ]
  },
  {
   "cell_type": "markdown",
   "metadata": {
    "deletable": true,
    "editable": true
   },
   "source": [
    "## Separate data into time steps"
   ]
  },
  {
   "cell_type": "code",
   "execution_count": null,
   "metadata": {
    "collapsed": false,
    "deletable": true,
    "editable": true
   },
   "outputs": [],
   "source": [
    "# First we need to separate the data into time_steps so that we can normalize over the time steps\n",
    "time_step_separated = separate(player_time, 1, index_function = lambda x: int(x/time_step))\n",
    "player_time = None\n",
    "\n"
   ]
  },
  {
   "cell_type": "markdown",
   "metadata": {
    "deletable": true,
    "editable": true
   },
   "source": [
    "## Normalize data in each time step over all matches"
   ]
  },
  {
   "cell_type": "code",
   "execution_count": null,
   "metadata": {
    "collapsed": false,
    "deletable": true,
    "editable": true
   },
   "outputs": [],
   "source": [
    "for i in range(len(time_step_separated)):\n",
    "    max_value = np.max(time_step_separated[i][:,2:], axis=0)\n",
    "    time_step_separated[i][:,2:] = time_step_separated[i][:,2:]/max_value\n",
    "print(time_step_separated[1].shape)\n",
    "print(time_step_separated[1])"
   ]
  },
  {
   "cell_type": "code",
   "execution_count": null,
   "metadata": {
    "collapsed": false,
    "deletable": true,
    "editable": true
   },
   "outputs": [],
   "source": [
    "# Stick test that data is normalized\n",
    "print(time_step_separated[3][3]) # timestep 3, match 3"
   ]
  },
  {
   "cell_type": "markdown",
   "metadata": {
    "deletable": true,
    "editable": true
   },
   "source": [
    "## Change separation into matches"
   ]
  },
  {
   "cell_type": "code",
   "execution_count": null,
   "metadata": {
    "collapsed": false,
    "deletable": true,
    "editable": true
   },
   "outputs": [],
   "source": [
    "time_step_separated = np.array(time_step_separated)\n",
    "print (time_step_separated.shape)\n",
    "matches = np.swapaxes(time_step_separated, 0,1) #swap axes to have the data separated on matches now\n",
    "time_step_separated = None"
   ]
  },
  {
   "cell_type": "code",
   "execution_count": null,
   "metadata": {
    "collapsed": false,
    "deletable": true,
    "editable": true
   },
   "outputs": [],
   "source": [
    "print(matches.shape)\n",
    "print(matches[0][1])"
   ]
  },
  {
   "cell_type": "code",
   "execution_count": null,
   "metadata": {
    "collapsed": false,
    "deletable": true,
    "editable": true
   },
   "outputs": [],
   "source": [
    "matches = matches[:,:,2:]\n",
    "print(matches.shape)"
   ]
  },
  {
   "cell_type": "markdown",
   "metadata": {
    "deletable": true,
    "editable": true
   },
   "source": [
    "## Save games without hero data"
   ]
  },
  {
   "cell_type": "code",
   "execution_count": null,
   "metadata": {
    "collapsed": false,
    "deletable": true,
    "editable": true
   },
   "outputs": [],
   "source": [
    "save_array(matches, '/tmp/game_data.npy')"
   ]
  },
  {
   "cell_type": "markdown",
   "metadata": {
    "collapsed": false,
    "deletable": true,
    "editable": true
   },
   "source": [
    "## Load in hero_data"
   ]
  },
  {
   "cell_type": "code",
   "execution_count": null,
   "metadata": {
    "collapsed": false,
    "deletable": true,
    "editable": true
   },
   "outputs": [],
   "source": [
    "from keras.utils.np_utils import to_categorical\n",
    "hero_data = read_columns('dataset/players.csv', 0, 3)\n",
    "hero_data = np.array(list(filter(lambda log: log[0] not in too_short_matches, hero_data)))\n",
    "hero_data = hero_data[:,2]\n",
    "hero_rep = to_categorical(hero_data)\n",
    "print(hero_rep.shape)\n",
    "hero_data = None"
   ]
  },
  {
   "cell_type": "markdown",
   "metadata": {
    "deletable": true,
    "editable": true
   },
   "source": [
    "## Create team hero representations"
   ]
  },
  {
   "cell_type": "code",
   "execution_count": null,
   "metadata": {
    "collapsed": false,
    "deletable": true,
    "editable": true,
    "scrolled": true
   },
   "outputs": [],
   "source": [
    "print(hero_rep[10].flatten().reshape((-1,1)).shape)\n",
    "print(hero_rep.shape)\n",
    "team_hero_rep = np.zeros(shape=(int(hero_rep.shape[0]/5),hero_rep.shape[1]))\n",
    "print(team_hero_rep.shape)\n",
    "\n",
    "for i in range(team_hero_rep.shape[0]):\n",
    "    team_hero_rep[i] += np.sum(hero_rep[5*i:5*(i+1)], axis=0)\n",
    "print(team_hero_rep.shape)\n",
    "print(team_hero_rep[1])\n",
    "hero_rep = None"
   ]
  },
  {
   "cell_type": "code",
   "execution_count": null,
   "metadata": {
    "collapsed": false,
    "deletable": true,
    "editable": true
   },
   "outputs": [],
   "source": [
    "## reshape so that first dimension is number of matches and second is the 2  team vectors concatenated\n",
    "team_hero_rep = team_hero_rep.reshape((matches.shape[0],team_hero_rep.shape[1]*2))\n",
    "print(team_hero_rep.shape)"
   ]
  },
  {
   "cell_type": "markdown",
   "metadata": {
    "deletable": true,
    "editable": true
   },
   "source": [
    "## Add the team hero data to the match vectors"
   ]
  },
  {
   "cell_type": "code",
   "execution_count": null,
   "metadata": {
    "collapsed": false,
    "deletable": true,
    "editable": true,
    "scrolled": true
   },
   "outputs": [],
   "source": [
    "print(matches.shape)\n",
    "## Repeat info for all time steps\n",
    "team_hero_rep = np.repeat(team_hero_rep, matches.shape[1], axis=1)\n",
    "## Reshape into time steps\n",
    "team_hero_rep = team_hero_rep.reshape((team_hero_rep.shape[0], team_hero_rep.shape[1]//matches.shape[1], matches.shape[1]))\n",
    "## Swap the axes to match with matches\n",
    "team_hero_rep = np.swapaxes(team_hero_rep, 1,2)\n",
    "print(team_hero_rep.shape)\n",
    "matches = np.concatenate((matches, team_hero_rep), axis=2)\n",
    "print(matches.shape)"
   ]
  },
  {
   "cell_type": "markdown",
   "metadata": {
    "collapsed": false,
    "deletable": true,
    "editable": true
   },
   "source": [
    "## Save games with hero data"
   ]
  },
  {
   "cell_type": "code",
   "execution_count": null,
   "metadata": {
    "collapsed": false,
    "deletable": true,
    "editable": true
   },
   "outputs": [],
   "source": [
    "save_array(matches, '/tmp/game_data.npy')"
   ]
  },
  {
   "cell_type": "code",
   "execution_count": null,
   "metadata": {
    "collapsed": false,
    "deletable": true,
    "editable": true
   },
   "outputs": [],
   "source": [
    "#import math\n",
    "#print(purchases.shape)\n",
    "#purchases = purchases.astype(np.int)\n",
    "\n",
    "    \n",
    "#for log in purchases:\n",
    "#    log[1] = math.ceil(max(0, log[1]) / 60) * 60\n",
    " \n",
    "\n"
   ]
  },
  {
   "cell_type": "code",
   "execution_count": null,
   "metadata": {
    "collapsed": false,
    "deletable": true,
    "editable": true
   },
   "outputs": [],
   "source": [
    "#in any game, any player for one timestep, what is maximum number of items?\n",
    "#matches = [np.empty(shape=(4,0), dtype=np.int)]*50000\n",
    "#for x in purchases:\n",
    "#    matches[x[3]] = np.concatenate((matches[x[3]], x.reshape(4,1)), axis=1)\n",
    "\n",
    "# separate on time\n",
    "#print(matches[1].T)\n",
    "#for i, match in enumerate(matches):\n",
    "#    separated = [np.empty(shape=(4,0), dtype=np.int)]*6 # 6 time steps [0 60 120 180 240 300]\n",
    "#    for x in match.T:\n",
    "#        time = int(x[1]/60)\n",
    "#        separated[time] = np.concatenate((separated[time], x.reshape(4,1)), axis=1)\n",
    "#    matches[i] = separated\n",
    "\n",
    "#Separate on player\n",
    "#for match in matches:\n",
    "#    for i, time_step in enumerate(match):\n",
    "#        #problem is that this vector is the same for all players. Need 10 copies\n",
    "#        separated = [np.zeros(shape=(218,1), dtype=np.int) for j in range(10)]*10 # 10 players and 218 is maximum item id in dataset\n",
    "        \n",
    "#        for x in time_step.T:\n",
    "#            player = x[2] if x[2]<5 else x[2] - 123 #make players numbered 0 to 9\n",
    "#            separated[player][x[0]-1] += 1\n",
    "#        match[i] = separated\n",
    " "
   ]
  },
  {
   "cell_type": "code",
   "execution_count": null,
   "metadata": {
    "collapsed": false,
    "deletable": true,
    "editable": true
   },
   "outputs": [],
   "source": []
  },
  {
   "cell_type": "code",
   "execution_count": null,
   "metadata": {
    "collapsed": false,
    "deletable": true,
    "editable": true
   },
   "outputs": [],
   "source": [
    "#print (matches[15][0][2].shape) # first match, first timestep 0 and first player purchase log"
   ]
  },
  {
   "cell_type": "code",
   "execution_count": null,
   "metadata": {
    "collapsed": true,
    "deletable": true,
    "editable": true
   },
   "outputs": [],
   "source": [
    "\n"
   ]
  },
  {
   "cell_type": "code",
   "execution_count": null,
   "metadata": {
    "collapsed": false,
    "deletable": true,
    "editable": true
   },
   "outputs": [],
   "source": []
  },
  {
   "cell_type": "code",
   "execution_count": null,
   "metadata": {
    "collapsed": true,
    "deletable": true,
    "editable": true
   },
   "outputs": [],
   "source": []
  },
  {
   "cell_type": "code",
   "execution_count": null,
   "metadata": {
    "collapsed": false,
    "deletable": true,
    "editable": true
   },
   "outputs": [],
   "source": []
  },
  {
   "cell_type": "code",
   "execution_count": null,
   "metadata": {
    "collapsed": false,
    "deletable": true,
    "editable": true
   },
   "outputs": [],
   "source": []
  },
  {
   "cell_type": "code",
   "execution_count": null,
   "metadata": {
    "collapsed": false,
    "deletable": true,
    "editable": true
   },
   "outputs": [],
   "source": []
  },
  {
   "cell_type": "code",
   "execution_count": null,
   "metadata": {
    "collapsed": false,
    "deletable": true,
    "editable": true
   },
   "outputs": [],
   "source": []
  },
  {
   "cell_type": "code",
   "execution_count": null,
   "metadata": {
    "collapsed": false,
    "deletable": true,
    "editable": true
   },
   "outputs": [],
   "source": []
  },
  {
   "cell_type": "code",
   "execution_count": null,
   "metadata": {
    "collapsed": false,
    "deletable": true,
    "editable": true
   },
   "outputs": [],
   "source": []
  },
  {
   "cell_type": "code",
   "execution_count": null,
   "metadata": {
    "collapsed": true,
    "deletable": true,
    "editable": true
   },
   "outputs": [],
   "source": []
  },
  {
   "cell_type": "code",
   "execution_count": null,
   "metadata": {
    "collapsed": true,
    "deletable": true,
    "editable": true
   },
   "outputs": [],
   "source": [
    "\n"
   ]
  },
  {
   "cell_type": "code",
   "execution_count": null,
   "metadata": {
    "collapsed": true,
    "deletable": true,
    "editable": true,
    "scrolled": false
   },
   "outputs": [],
   "source": []
  },
  {
   "cell_type": "code",
   "execution_count": null,
   "metadata": {
    "collapsed": true,
    "deletable": true,
    "editable": true
   },
   "outputs": [],
   "source": []
  },
  {
   "cell_type": "code",
   "execution_count": null,
   "metadata": {
    "collapsed": true,
    "deletable": true,
    "editable": true
   },
   "outputs": [],
   "source": []
  },
  {
   "cell_type": "code",
   "execution_count": null,
   "metadata": {
    "collapsed": true,
    "deletable": true,
    "editable": true
   },
   "outputs": [],
   "source": []
  }
 ],
 "metadata": {
  "kernelspec": {
   "display_name": "Python 3",
   "language": "python",
   "name": "python3"
  },
  "language_info": {
   "codemirror_mode": {
    "name": "ipython",
    "version": 3
   },
   "file_extension": ".py",
   "mimetype": "text/x-python",
   "name": "python",
   "nbconvert_exporter": "python",
   "pygments_lexer": "ipython3",
   "version": "3.5.1+"
  }
 },
 "nbformat": 4,
 "nbformat_minor": 2
}
