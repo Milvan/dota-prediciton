{
 "cells": [
  {
   "cell_type": "markdown",
   "metadata": {
    "deletable": true,
    "editable": true
   },
   "source": [
    "## Functions and parameters"
   ]
  },
  {
   "cell_type": "code",
   "execution_count": 247,
   "metadata": {
    "collapsed": false,
    "deletable": true,
    "editable": true
   },
   "outputs": [],
   "source": [
    "import numpy as np\n",
    "\n",
    "def first_x_sec(seconds, filepath, timecol):\n",
    "    ''' param: seconds, int, filter out the first seconds of the game\n",
    "        param: filepath, string, the filepath of the csv datafile\n",
    "        param: timecol, int, the index of the column that contains time\n",
    "    '''\n",
    "    f = open(filepath)\n",
    "    lines = f.readlines()\n",
    "    lines = [ line.split(',') for line in lines ]\n",
    "    if seconds is None:\n",
    "        return np.array(lines[1:])\n",
    "    else:\n",
    "        return np.array(list(filter(lambda line: int(line[timecol])<=seconds, lines[1:])))\n",
    "\n",
    "def read_columns(filepath, start_col, stop_col):\n",
    "    f = open(filepath)\n",
    "    lines = f.readlines()\n",
    "    lines = [ line.strip().split(',')[start_col:stop_col] for line in lines[1:] ]\n",
    "    return np.array(lines).astype(np.int)\n",
    "\n",
    "def separate(matrix, col, index_function = lambda x: x):\n",
    "    ''' This function will take a 2 diminsional numpy array and create a python list.\n",
    "        each entry is a 2 dimensional numpy array. The entries in the list are separated \n",
    "        on the values in the given column\n",
    "    '''\n",
    "    max_index = np.max(list(map(index_function, matrix[:,col])))\n",
    "    min_index = np.min(list(map(index_function, matrix[:,col])))\n",
    "    list_length = max_index-min_index+1\n",
    "    separated = [np.empty(shape=(0,matrix.shape[1])) for _ in range(list_length)]\n",
    "    for i in range(list_length):\n",
    "        separated[i] = np.array(list(filter(lambda x: index_function(x[col])==i, matrix)))\n",
    "    return separated\n",
    "\n",
    "def save_array(array, filepath):\n",
    "    print(array.shape)\n",
    "    outfile = open(filepath, 'wb')\n",
    "    np.save(outfile, array)\n",
    "    outfile.close()\n",
    "\n",
    "\n",
    "time_scope = 300\n",
    "time_step = 60 # This is determined by data rather than by user here. Make sure how your data is separaed\n",
    "max_matches = 50000\n",
    "\n",
    "\n",
    "\n"
   ]
  },
  {
   "cell_type": "markdown",
   "metadata": {
    "deletable": true,
    "editable": true
   },
   "source": [
    "## Read player stats"
   ]
  },
  {
   "cell_type": "code",
   "execution_count": 201,
   "metadata": {
    "collapsed": false,
    "deletable": true,
    "editable": true
   },
   "outputs": [
    {
     "name": "stdout",
     "output_type": "stream",
     "text": [
      "(299994, 32)\n"
     ]
    }
   ],
   "source": [
    "# First 5 min: 5*60=300, col 2(1 in 0 indexing) is time.\n",
    "player_time = first_x_sec(time_scope, 'dataset/player_time.csv', 1)\n",
    "player_time = player_time.astype(np.float)\n",
    "print(player_time.shape)\n",
    "\n",
    "\n"
   ]
  },
  {
   "cell_type": "code",
   "execution_count": 202,
   "metadata": {
    "collapsed": false,
    "deletable": true,
    "editable": true
   },
   "outputs": [
    {
     "name": "stdout",
     "output_type": "stream",
     "text": [
      "[6213, 13914, 21228, 31438]\n"
     ]
    }
   ],
   "source": [
    "# Find what matches are too short\n",
    "match_lengths = np.zeros((50000,1))\n",
    "for log in player_time:\n",
    "    match_lengths[int(log[0])] = log[1]\n",
    "too_short_matches = []\n",
    "for i in range(len(match_lengths)):\n",
    "    if match_lengths[i] < time_scope:\n",
    "        too_short_matches.append(i)\n",
    "print(too_short_matches)\n",
    "match_lengths = None"
   ]
  },
  {
   "cell_type": "markdown",
   "metadata": {
    "deletable": true,
    "editable": true
   },
   "source": [
    "## Remove too short matches"
   ]
  },
  {
   "cell_type": "code",
   "execution_count": 203,
   "metadata": {
    "collapsed": false,
    "deletable": true,
    "editable": true
   },
   "outputs": [
    {
     "name": "stdout",
     "output_type": "stream",
     "text": [
      "(299976, 32)\n"
     ]
    }
   ],
   "source": [
    "player_time = np.array(list(filter(lambda log: log[0] not in too_short_matches, player_time)))\n",
    "print(player_time.shape)"
   ]
  },
  {
   "cell_type": "markdown",
   "metadata": {
    "deletable": true,
    "editable": true
   },
   "source": [
    "## Label data"
   ]
  },
  {
   "cell_type": "code",
   "execution_count": 204,
   "metadata": {
    "collapsed": false,
    "deletable": true,
    "editable": true
   },
   "outputs": [
    {
     "name": "stdout",
     "output_type": "stream",
     "text": [
      "[1 0 0 ..., 1 1 0]\n",
      "(49996, 2)\n",
      "(49996, 2)\n",
      "[[ 0.  1.]\n",
      " [ 1.  0.]\n",
      " [ 1.  0.]\n",
      " ..., \n",
      " [ 0.  1.]\n",
      " [ 0.  1.]\n",
      " [ 1.  0.]]\n"
     ]
    }
   ],
   "source": [
    "from keras.utils import to_categorical\n",
    "labels = first_x_sec(None, 'dataset/match.csv', None)\n",
    "labels = np.array([int(match[9] == 'True') for match in labels])\n",
    "print(labels)\n",
    "labels = np.array(list(filter(lambda x: x[0] not in too_short_matches, enumerate(labels))))\n",
    "print(labels.shape)\n",
    "labels = labels[:,1]\n",
    "labels =to_categorical(labels)\n",
    "print(labels.shape)\n",
    "print(labels)"
   ]
  },
  {
   "cell_type": "code",
   "execution_count": 205,
   "metadata": {
    "collapsed": false,
    "deletable": true,
    "editable": true
   },
   "outputs": [
    {
     "name": "stdout",
     "output_type": "stream",
     "text": [
      "(49996, 2)\n"
     ]
    }
   ],
   "source": [
    "save_array(labels, '/tmp/game_labels.npy')\n",
    "labels = None # Clear memory"
   ]
  },
  {
   "cell_type": "markdown",
   "metadata": {
    "deletable": true,
    "editable": true
   },
   "source": [
    "## Separate data into time steps"
   ]
  },
  {
   "cell_type": "code",
   "execution_count": 206,
   "metadata": {
    "collapsed": false,
    "deletable": true,
    "editable": true
   },
   "outputs": [],
   "source": [
    "# First we need to separate the data into time_steps so that we can normalize over the time steps\n",
    "time_step_separated = separate(player_time, 1, index_function = lambda x: int(x/time_step))\n",
    "player_time = None\n",
    "\n"
   ]
  },
  {
   "cell_type": "markdown",
   "metadata": {
    "deletable": true,
    "editable": true
   },
   "source": [
    "## Normalize data in each time step over all matches"
   ]
  },
  {
   "cell_type": "code",
   "execution_count": 207,
   "metadata": {
    "collapsed": false,
    "deletable": true,
    "editable": true
   },
   "outputs": [
    {
     "name": "stdout",
     "output_type": "stream",
     "text": [
      "(49996, 32)\n",
      "[[  0.00000000e+00   6.00000000e+01   3.13891021e-01 ...,   5.00816993e-01\n",
      "    1.25000000e-01   1.12107623e-01]\n",
      " [  1.00000000e+00   6.00000000e+01   7.59785111e-02 ...,   2.05065359e-01\n",
      "    5.00000000e-01   2.40358744e-01]\n",
      " [  2.00000000e+00   6.00000000e+01   1.33537989e-01 ...,   8.08823529e-02\n",
      "    0.00000000e+00   1.34529148e-02]\n",
      " ..., \n",
      " [  4.99970000e+04   6.00000000e+01   1.08979279e-01 ...,   2.32026144e-01\n",
      "    2.50000000e-01   2.06278027e-01]\n",
      " [  4.99980000e+04   6.00000000e+01   1.65003837e-01 ...,   8.16993464e-02\n",
      "    0.00000000e+00   7.53363229e-02]\n",
      " [  4.99990000e+04   6.00000000e+01   7.59785111e-02 ...,   1.47875817e-01\n",
      "    2.50000000e-01   7.35426009e-02]]\n"
     ]
    }
   ],
   "source": [
    "for i in range(len(time_step_separated)):\n",
    "    max_value = np.max(time_step_separated[i][:,2:], axis=0)\n",
    "    time_step_separated[i][:,2:] = time_step_separated[i][:,2:]/max_value\n",
    "print(time_step_separated[1].shape)\n",
    "print(time_step_separated[1])"
   ]
  },
  {
   "cell_type": "code",
   "execution_count": 208,
   "metadata": {
    "collapsed": false,
    "deletable": true,
    "editable": true
   },
   "outputs": [
    {
     "name": "stdout",
     "output_type": "stream",
     "text": [
      "[  3.00000000e+00   1.80000000e+02   2.34705656e-01   1.60000000e-01\n",
      "   3.20872274e-01   1.40422078e-01   3.70370370e-02   4.22816115e-02\n",
      "   1.89093762e-01   8.33333333e-02   3.71671991e-01   2.74174294e-01\n",
      "   1.60000000e-01   2.55985267e-01   2.21856725e-01   2.30769231e-01\n",
      "   6.15107914e-01   1.21813031e-01   7.69230769e-02   2.60069045e-01\n",
      "   2.02346041e-01   2.40000000e-01   3.96303901e-01   1.12684195e-01\n",
      "   3.70370370e-02   2.01164875e-01   1.33635334e-01   0.00000000e+00\n",
      "   1.87090267e-01   4.95019489e-01   5.00000000e-01   4.59293395e-01]\n"
     ]
    }
   ],
   "source": [
    "# Stick test that data is normalized\n",
    "print(time_step_separated[3][3]) # timestep 3, match 3"
   ]
  },
  {
   "cell_type": "markdown",
   "metadata": {
    "deletable": true,
    "editable": true
   },
   "source": [
    "## Change separation into matches"
   ]
  },
  {
   "cell_type": "code",
   "execution_count": 209,
   "metadata": {
    "collapsed": false,
    "deletable": true,
    "editable": true
   },
   "outputs": [
    {
     "name": "stdout",
     "output_type": "stream",
     "text": [
      "(6, 49996, 32)\n"
     ]
    }
   ],
   "source": [
    "time_step_separated = np.array(time_step_separated)\n",
    "print (time_step_separated.shape)\n",
    "matches = np.swapaxes(time_step_separated, 0,1) #swap axes to have the data separated on matches now\n",
    "time_step_separated = None"
   ]
  },
  {
   "cell_type": "code",
   "execution_count": 210,
   "metadata": {
    "collapsed": false,
    "deletable": true,
    "editable": true
   },
   "outputs": [
    {
     "name": "stdout",
     "output_type": "stream",
     "text": [
      "(49996, 6, 32)\n",
      "[  0.00000000e+00   6.00000000e+01   3.13891021e-01   0.00000000e+00\n",
      "   6.25620655e-02   1.03347889e-01   1.00000000e-01   9.55315871e-02\n",
      "   1.33439237e-01   0.00000000e+00   1.30344108e-01   1.61812298e-01\n",
      "   0.00000000e+00   1.62731872e-01   1.50387597e-01   1.25000000e-01\n",
      "   1.16604478e-01   1.41119221e-01   2.50000000e-01   6.56996587e-02\n",
      "   1.11200645e-01   1.25000000e-01   5.20134228e-02   2.58426966e-01\n",
      "   7.50000000e-01   2.92743953e-01   7.48502994e-02   0.00000000e+00\n",
      "   6.15507594e-02   5.00816993e-01   1.25000000e-01   1.12107623e-01]\n"
     ]
    }
   ],
   "source": [
    "print(matches.shape)\n",
    "print(matches[0][1])"
   ]
  },
  {
   "cell_type": "code",
   "execution_count": 211,
   "metadata": {
    "collapsed": false,
    "deletable": true,
    "editable": true
   },
   "outputs": [
    {
     "name": "stdout",
     "output_type": "stream",
     "text": [
      "(49996, 6, 30)\n"
     ]
    }
   ],
   "source": [
    "matches = matches[:,:,2:]\n",
    "print(matches.shape)"
   ]
  },
  {
   "cell_type": "markdown",
   "metadata": {
    "deletable": true,
    "editable": true
   },
   "source": [
    "## Save games without hero data"
   ]
  },
  {
   "cell_type": "code",
   "execution_count": 212,
   "metadata": {
    "collapsed": false,
    "deletable": true,
    "editable": true
   },
   "outputs": [
    {
     "name": "stdout",
     "output_type": "stream",
     "text": [
      "(49996, 6, 30)\n"
     ]
    }
   ],
   "source": [
    "save_array(matches, '/tmp/game_data.npy')"
   ]
  },
  {
   "cell_type": "markdown",
   "metadata": {
    "collapsed": false,
    "deletable": true,
    "editable": true
   },
   "source": [
    "## Load in hero_data"
   ]
  },
  {
   "cell_type": "code",
   "execution_count": 213,
   "metadata": {
    "collapsed": false,
    "deletable": true,
    "editable": true
   },
   "outputs": [
    {
     "name": "stdout",
     "output_type": "stream",
     "text": [
      "(499960, 113)\n"
     ]
    }
   ],
   "source": [
    "from keras.utils.np_utils import to_categorical\n",
    "hero_data = read_columns('dataset/players.csv', 0, 3)\n",
    "hero_data = np.array(list(filter(lambda log: log[0] not in too_short_matches, hero_data)))\n",
    "hero_data = hero_data[:,2]\n",
    "hero_rep = to_categorical(hero_data)\n",
    "print(hero_rep.shape)\n",
    "hero_data = None"
   ]
  },
  {
   "cell_type": "markdown",
   "metadata": {
    "deletable": true,
    "editable": true
   },
   "source": [
    "## Create team hero representations"
   ]
  },
  {
   "cell_type": "code",
   "execution_count": 214,
   "metadata": {
    "collapsed": false,
    "deletable": true,
    "editable": true,
    "scrolled": true
   },
   "outputs": [
    {
     "name": "stdout",
     "output_type": "stream",
     "text": [
      "(113, 1)\n",
      "(499960, 113)\n",
      "(99992, 113)\n",
      "(99992, 113)\n",
      "[ 0.  0.  0.  0.  0.  0.  0.  1.  0.  0.  0.  0.  0.  0.  0.  0.  0.  0.\n",
      "  0.  0.  0.  0.  0.  0.  0.  0.  0.  0.  0.  0.  0.  0.  0.  0.  0.  0.\n",
      "  0.  0.  0.  0.  0.  0.  0.  0.  0.  0.  1.  0.  0.  0.  0.  0.  0.  0.\n",
      "  0.  0.  0.  0.  0.  0.  0.  0.  0.  0.  0.  0.  0.  0.  0.  0.  0.  0.\n",
      "  0.  1.  0.  0.  0.  0.  0.  0.  0.  0.  0.  0.  0.  0.  0.  0.  0.  0.\n",
      "  0.  0.  0.  0.  0.  0.  0.  0.  0.  0.  0.  0.  1.  0.  0.  0.  1.  0.\n",
      "  0.  0.  0.  0.  0.]\n"
     ]
    }
   ],
   "source": [
    "print(hero_rep[10].flatten().reshape((-1,1)).shape)\n",
    "print(hero_rep.shape)\n",
    "team_hero_rep = np.zeros(shape=(int(hero_rep.shape[0]/5),hero_rep.shape[1]))\n",
    "print(team_hero_rep.shape)\n",
    "\n",
    "for i in range(team_hero_rep.shape[0]):\n",
    "    team_hero_rep[i] += np.sum(hero_rep[5*i:5*(i+1)], axis=0)\n",
    "print(team_hero_rep.shape)\n",
    "print(team_hero_rep[1])\n",
    "hero_rep = None"
   ]
  },
  {
   "cell_type": "code",
   "execution_count": 215,
   "metadata": {
    "collapsed": false,
    "deletable": true,
    "editable": true
   },
   "outputs": [
    {
     "name": "stdout",
     "output_type": "stream",
     "text": [
      "(49996, 226)\n"
     ]
    }
   ],
   "source": [
    "## reshape so that first dimension is number of matches and second is the 2  team vectors concatenated\n",
    "team_hero_rep = team_hero_rep.reshape((matches.shape[0],team_hero_rep.shape[1]*2))\n",
    "print(team_hero_rep.shape)"
   ]
  },
  {
   "cell_type": "markdown",
   "metadata": {
    "deletable": true,
    "editable": true
   },
   "source": [
    "## Add the team hero data to the match vectors"
   ]
  },
  {
   "cell_type": "code",
   "execution_count": 216,
   "metadata": {
    "collapsed": false,
    "deletable": true,
    "editable": true,
    "scrolled": true
   },
   "outputs": [
    {
     "name": "stdout",
     "output_type": "stream",
     "text": [
      "(49996, 6, 30)\n",
      "(49996, 6, 226)\n",
      "(49996, 6, 256)\n"
     ]
    }
   ],
   "source": [
    "print(matches.shape)\n",
    "## Repeat info for all time steps\n",
    "team_hero_rep = np.repeat(team_hero_rep, matches.shape[1], axis=1)\n",
    "## Reshape into time steps\n",
    "team_hero_rep = team_hero_rep.reshape((team_hero_rep.shape[0], team_hero_rep.shape[1]//matches.shape[1], matches.shape[1]))\n",
    "## Swap the axes to match with matches\n",
    "team_hero_rep = np.swapaxes(team_hero_rep, 1,2)\n",
    "print(team_hero_rep.shape)\n",
    "matches = np.concatenate((matches, team_hero_rep), axis=2)\n",
    "print(matches.shape)"
   ]
  },
  {
   "cell_type": "markdown",
   "metadata": {
    "collapsed": false,
    "deletable": true,
    "editable": true
   },
   "source": [
    "## Save games with hero data"
   ]
  },
  {
   "cell_type": "code",
   "execution_count": 217,
   "metadata": {
    "collapsed": false,
    "deletable": true,
    "editable": true
   },
   "outputs": [
    {
     "name": "stdout",
     "output_type": "stream",
     "text": [
      "(49996, 6, 256)\n"
     ]
    }
   ],
   "source": [
    "save_array(matches, '/tmp/game_data.npy')"
   ]
  },
  {
   "cell_type": "markdown",
   "metadata": {
    "deletable": true,
    "editable": true
   },
   "source": [
    "## Load Purchases"
   ]
  },
  {
   "cell_type": "code",
   "execution_count": 218,
   "metadata": {
    "collapsed": false,
    "deletable": true,
    "editable": true
   },
   "outputs": [
    {
     "name": "stdout",
     "output_type": "stream",
     "text": [
      "(4014805, 4)\n"
     ]
    }
   ],
   "source": [
    "purchases = first_x_sec(time_scope, 'dataset/purchase_log.csv', 1)\n",
    "print(purchases.shape)\n",
    "purchases = purchases.astype(np.int)"
   ]
  },
  {
   "cell_type": "markdown",
   "metadata": {
    "deletable": true,
    "editable": true
   },
   "source": [
    "## Filter too short matches"
   ]
  },
  {
   "cell_type": "code",
   "execution_count": 219,
   "metadata": {
    "collapsed": true,
    "deletable": true,
    "editable": true
   },
   "outputs": [],
   "source": [
    "#purchases = np.array(list(filter(lambda x: x[-1] not in too_short_matches, purchases))) #last col in purchases is match id"
   ]
  },
  {
   "cell_type": "markdown",
   "metadata": {
    "deletable": true,
    "editable": true
   },
   "source": [
    "## Move timestamp to closest 60 sec"
   ]
  },
  {
   "cell_type": "code",
   "execution_count": 220,
   "metadata": {
    "collapsed": false,
    "deletable": true,
    "editable": true
   },
   "outputs": [],
   "source": [
    "import math\n",
    "for log in purchases:\n",
    "    log[1] = math.ceil(max(0, log[1]) / 60) * 60\n",
    " "
   ]
  },
  {
   "cell_type": "code",
   "execution_count": 221,
   "metadata": {
    "collapsed": false,
    "deletable": true,
    "editable": true
   },
   "outputs": [
    {
     "name": "stdout",
     "output_type": "stream",
     "text": [
      "(4014805, 4)\n",
      "(4014805, 219)\n"
     ]
    }
   ],
   "source": [
    "print(purchases.shape)\n",
    "# I want to have purch = nd_array (50000, 6, 218*10), (matches, time_steps, one_hot_items per player)\n",
    "categorical = to_categorical(purchases[:,0])\n",
    "print(categorical.shape)\n",
    "categorical = categorical.reshape((categorical.shape[0], categorical.shape[1], 1))"
   ]
  },
  {
   "cell_type": "code",
   "execution_count": null,
   "metadata": {
    "collapsed": true,
    "deletable": true,
    "editable": true
   },
   "outputs": [],
   "source": []
  },
  {
   "cell_type": "code",
   "execution_count": 222,
   "metadata": {
    "collapsed": false,
    "deletable": true,
    "editable": true
   },
   "outputs": [
    {
     "name": "stdout",
     "output_type": "stream",
     "text": [
      "219\n",
      "2\n"
     ]
    }
   ],
   "source": [
    "\n",
    "\n",
    "purch = [[ [ np.zeros((categorical.shape[1],1)) for i in range(2)] for t in range(int(time_scope/time_step) +1)] for m in range(50000)]\n",
    "print(len(purch[len(matches)-1][0][1]))\n",
    "#test = purch[purchases[0][3]][int(purchases[0][1]/60)][0] + categorical[0].reshape(-1,1)\n",
    "#print(test.shape)\n",
    "for i, log in enumerate(purchases):\n",
    "    team = 0 if log[2] < 5 else 1\n",
    "    purch[log[3]][int(log[1]/60)][team] += categorical[i]\n",
    "print(len(purch[0][0]))\n",
    "purchases = purch\n",
    "purch = None"
   ]
  },
  {
   "cell_type": "code",
   "execution_count": null,
   "metadata": {
    "collapsed": true,
    "deletable": true,
    "editable": true
   },
   "outputs": [],
   "source": []
  },
  {
   "cell_type": "code",
   "execution_count": 223,
   "metadata": {
    "collapsed": false,
    "deletable": true,
    "editable": true
   },
   "outputs": [],
   "source": [
    "purchases = list(filter(lambda x: x[0] not in too_short_matches, enumerate(purchases))) #last col in purchases is match id"
   ]
  },
  {
   "cell_type": "code",
   "execution_count": 224,
   "metadata": {
    "collapsed": false,
    "deletable": true,
    "editable": true
   },
   "outputs": [],
   "source": [
    "purchases = list(map(lambda x: x[1], purchases))"
   ]
  },
  {
   "cell_type": "code",
   "execution_count": 225,
   "metadata": {
    "collapsed": false,
    "deletable": true,
    "editable": true
   },
   "outputs": [
    {
     "name": "stdout",
     "output_type": "stream",
     "text": [
      "219\n",
      "(49996, 6, 2, 219, 1)\n",
      "[[ 0.  0.  0.  0.  0.  0.  0.  0.  0.  0.  0.  0.  0.  0.  0.  0.  3.  0.\n",
      "   0.  0.  1.  0.  0.  0.  0.  0.  0.  0.  0.  0.  0.  0.  0.  0.  0.  0.\n",
      "   0.  0.  2.  2.  0.  0.  2.  0.  5.  1.  0.  0.  0.  0.  0.  0.  0.  0.\n",
      "   0.  0.  0.  0.  0.  0.  0.  0.  0.  0.  0.  0.  0.  0.  0.  0.  0.  0.\n",
      "   0.  0.  0.  0.  0.  0.  0.  0.  0.  0.  0.  0.  0.  0.  0.  0.  0.  0.\n",
      "   0.  0.  0.  0.  0.  0.  0.  0.  0.  0.  0.  0.  0.  0.  0.  0.  0.  0.\n",
      "   0.  0.  0.  0.  0.  0.  0.  0.  0.  0.  0.  0.  0.  0.  0.  0.  0.  0.\n",
      "   0.  0.  0.  0.  0.  0.  0.  0.  0.  0.  0.  0.  0.  0.  0.  0.  0.  0.\n",
      "   0.  0.  0.  0.  0.  0.  0.  0.  0.  0.  0.  0.  0.  0.  0.  0.  0.  0.\n",
      "   0.  0.  0.  0.  0.  0.  0.  0.  0.  0.  0.  0.  0.  0.  0.  0.  0.  0.\n",
      "   0.  0.  3.  0.  0.  0.  0.  0.  0.  0.  0.  0.  0.  0.  0.  0.  0.  0.\n",
      "   0.  0.  0.  0.  0.  0.  0.  0.  0.  0.  0.  0.  0.  0.  0.  0.  0.  0.\n",
      "   2.  0.  0.]]\n",
      "(49996, 6, 438)\n"
     ]
    }
   ],
   "source": [
    "print(len(purchases[2][4][1]))\n",
    "purchases = np.array(purchases)\n",
    "print(purchases.shape)\n",
    "print(purchases[1,0,1].T)\n",
    "purchases = purchases.reshape(purchases.shape[0], purchases.shape[1], purchases.shape[3]*purchases.shape[2])\n",
    "print(purchases.shape)"
   ]
  },
  {
   "cell_type": "code",
   "execution_count": 226,
   "metadata": {
    "collapsed": false,
    "deletable": true,
    "editable": true
   },
   "outputs": [
    {
     "name": "stdout",
     "output_type": "stream",
     "text": [
      "(49996, 6, 256)\n",
      "(49996, 6, 694)\n"
     ]
    }
   ],
   "source": [
    "print(matches.shape)\n",
    "matches = np.concatenate((matches, purchases), axis=2)\n",
    "print(matches.shape)"
   ]
  },
  {
   "cell_type": "code",
   "execution_count": 227,
   "metadata": {
    "collapsed": false,
    "deletable": true,
    "editable": true
   },
   "outputs": [
    {
     "name": "stdout",
     "output_type": "stream",
     "text": [
      "(49996, 6, 694)\n"
     ]
    }
   ],
   "source": [
    "save_array(matches, '/tmp/game_data.npy')"
   ]
  },
  {
   "cell_type": "markdown",
   "metadata": {},
   "source": [
    "## Load objectives data"
   ]
  },
  {
   "cell_type": "code",
   "execution_count": 242,
   "metadata": {
    "collapsed": false,
    "deletable": true,
    "editable": true
   },
   "outputs": [
    {
     "name": "stdout",
     "output_type": "stream",
     "text": [
      "(47525, 9)\n",
      "(47410, 9)\n"
     ]
    }
   ],
   "source": [
    "objectives = first_x_sec(time_scope, 'dataset/objectives.csv', -2)\n",
    "print(objectives.shape)\n",
    "objectives = np.array(list(filter(lambda x: int(x[2])>=0, objectives)))\n",
    "print(objectives.shape)"
   ]
  },
  {
   "cell_type": "markdown",
   "metadata": {
    "deletable": true,
    "editable": true
   },
   "source": [
    "## Create objectives map"
   ]
  },
  {
   "cell_type": "code",
   "execution_count": 243,
   "metadata": {
    "collapsed": false,
    "deletable": true,
    "editable": true
   },
   "outputs": [
    {
     "name": "stdout",
     "output_type": "stream",
     "text": [
      "(5,)\n",
      "['CHAT_MESSAGE_AEGIS' 'CHAT_MESSAGE_FIRSTBLOOD' 'CHAT_MESSAGE_ROSHAN_KILL'\n",
      " 'CHAT_MESSAGE_TOWER_DENY' 'CHAT_MESSAGE_TOWER_KILL']\n",
      "{'CHAT_MESSAGE_FIRSTBLOOD': 1, 'CHAT_MESSAGE_TOWER_KILL': 4, 'CHAT_MESSAGE_ROSHAN_KILL': 2, 'CHAT_MESSAGE_AEGIS': 0, 'CHAT_MESSAGE_TOWER_DENY': 3}\n"
     ]
    }
   ],
   "source": [
    "from keras.utils import to_categorical\n",
    "obj_cats = np.unique(objectives[:,5])\n",
    "print(obj_cats.shape)\n",
    "print(obj_cats)\n",
    "obj_cats = dict(list(map(lambda x: (x[1], x[0]), enumerate(obj_cats))))\n",
    "print(obj_cats)"
   ]
  },
  {
   "cell_type": "markdown",
   "metadata": {
    "collapsed": false,
    "deletable": true,
    "editable": true
   },
   "source": [
    "## Separate objectives into matches and time steps, rep as one hot for each team concatenated"
   ]
  },
  {
   "cell_type": "code",
   "execution_count": 248,
   "metadata": {
    "collapsed": false,
    "deletable": true,
    "editable": true
   },
   "outputs": [
    {
     "name": "stdout",
     "output_type": "stream",
     "text": [
      "(1, 10)\n"
     ]
    }
   ],
   "source": [
    "match_objectives = [[np.empty((0,len(obj_cats)*2)) for _ in range(int(time_scope/time_step) +1)] for _ in range(max_matches)]\n",
    "for obj in objectives:\n",
    "    team = 0 if int(obj[2]) < 5 else 1\n",
    "    time = int(obj[-2])//60\n",
    "    obj_arr = np.zeros((1,len(obj_cats)*2))\n",
    "    obj_arr[0,obj_cats[obj[5]] + team*len(obj_cats)] = 1\n",
    "    match_objectives[int(obj[0])][time] = np.concatenate((match_objectives[int(obj[0])][time], obj_arr), axis=0)\n",
    "print(match_objectives[0][0].shape)\n"
   ]
  },
  {
   "cell_type": "markdown",
   "metadata": {},
   "source": [
    "## Filter away too short matches"
   ]
  },
  {
   "cell_type": "code",
   "execution_count": 250,
   "metadata": {
    "collapsed": false,
    "deletable": true,
    "editable": true
   },
   "outputs": [
    {
     "name": "stdout",
     "output_type": "stream",
     "text": [
      "[[ 0.  1.  0.  0.  0.  0.  0.  0.  0.  0.]]\n",
      "(1, 10)\n"
     ]
    }
   ],
   "source": [
    "match_objectives = list(map(lambda x: x[1], filter(lambda obj: obj[0] not in too_short_matches, enumerate(match_objectives))))\n",
    "print(match_objectives[0][0])\n",
    "print(match_objectives[0][0].shape)\n",
    "print(len(match_objectives))\n"
   ]
  },
  {
   "cell_type": "markdown",
   "metadata": {},
   "source": [
    "## Sum objectives in one time step"
   ]
  },
  {
   "cell_type": "code",
   "execution_count": 252,
   "metadata": {
    "collapsed": false,
    "deletable": true,
    "editable": true
   },
   "outputs": [
    {
     "name": "stdout",
     "output_type": "stream",
     "text": [
      "[]\n",
      "10\n"
     ]
    }
   ],
   "source": [
    "#match_objectives = np.array(match_objectives)\n",
    "\n",
    "print(match_objectives[1][1])\n",
    "max_shape = 0\n",
    "for i, match in enumerate(match_objectives):\n",
    "    for j, step in enumerate(match):\n",
    "        if len(step) == 0:\n",
    "            match_objectives[i][j] = np.zeros((2*len(obj_cats),))\n",
    "            assert match_objectives[i][j].shape == (10,), (step, 'was 0 shape',i,j)\n",
    "        else:\n",
    "            match_objectives[i][j] = np.sum(step, axis=0)\n",
    "            assert match_objectives[i][j].shape == (10,), (step, 'was >0 shape', i,j)\n",
    "\n",
    "        max_shape = max(match_objectives[i][j].shape[0],max_shape)\n",
    "print(max_shape)"
   ]
  },
  {
   "cell_type": "markdown",
   "metadata": {},
   "source": [
    "## Check shapes and concatenate with matches"
   ]
  },
  {
   "cell_type": "code",
   "execution_count": 253,
   "metadata": {
    "collapsed": false
   },
   "outputs": [
    {
     "name": "stdout",
     "output_type": "stream",
     "text": [
      "(10,)\n",
      "(49996, 6, 10)\n"
     ]
    }
   ],
   "source": [
    "print(match_objectives[200][0].shape)\n",
    "match_objectives = np.array(match_objectives)\n",
    "print(match_objectives.shape)"
   ]
  },
  {
   "cell_type": "code",
   "execution_count": 254,
   "metadata": {
    "collapsed": false
   },
   "outputs": [
    {
     "name": "stdout",
     "output_type": "stream",
     "text": [
      "(49996, 6, 694)\n"
     ]
    }
   ],
   "source": [
    "print(matches.shape)\n",
    "matches = np.concatenate((matches, match_objectives), axis = 2)"
   ]
  },
  {
   "cell_type": "markdown",
   "metadata": {},
   "source": [
    "## Save data with objectives as well"
   ]
  },
  {
   "cell_type": "code",
   "execution_count": 255,
   "metadata": {
    "collapsed": false
   },
   "outputs": [
    {
     "name": "stdout",
     "output_type": "stream",
     "text": [
      "(49996, 6, 704)\n"
     ]
    }
   ],
   "source": [
    "save_array(matches, '/tmp/game_data.npy')"
   ]
  },
  {
   "cell_type": "code",
   "execution_count": null,
   "metadata": {
    "collapsed": true
   },
   "outputs": [],
   "source": []
  }
 ],
 "metadata": {
  "kernelspec": {
   "display_name": "Python 2",
   "language": "python",
   "name": "python2"
  },
  "language_info": {
   "codemirror_mode": {
    "name": "ipython",
    "version": 2
   },
   "file_extension": ".py",
   "mimetype": "text/x-python",
   "name": "python",
   "nbconvert_exporter": "python",
   "pygments_lexer": "ipython2",
   "version": "2.7.13"
  }
 },
 "nbformat": 4,
 "nbformat_minor": 2
}
