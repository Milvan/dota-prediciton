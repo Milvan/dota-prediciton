{
 "cells": [
  {
   "cell_type": "code",
   "execution_count": 3,
   "metadata": {},
   "outputs": [
    {
     "name": "stdout",
     "output_type": "stream",
     "text": [
      "[['44' '-81' '0' '0\\n']\n",
      " ['29' '-63' '0' '0\\n']\n",
      " ['43' '6' '0' '0\\n']\n",
      " ..., \n",
      " ['77' '150' '132' '49999\\n']\n",
      " ['20' '150' '132' '49999\\n']\n",
      " ['25' '284' '132' '49999\\n']]\n"
     ]
    }
   ],
   "source": [
    "import numpy as np\n",
    "\n",
    "def first_x_sec(seconds, filepath, timecol):\n",
    "    ''' param: seconds, int, filter out the first seconds of the game\n",
    "        param: filepath, string, the filepath of the csv datafile\n",
    "        param: timecol, int, the index of the column that contains time\n",
    "    '''\n",
    "    f = open(filepath)\n",
    "    lines = f.readlines()\n",
    "    lines = [ line.split(',') for line in lines ]\n",
    "    if seconds is None:\n",
    "        return np.array(lines[1:])\n",
    "    else:\n",
    "        return np.array(list(filter(lambda line: int(line[timecol])<=seconds, lines[1:])))\n",
    "\n",
    "# First 5 min: 5*60=300, col 2 is time first line is header\n",
    "#ability_upgrade = first_x_sec(300, 'dataset/ability_upgrades.csv', 2)\n",
    "#objectives = first_x_sec(300, 'dataset/objectives.csv', 7)\n",
    "player_time = first_x_sec(300, 'dataset/player_time.csv', 1)\n",
    "\n",
    "\n",
    "## Match file contains more than just the label\n",
    "# column 10 contains the True/False value of Radiant win\n",
    "labels = first_x_sec(None, 'dataset/match.csv', None)\n",
    "purchases = first_x_sec(300, 'dataset/purchase_log.csv', 1)\n",
    "print(purchases)"
   ]
  },
  {
   "cell_type": "code",
   "execution_count": 4,
   "metadata": {},
   "outputs": [
    {
     "name": "stdout",
     "output_type": "stream",
     "text": [
      "All the labels\n",
      "[1 0 0 ..., 1 1 0]\n"
     ]
    }
   ],
   "source": [
    "labels = np.array([int(match[9] == 'True') for match in labels])\n",
    "print('All the labels')\n",
    "print(labels)"
   ]
  },
  {
   "cell_type": "code",
   "execution_count": 5,
   "metadata": {},
   "outputs": [
    {
     "name": "stdout",
     "output_type": "stream",
     "text": [
      "(4014805, 4)\n",
      "['29' '-63' '0' '0\\n']\n",
      "[[   44     0     0     0]\n",
      " [   29     0     0     0]\n",
      " [   43     0     0     0]\n",
      " ..., \n",
      " [   77   120   132 49999]\n",
      " [   20   120   132 49999]\n",
      " [   25   240   132 49999]]\n"
     ]
    }
   ],
   "source": [
    "import math\n",
    "print(purchases.shape)\n",
    "print(purchases[1])\n",
    "purchases = purchases.astype(np.int)\n",
    "\n",
    "#def set_forth(log):\n",
    "#        log[1] = math.ceil(max(0, log[1]) / 60) * 60\n",
    "#        return log\n",
    "    \n",
    "for log in purchases:\n",
    "    log[1] = math.ceil(max(0, log[1]) / 60) * 60\n",
    "\n",
    "#purchases = np.array([ set_forth(log) for log in purchases ])    \n",
    "print(purchases)\n",
    "\n"
   ]
  },
  {
   "cell_type": "code",
   "execution_count": 9,
   "metadata": {},
   "outputs": [
    {
     "name": "stdout",
     "output_type": "stream",
     "text": [
      "423\n"
     ]
    }
   ],
   "source": [
    "#in any game, any player for one timestep, what is maximum number of items?\n",
    "matches = [np.empty(shape=(4,0), dtype=np.int)]*50000\n",
    "for x in purchases:\n",
    "    matches[x[3]] = np.concatenate((matches[x[3]], x.reshape(4,1)), axis=1)\n",
    "\n",
    "# separate on time\n",
    "#print(matches[1].T)\n",
    "for i, match in enumerate(matches):\n",
    "    separated = [np.empty(shape=(4,0), dtype=np.int)]*6 # 6 time steps [0 60 120 180 240 300]\n",
    "    for x in match.T:\n",
    "        time = x[1]/60\n",
    "        separated[time] = np.concatenate((separated[time], x.reshape(4,1)), axis=1)\n",
    "    matches[i] = separated\n",
    "\n",
    "#Separate on player\n",
    "for match in matches:\n",
    "    for i, time_step in enumerate(match):\n",
    "        #problem is that this vector is the same for all players. Need 10 copies\n",
    "        separated = [np.zeros(shape=(218,1), dtype=np.int) for j in range(10)]*10 # 10 players and 218 is maximum item id in dataset\n",
    "        \n",
    "        for x in time_step.T:\n",
    "            player = x[2] if x[2]<5 else x[2] - 123 #make players numbered 0 to 9\n",
    "            separated[player][x[0]-1] += 1\n",
    "        match[i] = separated\n",
    "print(423)      "
   ]
  },
  {
   "cell_type": "code",
   "execution_count": 10,
   "metadata": {},
   "outputs": [
    {
     "name": "stdout",
     "output_type": "stream",
     "text": [
      "4\n"
     ]
    }
   ],
   "source": [
    "print(4)"
   ]
  },
  {
   "cell_type": "code",
   "execution_count": 20,
   "metadata": {},
   "outputs": [
    {
     "name": "stdout",
     "output_type": "stream",
     "text": [
      "(218, 1)\n"
     ]
    }
   ],
   "source": [
    "print matches[15][0][2].shape # first match, first timestep 0 and first player purchase log"
   ]
  },
  {
   "cell_type": "code",
   "execution_count": 15,
   "metadata": {},
   "outputs": [
    {
     "name": "stdout",
     "output_type": "stream",
     "text": [
      "[0]\n",
      "maximum unique items bought an one timestep\n",
      "1\n",
      "1\n"
     ]
    }
   ],
   "source": [
    "         "
   ]
  },
  {
   "cell_type": "code",
   "execution_count": 35,
   "metadata": {},
   "outputs": [
    {
     "name": "stdout",
     "output_type": "stream",
     "text": [
      " Shape of player time matrix\n",
      "Contains all attributes of matches, the first minutes\n",
      "(299994, 32)\n",
      "The pre prossessed data, just the second match\n",
      "[[  1   1   1   1   1   1]\n",
      " [  0  60 120 180 240 300]\n",
      " [  0  99 199 299 399 798]\n",
      " ..., \n",
      " [  1   0   0   0   0   0]\n",
      " [  0   0   0   0   0   0]\n",
      " [  0   0   0   0   0   0]]\n"
     ]
    }
   ],
   "source": [
    "print('Shape of player time matrix')\n",
    "print('Contains all attributes of matches, the first minutes')\n",
    "print(player_time.shape)\n",
    "#print(player_time[1:10])\n",
    "player_time = player_time.astype(np.int)\n",
    "\n",
    "\n",
    "## Separate data matches. Each index in data is one match. One match is a 32*n.\n",
    "## n is the number of logs. We have data every 60 secods, so for 5 min n=5\n",
    "data = [np.empty(shape=(2212,0), dtype=np.int)]*50000\n",
    "for x in player_time:\n",
    "    timestep = x[1]/60\n",
    "    features = x.reshape(32, 1)\n",
    "    for player in range(10):\n",
    "        features = np.concatenate((features, matches[x[0]][timestep][player]), axis=0)   \n",
    "    data[x[0]] = np.concatenate((data[x[0]], features), axis=1)\n",
    "#Print the first match log \n",
    "print('The pre prossessed data, just the second match')\n",
    "print(data[1])\n"
   ]
  },
  {
   "cell_type": "code",
   "execution_count": 65,
   "metadata": {
    "collapsed": true
   },
   "outputs": [],
   "source": [
    "#Pad games shorter than timelimit. (5 minutes)\n",
    "for i in range(len(data)):\n",
    "    while data[i].shape[1] <= 300/60:\n",
    "        features = np.zeros(shape=(2212,1), dtype=np.int)\n",
    "        data[i] = np.concatenate((data[i], features), axis=1)\n",
    "    "
   ]
  },
  {
   "cell_type": "code",
   "execution_count": 78,
   "metadata": {},
   "outputs": [],
   "source": [
    "outfile = open('/tmp/game_data.npy', 'w')\n",
    "np.save(outfile, data)\n",
    "outfile.close()  "
   ]
  },
  {
   "cell_type": "code",
   "execution_count": 79,
   "metadata": {},
   "outputs": [],
   "source": [
    "outfile = open('/tmp/game_labels.npy', 'w')\n",
    "labels = labels.reshape((50000, 1))\n",
    "np.save(outfile, labels) \n",
    "outfile.close()"
   ]
  },
  {
   "cell_type": "code",
   "execution_count": null,
   "metadata": {},
   "outputs": [],
   "source": []
  },
  {
   "cell_type": "code",
   "execution_count": 42,
   "metadata": {},
   "outputs": [
    {
     "name": "stdout",
     "output_type": "stream",
     "text": [
      "Shapes of labels\n",
      "(50000,)\n",
      "example of how the labels look like\n",
      "[1 0 0 0 1 1 1 1 0 0]\n",
      "Re-structure the labels so that it is two dimensions, with prob value of each team winning\n",
      "(50000, 2)\n",
      "example of how the binary labels look like\n",
      "[[ 0.  1.]\n",
      " [ 1.  0.]\n",
      " [ 1.  0.]\n",
      " [ 1.  0.]\n",
      " [ 0.  1.]\n",
      " [ 0.  1.]\n",
      " [ 0.  1.]\n",
      " [ 0.  1.]\n",
      " [ 1.  0.]\n",
      " [ 1.  0.]]\n",
      "(10000, 2)\n"
     ]
    }
   ],
   "source": [
    "\n"
   ]
  },
  {
   "cell_type": "code",
   "execution_count": 43,
   "metadata": {
    "scrolled": false
   },
   "outputs": [
    {
     "name": "stdout",
     "output_type": "stream",
     "text": [
      "Train on 7999 samples, validate on 32001 samples\n",
      "Epoch 1/50\n",
      "7999/7999 [==============================] - 0s - loss: 7.7558 - mean_absolute_error: 0.4812 - categorical_accuracy: 0.5188 - val_loss: 7.7948 - val_mean_absolute_error: 0.4836 - val_categorical_accuracy: 0.5164\n",
      "Epoch 2/50\n",
      "7999/7999 [==============================] - 0s - loss: 7.7558 - mean_absolute_error: 0.4812 - categorical_accuracy: 0.5188 - val_loss: 7.7948 - val_mean_absolute_error: 0.4836 - val_categorical_accuracy: 0.5164\n",
      "Epoch 3/50\n",
      "7999/7999 [==============================] - 0s - loss: 7.7558 - mean_absolute_error: 0.4812 - categorical_accuracy: 0.5188 - val_loss: 7.7948 - val_mean_absolute_error: 0.4836 - val_categorical_accuracy: 0.5164\n",
      "Epoch 4/50\n",
      "7999/7999 [==============================] - 0s - loss: 7.7558 - mean_absolute_error: 0.4812 - categorical_accuracy: 0.5188 - val_loss: 7.7948 - val_mean_absolute_error: 0.4836 - val_categorical_accuracy: 0.5164\n",
      "Epoch 5/50\n",
      "7999/7999 [==============================] - 0s - loss: 7.7558 - mean_absolute_error: 0.4812 - categorical_accuracy: 0.5188 - val_loss: 7.7948 - val_mean_absolute_error: 0.4836 - val_categorical_accuracy: 0.5164\n",
      "Epoch 6/50\n",
      "7999/7999 [==============================] - 0s - loss: 7.7558 - mean_absolute_error: 0.4812 - categorical_accuracy: 0.5188 - val_loss: 7.7948 - val_mean_absolute_error: 0.4836 - val_categorical_accuracy: 0.5164\n",
      "Epoch 7/50\n",
      "7999/7999 [==============================] - 0s - loss: 7.7558 - mean_absolute_error: 0.4812 - categorical_accuracy: 0.5188 - val_loss: 7.7948 - val_mean_absolute_error: 0.4836 - val_categorical_accuracy: 0.5164\n",
      "Epoch 8/50\n",
      "7999/7999 [==============================] - 0s - loss: 7.7558 - mean_absolute_error: 0.4812 - categorical_accuracy: 0.5188 - val_loss: 7.7948 - val_mean_absolute_error: 0.4836 - val_categorical_accuracy: 0.5164\n",
      "Epoch 9/50\n",
      "7999/7999 [==============================] - 0s - loss: 7.7558 - mean_absolute_error: 0.4812 - categorical_accuracy: 0.5188 - val_loss: 7.7948 - val_mean_absolute_error: 0.4836 - val_categorical_accuracy: 0.5164\n",
      "Epoch 10/50\n",
      "7999/7999 [==============================] - 0s - loss: 7.7558 - mean_absolute_error: 0.4812 - categorical_accuracy: 0.5188 - val_loss: 7.7948 - val_mean_absolute_error: 0.4836 - val_categorical_accuracy: 0.5164\n",
      "Epoch 11/50\n",
      "7999/7999 [==============================] - 0s - loss: 7.7558 - mean_absolute_error: 0.4812 - categorical_accuracy: 0.5188 - val_loss: 7.7948 - val_mean_absolute_error: 0.4836 - val_categorical_accuracy: 0.5164\n",
      "Epoch 12/50\n",
      "7999/7999 [==============================] - 0s - loss: 7.7558 - mean_absolute_error: 0.4812 - categorical_accuracy: 0.5188 - val_loss: 7.7948 - val_mean_absolute_error: 0.4836 - val_categorical_accuracy: 0.5164\n",
      "Epoch 13/50\n",
      "7999/7999 [==============================] - 0s - loss: 7.7558 - mean_absolute_error: 0.4812 - categorical_accuracy: 0.5188 - val_loss: 7.7948 - val_mean_absolute_error: 0.4836 - val_categorical_accuracy: 0.5164\n",
      "Epoch 14/50\n",
      "7999/7999 [==============================] - 0s - loss: 7.7558 - mean_absolute_error: 0.4812 - categorical_accuracy: 0.5188 - val_loss: 7.7948 - val_mean_absolute_error: 0.4836 - val_categorical_accuracy: 0.5164\n",
      "Epoch 15/50\n",
      "7999/7999 [==============================] - 0s - loss: 7.7558 - mean_absolute_error: 0.4812 - categorical_accuracy: 0.5188 - val_loss: 7.7948 - val_mean_absolute_error: 0.4836 - val_categorical_accuracy: 0.5164\n",
      "Epoch 16/50\n",
      "7999/7999 [==============================] - 0s - loss: 7.7558 - mean_absolute_error: 0.4812 - categorical_accuracy: 0.5188 - val_loss: 7.7948 - val_mean_absolute_error: 0.4836 - val_categorical_accuracy: 0.5164\n",
      "Epoch 17/50\n",
      "7999/7999 [==============================] - 0s - loss: 7.7558 - mean_absolute_error: 0.4812 - categorical_accuracy: 0.5188 - val_loss: 7.7948 - val_mean_absolute_error: 0.4836 - val_categorical_accuracy: 0.5164\n",
      "Epoch 18/50\n",
      "7999/7999 [==============================] - 0s - loss: 7.7558 - mean_absolute_error: 0.4812 - categorical_accuracy: 0.5188 - val_loss: 7.7948 - val_mean_absolute_error: 0.4836 - val_categorical_accuracy: 0.5164\n",
      "Epoch 19/50\n",
      "7999/7999 [==============================] - 0s - loss: 7.7558 - mean_absolute_error: 0.4812 - categorical_accuracy: 0.5188 - val_loss: 7.7948 - val_mean_absolute_error: 0.4836 - val_categorical_accuracy: 0.5164\n",
      "Epoch 20/50\n",
      "7999/7999 [==============================] - 0s - loss: 7.7558 - mean_absolute_error: 0.4812 - categorical_accuracy: 0.5188 - val_loss: 7.7948 - val_mean_absolute_error: 0.4836 - val_categorical_accuracy: 0.5164\n",
      "Epoch 21/50\n",
      "7999/7999 [==============================] - 0s - loss: 7.7558 - mean_absolute_error: 0.4812 - categorical_accuracy: 0.5188 - val_loss: 7.7948 - val_mean_absolute_error: 0.4836 - val_categorical_accuracy: 0.5164\n",
      "Epoch 22/50\n",
      "7999/7999 [==============================] - 0s - loss: 7.7558 - mean_absolute_error: 0.4812 - categorical_accuracy: 0.5188 - val_loss: 7.7948 - val_mean_absolute_error: 0.4836 - val_categorical_accuracy: 0.5164\n",
      "Epoch 23/50\n",
      "7999/7999 [==============================] - 0s - loss: 7.7558 - mean_absolute_error: 0.4812 - categorical_accuracy: 0.5188 - val_loss: 7.7948 - val_mean_absolute_error: 0.4836 - val_categorical_accuracy: 0.5164\n",
      "Epoch 24/50\n",
      "7999/7999 [==============================] - 0s - loss: 7.7558 - mean_absolute_error: 0.4812 - categorical_accuracy: 0.5188 - val_loss: 7.7948 - val_mean_absolute_error: 0.4836 - val_categorical_accuracy: 0.5164\n",
      "Epoch 25/50\n",
      "7999/7999 [==============================] - 0s - loss: 7.7558 - mean_absolute_error: 0.4812 - categorical_accuracy: 0.5188 - val_loss: 7.7948 - val_mean_absolute_error: 0.4836 - val_categorical_accuracy: 0.5164\n",
      "Epoch 26/50\n",
      "7999/7999 [==============================] - 0s - loss: 7.7558 - mean_absolute_error: 0.4812 - categorical_accuracy: 0.5188 - val_loss: 7.7948 - val_mean_absolute_error: 0.4836 - val_categorical_accuracy: 0.5164\n",
      "Epoch 27/50\n",
      "7999/7999 [==============================] - 0s - loss: 7.7558 - mean_absolute_error: 0.4812 - categorical_accuracy: 0.5188 - val_loss: 7.7948 - val_mean_absolute_error: 0.4836 - val_categorical_accuracy: 0.5164\n",
      "Epoch 28/50\n",
      "7999/7999 [==============================] - 0s - loss: 7.7558 - mean_absolute_error: 0.4812 - categorical_accuracy: 0.5188 - val_loss: 7.7948 - val_mean_absolute_error: 0.4836 - val_categorical_accuracy: 0.5164\n",
      "Epoch 29/50\n",
      "7999/7999 [==============================] - 0s - loss: 7.7558 - mean_absolute_error: 0.4812 - categorical_accuracy: 0.5188 - val_loss: 7.7948 - val_mean_absolute_error: 0.4836 - val_categorical_accuracy: 0.5164\n",
      "Epoch 30/50\n",
      "7999/7999 [==============================] - 0s - loss: 7.7558 - mean_absolute_error: 0.4812 - categorical_accuracy: 0.5188 - val_loss: 7.7948 - val_mean_absolute_error: 0.4836 - val_categorical_accuracy: 0.5164\n",
      "Epoch 31/50\n",
      "7999/7999 [==============================] - 0s - loss: 7.7558 - mean_absolute_error: 0.4812 - categorical_accuracy: 0.5188 - val_loss: 7.7948 - val_mean_absolute_error: 0.4836 - val_categorical_accuracy: 0.5164\n",
      "Epoch 32/50\n",
      "7999/7999 [==============================] - 0s - loss: 7.7558 - mean_absolute_error: 0.4812 - categorical_accuracy: 0.5188 - val_loss: 7.7948 - val_mean_absolute_error: 0.4836 - val_categorical_accuracy: 0.5164\n",
      "Epoch 33/50\n",
      "7999/7999 [==============================] - 0s - loss: 7.7558 - mean_absolute_error: 0.4812 - categorical_accuracy: 0.5188 - val_loss: 7.7948 - val_mean_absolute_error: 0.4836 - val_categorical_accuracy: 0.5164\n",
      "Epoch 34/50\n",
      "7999/7999 [==============================] - 0s - loss: 7.7558 - mean_absolute_error: 0.4812 - categorical_accuracy: 0.5188 - val_loss: 7.7948 - val_mean_absolute_error: 0.4836 - val_categorical_accuracy: 0.5164\n",
      "Epoch 35/50\n",
      "7999/7999 [==============================] - 0s - loss: 7.7558 - mean_absolute_error: 0.4812 - categorical_accuracy: 0.5188 - val_loss: 7.7948 - val_mean_absolute_error: 0.4836 - val_categorical_accuracy: 0.5164\n",
      "Epoch 36/50\n",
      "7999/7999 [==============================] - 0s - loss: 7.7558 - mean_absolute_error: 0.4812 - categorical_accuracy: 0.5188 - val_loss: 7.7948 - val_mean_absolute_error: 0.4836 - val_categorical_accuracy: 0.5164\n",
      "Epoch 37/50\n"
     ]
    },
    {
     "name": "stdout",
     "output_type": "stream",
     "text": [
      "7999/7999 [==============================] - 0s - loss: 7.7558 - mean_absolute_error: 0.4812 - categorical_accuracy: 0.5188 - val_loss: 7.7948 - val_mean_absolute_error: 0.4836 - val_categorical_accuracy: 0.5164\n",
      "Epoch 38/50\n",
      "7999/7999 [==============================] - 0s - loss: 7.7558 - mean_absolute_error: 0.4812 - categorical_accuracy: 0.5188 - val_loss: 7.7948 - val_mean_absolute_error: 0.4836 - val_categorical_accuracy: 0.5164\n",
      "Epoch 39/50\n",
      "7999/7999 [==============================] - 0s - loss: 7.7558 - mean_absolute_error: 0.4812 - categorical_accuracy: 0.5188 - val_loss: 7.7948 - val_mean_absolute_error: 0.4836 - val_categorical_accuracy: 0.5164\n",
      "Epoch 40/50\n",
      "7999/7999 [==============================] - 0s - loss: 7.7558 - mean_absolute_error: 0.4812 - categorical_accuracy: 0.5188 - val_loss: 7.7948 - val_mean_absolute_error: 0.4836 - val_categorical_accuracy: 0.5164\n",
      "Epoch 41/50\n",
      "7999/7999 [==============================] - 0s - loss: 7.7558 - mean_absolute_error: 0.4812 - categorical_accuracy: 0.5188 - val_loss: 7.7948 - val_mean_absolute_error: 0.4836 - val_categorical_accuracy: 0.5164\n",
      "Epoch 42/50\n",
      "7999/7999 [==============================] - 0s - loss: 7.7558 - mean_absolute_error: 0.4812 - categorical_accuracy: 0.5188 - val_loss: 7.7948 - val_mean_absolute_error: 0.4836 - val_categorical_accuracy: 0.5164\n",
      "Epoch 43/50\n",
      "7999/7999 [==============================] - 0s - loss: 7.7558 - mean_absolute_error: 0.4812 - categorical_accuracy: 0.5188 - val_loss: 7.7948 - val_mean_absolute_error: 0.4836 - val_categorical_accuracy: 0.5164\n",
      "Epoch 44/50\n",
      "7999/7999 [==============================] - 0s - loss: 7.7558 - mean_absolute_error: 0.4812 - categorical_accuracy: 0.5188 - val_loss: 7.7948 - val_mean_absolute_error: 0.4836 - val_categorical_accuracy: 0.5164\n",
      "Epoch 45/50\n",
      "7999/7999 [==============================] - 0s - loss: 7.7558 - mean_absolute_error: 0.4812 - categorical_accuracy: 0.5188 - val_loss: 7.7948 - val_mean_absolute_error: 0.4836 - val_categorical_accuracy: 0.5164\n",
      "Epoch 46/50\n",
      "7999/7999 [==============================] - 0s - loss: 7.7558 - mean_absolute_error: 0.4812 - categorical_accuracy: 0.5188 - val_loss: 7.7948 - val_mean_absolute_error: 0.4836 - val_categorical_accuracy: 0.5164\n",
      "Epoch 47/50\n",
      "7999/7999 [==============================] - 0s - loss: 7.7558 - mean_absolute_error: 0.4812 - categorical_accuracy: 0.5188 - val_loss: 7.7948 - val_mean_absolute_error: 0.4836 - val_categorical_accuracy: 0.5164\n",
      "Epoch 48/50\n",
      "7999/7999 [==============================] - 0s - loss: 7.7558 - mean_absolute_error: 0.4812 - categorical_accuracy: 0.5188 - val_loss: 7.7948 - val_mean_absolute_error: 0.4836 - val_categorical_accuracy: 0.5164\n",
      "Epoch 49/50\n",
      "7999/7999 [==============================] - 0s - loss: 7.7558 - mean_absolute_error: 0.4812 - categorical_accuracy: 0.5188 - val_loss: 7.7948 - val_mean_absolute_error: 0.4836 - val_categorical_accuracy: 0.5164\n",
      "Epoch 50/50\n",
      "7999/7999 [==============================] - 0s - loss: 7.7558 - mean_absolute_error: 0.4812 - categorical_accuracy: 0.5188 - val_loss: 7.7948 - val_mean_absolute_error: 0.4836 - val_categorical_accuracy: 0.5164\n"
     ]
    }
   ],
   "source": []
  },
  {
   "cell_type": "code",
   "execution_count": null,
   "metadata": {
    "collapsed": true
   },
   "outputs": [],
   "source": []
  },
  {
   "cell_type": "code",
   "execution_count": 7,
   "metadata": {},
   "outputs": [
    {
     "name": "stdout",
     "output_type": "stream",
     "text": [
      " 7488/10000 [=====================>........] - ETA: 0s\b\b\b\b\b\b\b\b\b\b\b\b\b\b\b\b\b\b\b\b\b\b\b\b\b\b\b\b\b\b\b\b\b\b\b\b\b\b\b\b\b\b\b\b\b\b\b\b\b\b\b\b\b\b\b\b\b\b\b\b\b\b\b\b\b\b\b\b\b\b\b\b\b\b\b\b\b\b\b\b\b\b\b\b\b\b\b\b\b\b\b\b\b\b\b\b\b\b\b\b\b\b\b\b\b\b\b\b\b\b\b\b\b\b\b\b\b\b\b\b\b\b\b\b\b\b\b\b\b\b\b\b\b\b\b\b\b\b\b\b\b\b\b\b\b\b\b\b\b\b\b\b\b\b\b\b\b\b\b\b\b\b[7.6399250358581545, 0.47409038228988648, 0.52590000000000003]\n"
     ]
    }
   ],
   "source": []
  },
  {
   "cell_type": "code",
   "execution_count": null,
   "metadata": {
    "collapsed": true
   },
   "outputs": [],
   "source": []
  }
 ],
 "metadata": {
  "kernelspec": {
   "display_name": "Python 2",
   "language": "python",
   "name": "python2"
  },
  "language_info": {
   "codemirror_mode": {
    "name": "ipython",
    "version": 2
   },
   "file_extension": ".py",
   "mimetype": "text/x-python",
   "name": "python",
   "nbconvert_exporter": "python",
   "pygments_lexer": "ipython2",
   "version": "2.7.12"
  }
 },
 "nbformat": 4,
 "nbformat_minor": 2
}
