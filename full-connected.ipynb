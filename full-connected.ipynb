{
 "cells": [
  {
   "cell_type": "code",
   "execution_count": 7,
   "metadata": {},
   "outputs": [],
   "source": [
    "import numpy as np\n",
    "data = np.load('/tmp/game_data.npy')\n",
    "labels = np.load('/tmp/game_labels.npy')\n",
    "\n"
   ]
  },
  {
   "cell_type": "code",
   "execution_count": 8,
   "metadata": {},
   "outputs": [
    {
     "name": "stdout",
     "output_type": "stream",
     "text": [
      "Example data table. First 10 matches. Game state at the end of 5 min\n",
      "[[1056  798 1140 ..., 1063 1797  836]\n",
      " [   1    0   12 ...,   16   27    8]\n",
      " [ 649  910 1291 ...,  834 1504 1105]\n",
      " ..., \n",
      " [   0    0    0 ...,    0    0    0]\n",
      " [   0    0    0 ...,    0    0    0]\n",
      " [   0    0    0 ...,    0    0    0]]\n",
      "The shape of the match data table, first row is the time column, which is always 300\n",
      "(2210, 50000)\n"
     ]
    }
   ],
   "source": [
    "#Filter out the end state from data. \n",
    "# This will be a matrix with the game state afer x seconds in each column\n",
    "# the first row is time\n",
    "# following by gold, last hits and xp for each player\n",
    "end_5_min_games = np.array([game[2:,-1] for game in data]).T\n",
    "#print the data to look at it\n",
    "print('Example data table. First 10 matches. Game state at the end of 5 min')\n",
    "print(end_5_min_games[:,:10])\n",
    "# the shape should be 31, 50000. \n",
    "print('The shape of the match data table, first row is the time column, which is always 300')\n",
    "print(end_5_min_games.shape)"
   ]
  },
  {
   "cell_type": "code",
   "execution_count": 9,
   "metadata": {},
   "outputs": [
    {
     "name": "stderr",
     "output_type": "stream",
     "text": [
      "Using TensorFlow backend.\n"
     ]
    }
   ],
   "source": [
    "from keras.layers import Dense, Activation\n",
    "from keras.models import Sequential\n",
    "import keras\n",
    "\n",
    "model = Sequential()\n",
    "\n",
    "model.add(Dense(units=50, input_dim=2210))\n",
    "model.add(Activation('relu'))\n",
    "model.add(Dense(units=2))\n",
    "model.add(Activation('softmax'))\n",
    "model.compile(loss=keras.losses.categorical_crossentropy,\n",
    "             optimizer=keras.optimizers.SGD(lr=0.0001, momentum=0.0, nesterov=False),\n",
    "             metrics=[keras.metrics.mae, keras.metrics.categorical_accuracy])\n"
   ]
  },
  {
   "cell_type": "code",
   "execution_count": 10,
   "metadata": {},
   "outputs": [
    {
     "name": "stdout",
     "output_type": "stream",
     "text": [
      "Shapes of labels\n",
      "(50000, 1)\n",
      "example of how the labels look like\n",
      "[[1]\n",
      " [0]\n",
      " [0]\n",
      " [0]\n",
      " [1]\n",
      " [1]\n",
      " [1]\n",
      " [1]\n",
      " [0]\n",
      " [0]]\n",
      "Re-structure the labels so that it is two dimensions, with prob value of each team winning\n",
      "(50000, 2)\n",
      "example of how the binary labels look like\n",
      "[[ 0.  1.]\n",
      " [ 1.  0.]\n",
      " [ 1.  0.]\n",
      " [ 1.  0.]\n",
      " [ 0.  1.]\n",
      " [ 0.  1.]\n",
      " [ 0.  1.]\n",
      " [ 0.  1.]\n",
      " [ 1.  0.]\n",
      " [ 1.  0.]]\n",
      "(10000, 2)\n"
     ]
    }
   ],
   "source": [
    "print('Shapes of labels')\n",
    "print(labels.shape)\n",
    "from keras.utils.np_utils import to_categorical\n",
    "labels_binary = to_categorical(labels)\n",
    "print('example of how the labels look like')\n",
    "print(labels[:10])\n",
    "print('Re-structure the labels so that it is two dimensions, with prob value of each team winning')\n",
    "print(labels_binary.shape)\n",
    "print('example of how the binary labels look like')\n",
    "print(labels_binary[:10])\n",
    "\n",
    "# separate into train and test\n",
    "x_train = end_5_min_games[:,:40000]\n",
    "y_train = labels_binary[:40000,:]\n",
    "x_test = end_5_min_games[:,40000:]\n",
    "y_test = labels_binary[40000:,:]\n",
    "print(y_test.shape)\n"
   ]
  },
  {
   "cell_type": "code",
   "execution_count": 11,
   "metadata": {},
   "outputs": [
    {
     "name": "stdout",
     "output_type": "stream",
     "text": [
      "Train on 7999 samples, validate on 32001 samples\n",
      "Epoch 1/50\n",
      "7999/7999 [==============================] - 0s - loss: 7.1006 - mean_absolute_error: 0.4705 - categorical_accuracy: 0.5294 - val_loss: 7.1112 - val_mean_absolute_error: 0.4697 - val_categorical_accuracy: 0.5303\n",
      "Epoch 2/50\n",
      "7999/7999 [==============================] - 0s - loss: 7.0095 - mean_absolute_error: 0.4715 - categorical_accuracy: 0.5278 - val_loss: 6.8251 - val_mean_absolute_error: 0.4602 - val_categorical_accuracy: 0.5396\n",
      "Epoch 3/50\n",
      "7999/7999 [==============================] - 0s - loss: 6.7497 - mean_absolute_error: 0.4580 - categorical_accuracy: 0.5416 - val_loss: 6.5793 - val_mean_absolute_error: 0.4513 - val_categorical_accuracy: 0.5494\n",
      "Epoch 4/50\n",
      "7999/7999 [==============================] - 0s - loss: 6.6801 - mean_absolute_error: 0.4561 - categorical_accuracy: 0.5442 - val_loss: 7.3709 - val_mean_absolute_error: 0.4703 - val_categorical_accuracy: 0.5298\n",
      "Epoch 5/50\n",
      "7999/7999 [==============================] - 0s - loss: 6.6448 - mean_absolute_error: 0.4493 - categorical_accuracy: 0.5509 - val_loss: 6.3446 - val_mean_absolute_error: 0.4432 - val_categorical_accuracy: 0.5569\n",
      "Epoch 6/50\n",
      "7999/7999 [==============================] - 0s - loss: 6.1974 - mean_absolute_error: 0.4358 - categorical_accuracy: 0.5634 - val_loss: 6.4391 - val_mean_absolute_error: 0.4474 - val_categorical_accuracy: 0.5534\n",
      "Epoch 7/50\n",
      "7999/7999 [==============================] - 0s - loss: 6.6269 - mean_absolute_error: 0.4474 - categorical_accuracy: 0.5538 - val_loss: 5.9228 - val_mean_absolute_error: 0.4188 - val_categorical_accuracy: 0.5811\n",
      "Epoch 8/50\n",
      "7999/7999 [==============================] - 0s - loss: 6.3138 - mean_absolute_error: 0.4341 - categorical_accuracy: 0.5659 - val_loss: 7.0565 - val_mean_absolute_error: 0.4694 - val_categorical_accuracy: 0.5306\n",
      "Epoch 9/50\n",
      "7999/7999 [==============================] - 0s - loss: 6.6951 - mean_absolute_error: 0.4435 - categorical_accuracy: 0.5564 - val_loss: 6.6617 - val_mean_absolute_error: 0.4513 - val_categorical_accuracy: 0.5485\n",
      "Epoch 10/50\n",
      "7999/7999 [==============================] - 0s - loss: 6.2180 - mean_absolute_error: 0.4234 - categorical_accuracy: 0.5772 - val_loss: 6.6043 - val_mean_absolute_error: 0.4476 - val_categorical_accuracy: 0.5528\n",
      "Epoch 11/50\n",
      "7999/7999 [==============================] - 0s - loss: 6.2559 - mean_absolute_error: 0.4304 - categorical_accuracy: 0.5699 - val_loss: 5.8269 - val_mean_absolute_error: 0.4067 - val_categorical_accuracy: 0.5936\n",
      "Epoch 12/50\n",
      "7999/7999 [==============================] - 0s - loss: 6.2394 - mean_absolute_error: 0.4269 - categorical_accuracy: 0.5739 - val_loss: 5.8646 - val_mean_absolute_error: 0.4109 - val_categorical_accuracy: 0.5891\n",
      "Epoch 13/50\n",
      "7999/7999 [==============================] - 0s - loss: 6.1677 - mean_absolute_error: 0.4261 - categorical_accuracy: 0.5739 - val_loss: 6.6892 - val_mean_absolute_error: 0.4508 - val_categorical_accuracy: 0.5491\n",
      "Epoch 14/50\n",
      "7999/7999 [==============================] - 0s - loss: 6.4786 - mean_absolute_error: 0.4392 - categorical_accuracy: 0.5613 - val_loss: 6.5447 - val_mean_absolute_error: 0.4415 - val_categorical_accuracy: 0.5583\n",
      "Epoch 15/50\n",
      "7999/7999 [==============================] - 0s - loss: 6.2570 - mean_absolute_error: 0.4250 - categorical_accuracy: 0.5753 - val_loss: 6.1976 - val_mean_absolute_error: 0.4255 - val_categorical_accuracy: 0.5749\n",
      "Epoch 16/50\n",
      "7999/7999 [==============================] - 0s - loss: 5.9542 - mean_absolute_error: 0.4125 - categorical_accuracy: 0.5878 - val_loss: 5.9375 - val_mean_absolute_error: 0.4129 - val_categorical_accuracy: 0.5870\n",
      "Epoch 17/50\n",
      "7999/7999 [==============================] - 0s - loss: 6.2519 - mean_absolute_error: 0.4260 - categorical_accuracy: 0.5738 - val_loss: 7.0824 - val_mean_absolute_error: 0.4652 - val_categorical_accuracy: 0.5348\n",
      "Epoch 18/50\n",
      "7999/7999 [==============================] - 0s - loss: 6.2607 - mean_absolute_error: 0.4261 - categorical_accuracy: 0.5743 - val_loss: 6.4843 - val_mean_absolute_error: 0.4391 - val_categorical_accuracy: 0.5609\n",
      "Epoch 19/50\n",
      "7999/7999 [==============================] - 0s - loss: 6.1291 - mean_absolute_error: 0.4224 - categorical_accuracy: 0.5763 - val_loss: 5.7617 - val_mean_absolute_error: 0.4021 - val_categorical_accuracy: 0.5980\n",
      "Epoch 20/50\n",
      "7999/7999 [==============================] - 0s - loss: 5.9459 - mean_absolute_error: 0.4090 - categorical_accuracy: 0.5901 - val_loss: 5.8033 - val_mean_absolute_error: 0.4044 - val_categorical_accuracy: 0.5958\n",
      "Epoch 21/50\n",
      "7999/7999 [==============================] - 0s - loss: 6.1200 - mean_absolute_error: 0.4205 - categorical_accuracy: 0.5793 - val_loss: 6.7065 - val_mean_absolute_error: 0.4412 - val_categorical_accuracy: 0.5588\n",
      "Epoch 22/50\n",
      "7999/7999 [==============================] - 0s - loss: 5.8757 - mean_absolute_error: 0.4091 - categorical_accuracy: 0.5904 - val_loss: 5.6411 - val_mean_absolute_error: 0.3981 - val_categorical_accuracy: 0.6016\n",
      "Epoch 23/50\n",
      "7999/7999 [==============================] - 0s - loss: 6.0763 - mean_absolute_error: 0.4156 - categorical_accuracy: 0.5838 - val_loss: 5.9479 - val_mean_absolute_error: 0.4161 - val_categorical_accuracy: 0.5842\n",
      "Epoch 24/50\n",
      "7999/7999 [==============================] - 0s - loss: 6.2607 - mean_absolute_error: 0.4235 - categorical_accuracy: 0.5763 - val_loss: 5.8447 - val_mean_absolute_error: 0.4093 - val_categorical_accuracy: 0.5910\n",
      "Epoch 25/50\n",
      "7999/7999 [==============================] - 0s - loss: 6.1203 - mean_absolute_error: 0.4187 - categorical_accuracy: 0.5809 - val_loss: 5.7617 - val_mean_absolute_error: 0.4022 - val_categorical_accuracy: 0.5981\n",
      "Epoch 26/50\n",
      "7999/7999 [==============================] - 0s - loss: 5.6569 - mean_absolute_error: 0.3984 - categorical_accuracy: 0.6021 - val_loss: 6.0117 - val_mean_absolute_error: 0.4146 - val_categorical_accuracy: 0.5854\n",
      "Epoch 27/50\n",
      "7999/7999 [==============================] - 0s - loss: 6.3802 - mean_absolute_error: 0.4306 - categorical_accuracy: 0.5699 - val_loss: 6.1684 - val_mean_absolute_error: 0.4192 - val_categorical_accuracy: 0.5807\n",
      "Epoch 28/50\n",
      "7999/7999 [==============================] - 0s - loss: 6.3953 - mean_absolute_error: 0.4249 - categorical_accuracy: 0.5748 - val_loss: 5.7112 - val_mean_absolute_error: 0.3996 - val_categorical_accuracy: 0.6006\n",
      "Epoch 29/50\n",
      "7999/7999 [==============================] - 0s - loss: 6.0074 - mean_absolute_error: 0.4129 - categorical_accuracy: 0.5876 - val_loss: 5.7640 - val_mean_absolute_error: 0.4024 - val_categorical_accuracy: 0.5980\n",
      "Epoch 30/50\n",
      "7999/7999 [==============================] - 0s - loss: 5.7765 - mean_absolute_error: 0.4003 - categorical_accuracy: 0.5994 - val_loss: 5.7021 - val_mean_absolute_error: 0.3999 - val_categorical_accuracy: 0.6002\n",
      "Epoch 31/50\n",
      "7999/7999 [==============================] - 0s - loss: 6.1896 - mean_absolute_error: 0.4207 - categorical_accuracy: 0.5792 - val_loss: 5.9855 - val_mean_absolute_error: 0.4100 - val_categorical_accuracy: 0.5901\n",
      "Epoch 32/50\n",
      "7999/7999 [==============================] - 0s - loss: 6.0132 - mean_absolute_error: 0.4126 - categorical_accuracy: 0.5867 - val_loss: 6.4577 - val_mean_absolute_error: 0.4354 - val_categorical_accuracy: 0.5646\n",
      "Epoch 33/50\n",
      "7999/7999 [==============================] - 0s - loss: 6.1130 - mean_absolute_error: 0.4134 - categorical_accuracy: 0.5863 - val_loss: 5.9395 - val_mean_absolute_error: 0.4093 - val_categorical_accuracy: 0.5907\n",
      "Epoch 34/50\n",
      "7999/7999 [==============================] - 0s - loss: 5.6963 - mean_absolute_error: 0.3960 - categorical_accuracy: 0.6038 - val_loss: 5.8487 - val_mean_absolute_error: 0.4060 - val_categorical_accuracy: 0.5944\n",
      "Epoch 35/50\n",
      "7999/7999 [==============================] - 0s - loss: 6.1062 - mean_absolute_error: 0.4190 - categorical_accuracy: 0.5817 - val_loss: 6.6657 - val_mean_absolute_error: 0.4461 - val_categorical_accuracy: 0.5536\n",
      "Epoch 36/50\n",
      "7999/7999 [==============================] - 0s - loss: 6.1717 - mean_absolute_error: 0.4155 - categorical_accuracy: 0.5851 - val_loss: 6.4061 - val_mean_absolute_error: 0.4328 - val_categorical_accuracy: 0.5674\n",
      "Epoch 37/50\n"
     ]
    },
    {
     "name": "stdout",
     "output_type": "stream",
     "text": [
      "7999/7999 [==============================] - 0s - loss: 5.9105 - mean_absolute_error: 0.4064 - categorical_accuracy: 0.5928 - val_loss: 6.0095 - val_mean_absolute_error: 0.4121 - val_categorical_accuracy: 0.5878\n",
      "Epoch 38/50\n",
      "7999/7999 [==============================] - 0s - loss: 6.4502 - mean_absolute_error: 0.4323 - categorical_accuracy: 0.5681 - val_loss: 6.2792 - val_mean_absolute_error: 0.4212 - val_categorical_accuracy: 0.5786\n",
      "Epoch 39/50\n",
      "7999/7999 [==============================] - 0s - loss: 6.1636 - mean_absolute_error: 0.4155 - categorical_accuracy: 0.5843 - val_loss: 6.0004 - val_mean_absolute_error: 0.4086 - val_categorical_accuracy: 0.5915\n",
      "Epoch 40/50\n",
      "7999/7999 [==============================] - 0s - loss: 6.0472 - mean_absolute_error: 0.4129 - categorical_accuracy: 0.5868 - val_loss: 5.7006 - val_mean_absolute_error: 0.3976 - val_categorical_accuracy: 0.6025\n",
      "Epoch 41/50\n",
      "7999/7999 [==============================] - 0s - loss: 6.1195 - mean_absolute_error: 0.4178 - categorical_accuracy: 0.5819 - val_loss: 5.6993 - val_mean_absolute_error: 0.3962 - val_categorical_accuracy: 0.6040\n",
      "Epoch 42/50\n",
      "7999/7999 [==============================] - 0s - loss: 5.8839 - mean_absolute_error: 0.4038 - categorical_accuracy: 0.5951 - val_loss: 7.0960 - val_mean_absolute_error: 0.4624 - val_categorical_accuracy: 0.5377\n",
      "Epoch 43/50\n",
      "7999/7999 [==============================] - 0s - loss: 6.2067 - mean_absolute_error: 0.4183 - categorical_accuracy: 0.5813 - val_loss: 5.9931 - val_mean_absolute_error: 0.4080 - val_categorical_accuracy: 0.5920\n",
      "Epoch 44/50\n",
      "7999/7999 [==============================] - 0s - loss: 5.9405 - mean_absolute_error: 0.4058 - categorical_accuracy: 0.5943 - val_loss: 6.1872 - val_mean_absolute_error: 0.4172 - val_categorical_accuracy: 0.5825\n",
      "Epoch 45/50\n",
      "7999/7999 [==============================] - 0s - loss: 5.9872 - mean_absolute_error: 0.4056 - categorical_accuracy: 0.5943 - val_loss: 5.8580 - val_mean_absolute_error: 0.4017 - val_categorical_accuracy: 0.5981\n",
      "Epoch 46/50\n",
      "7999/7999 [==============================] - 0s - loss: 5.8523 - mean_absolute_error: 0.4010 - categorical_accuracy: 0.5993 - val_loss: 5.9100 - val_mean_absolute_error: 0.4057 - val_categorical_accuracy: 0.5946\n",
      "Epoch 47/50\n",
      "7999/7999 [==============================] - 0s - loss: 6.2277 - mean_absolute_error: 0.4222 - categorical_accuracy: 0.5771 - val_loss: 5.6998 - val_mean_absolute_error: 0.3954 - val_categorical_accuracy: 0.6050\n",
      "Epoch 48/50\n",
      "7999/7999 [==============================] - 0s - loss: 5.8867 - mean_absolute_error: 0.3992 - categorical_accuracy: 0.6010 - val_loss: 6.2513 - val_mean_absolute_error: 0.4243 - val_categorical_accuracy: 0.5757\n",
      "Epoch 49/50\n",
      "7999/7999 [==============================] - 0s - loss: 5.8787 - mean_absolute_error: 0.4009 - categorical_accuracy: 0.5991 - val_loss: 5.8163 - val_mean_absolute_error: 0.4013 - val_categorical_accuracy: 0.5984\n",
      "Epoch 50/50\n",
      "7999/7999 [==============================] - 0s - loss: 5.8995 - mean_absolute_error: 0.4045 - categorical_accuracy: 0.5954 - val_loss: 5.9584 - val_mean_absolute_error: 0.4070 - val_categorical_accuracy: 0.5931\n"
     ]
    }
   ],
   "source": [
    "res = model.fit(x_train.T, y_train, epochs=50, batch_size=1000, validation_split=0.8)"
   ]
  },
  {
   "cell_type": "code",
   "execution_count": 14,
   "metadata": {},
   "outputs": [
    {
     "name": "stdout",
     "output_type": "stream",
     "text": [
      "10000/10000 [==============================] - 0s     \n",
      "[5.863969346618652, 0.4006606939315796, 0.59960000000000002]\n"
     ]
    }
   ],
   "source": [
    "# Test loss and accuracy\n",
    "loss_and_metrics = model.evaluate(x_test.T, y_test)\n",
    "print(loss_and_metrics)"
   ]
  },
  {
   "cell_type": "code",
   "execution_count": null,
   "metadata": {
    "collapsed": true
   },
   "outputs": [],
   "source": []
  },
  {
   "cell_type": "code",
   "execution_count": null,
   "metadata": {
    "collapsed": true
   },
   "outputs": [],
   "source": []
  }
 ],
 "metadata": {
  "kernelspec": {
   "display_name": "Python 2",
   "language": "python",
   "name": "python2"
  },
  "language_info": {
   "codemirror_mode": {
    "name": "ipython",
    "version": 2
   },
   "file_extension": ".py",
   "mimetype": "text/x-python",
   "name": "python",
   "nbconvert_exporter": "python",
   "pygments_lexer": "ipython2",
   "version": "2.7.12"
  }
 },
 "nbformat": 4,
 "nbformat_minor": 2
}
