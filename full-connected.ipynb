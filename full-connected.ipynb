{
 "cells": [
  {
   "cell_type": "code",
   "execution_count": 13,
   "metadata": {
    "collapsed": true,
    "deletable": true,
    "editable": true
   },
   "outputs": [],
   "source": [
    "import numpy as np\n",
    "data = np.load('/tmp/game_data.npy')\n",
    "labels = np.load('/tmp/game_labels.npy')\n",
    "\n"
   ]
  },
  {
   "cell_type": "code",
   "execution_count": 14,
   "metadata": {
    "collapsed": false,
    "deletable": true,
    "editable": true
   },
   "outputs": [
    {
     "name": "stdout",
     "output_type": "stream",
     "text": [
      "(49996, 6, 256)\n"
     ]
    }
   ],
   "source": [
    "print(data.shape)"
   ]
  },
  {
   "cell_type": "code",
   "execution_count": 15,
   "metadata": {
    "collapsed": false,
    "deletable": true,
    "editable": true
   },
   "outputs": [
    {
     "name": "stdout",
     "output_type": "stream",
     "text": [
      "(49996, 256)\n",
      "[ 0.24148182  0.02439024  0.19507063  0.3285779   0.26        0.49238303\n",
      "  0.1548292   0.          0.15809285  0.24230431  0.36585366  0.54393547\n",
      "  0.41516772  0.38636364  0.48029412  0.20183201  0.24444444  0.44540769\n",
      "  0.26676763  0.26829268  0.36649499  0.32117934  0.76190476  0.53982522\n",
      "  0.12613522  0.          0.0740172   0.51388212  0.37777778  0.2629619   0.\n",
      "  0.          0.          0.          0.          0.          0.          0.\n",
      "  0.          0.          0.          1.          0.          0.          0.\n",
      "  0.          0.          0.          0.          0.          0.          0.\n",
      "  0.          0.          0.          0.          0.          0.          0.\n",
      "  0.          0.          0.          0.          0.          0.          0.\n",
      "  0.          0.          0.          0.          0.          0.          0.\n",
      "  0.          0.          0.          0.          0.          0.          0.\n",
      "  0.          1.          0.          0.          0.          0.          0.\n",
      "  0.          0.          0.          0.          0.          0.          0.\n",
      "  0.          0.          0.          1.          0.          0.          0.\n",
      "  0.          0.          0.          0.          0.          0.          0.\n",
      "  0.          0.          0.          0.          0.          1.          0.\n",
      "  0.          1.          0.          0.          0.          0.          0.\n",
      "  0.          0.          0.          0.          0.          0.          0.\n",
      "  0.          0.          0.          0.          0.          0.          0.\n",
      "  0.          0.          0.          0.          0.          0.          0.\n",
      "  0.          0.          0.          0.          0.          0.          0.\n",
      "  1.          0.          0.          0.          0.          0.          0.\n",
      "  0.          0.          0.          0.          0.          0.          0.\n",
      "  0.          0.          0.          0.          0.          0.          0.\n",
      "  0.          0.          0.          0.          0.          0.          0.\n",
      "  0.          0.          0.          0.          0.          0.          0.\n",
      "  0.          0.          0.          0.          1.          0.          0.\n",
      "  0.          0.          0.          0.          0.          0.          0.\n",
      "  0.          0.          0.          0.          0.          0.          0.\n",
      "  0.          0.          0.          0.          0.          0.          0.\n",
      "  0.          0.          0.          1.          0.          0.          0.\n",
      "  0.          0.          0.          0.          0.          0.          0.\n",
      "  0.          0.          0.          0.          0.          0.          0.\n",
      "  0.          0.          0.          0.          0.          0.          0.\n",
      "  0.          0.          0.          0.          1.          0.          0.\n",
      "  0.          1.          0.          0.          0.          0.          0.\n",
      "  0.        ]\n"
     ]
    }
   ],
   "source": [
    "data = data[:,-1,:]\n",
    "print (data.shape)\n",
    "print(data[0])"
   ]
  },
  {
   "cell_type": "code",
   "execution_count": null,
   "metadata": {
    "collapsed": false,
    "deletable": true,
    "editable": true
   },
   "outputs": [],
   "source": []
  },
  {
   "cell_type": "code",
   "execution_count": 16,
   "metadata": {
    "collapsed": false,
    "deletable": true,
    "editable": true
   },
   "outputs": [],
   "source": [
    "from keras.layers import Dense, Activation, Dropout\n",
    "from keras.models import Sequential\n",
    "import keras\n",
    "from keras.regularizers import l2\n",
    "\n",
    "model = Sequential()\n",
    "\n",
    "model.add(Dense(units=500, input_dim=data.shape[1], kernel_regularizer=l2(0.01)))\n",
    "model.add(Activation('relu'))\n",
    "model.add(Dense(units=2))\n",
    "model.add(Activation('softmax'))\n",
    "model.compile(loss=keras.losses.categorical_crossentropy,\n",
    "             optimizer=keras.optimizers.RMSprop(lr=0.001),\n",
    "             metrics=[keras.metrics.mae, keras.metrics.categorical_accuracy])\n"
   ]
  },
  {
   "cell_type": "code",
   "execution_count": 17,
   "metadata": {
    "collapsed": false,
    "deletable": true,
    "editable": true
   },
   "outputs": [
    {
     "name": "stdout",
     "output_type": "stream",
     "text": [
      "(49996, 2)\n"
     ]
    }
   ],
   "source": [
    "print(labels.shape)"
   ]
  },
  {
   "cell_type": "code",
   "execution_count": 18,
   "metadata": {
    "collapsed": false,
    "deletable": true,
    "editable": true
   },
   "outputs": [
    {
     "name": "stdout",
     "output_type": "stream",
     "text": [
      "(49996, 256)\n",
      "(11999, 2)\n",
      "(27997, 256)\n"
     ]
    }
   ],
   "source": [
    "val_split = int(len(data) * 0.8)\n",
    "train_split = int(val_split * 0.7)\n",
    "print(data.shape)\n",
    "x_train = data[:train_split,:]\n",
    "y_train = labels[:train_split,:]\n",
    "x_val = data[val_split:,:]\n",
    "y_val = labels[val_split:,:]\n",
    "x_test = data[train_split:val_split,:]\n",
    "y_test = labels[train_split:val_split,:]\n",
    "\n",
    "\n",
    "# separate into train and test\n",
    "#x_train = data[:30000,:]\n",
    "#y_train = labels[:30000,:]\n",
    "#x_test = data[30000:,]\n",
    "#y_test = labels[30000:,:]\n",
    "print(y_test.shape)\n",
    "print(x_train.shape)\n"
   ]
  },
  {
   "cell_type": "code",
   "execution_count": 19,
   "metadata": {
    "collapsed": false,
    "deletable": true,
    "editable": true
   },
   "outputs": [
    {
     "name": "stdout",
     "output_type": "stream",
     "text": [
      "Train on 27997 samples, validate on 10000 samples\n",
      "Epoch 1/50\n",
      "0s - loss: 0.9860 - mean_absolute_error: 0.4996 - categorical_accuracy: 0.5095 - val_loss: 0.6966 - val_mean_absolute_error: 0.4976 - val_categorical_accuracy: 0.5225\n",
      "Epoch 2/50\n",
      "0s - loss: 0.6941 - mean_absolute_error: 0.4992 - categorical_accuracy: 0.5172 - val_loss: 0.6937 - val_mean_absolute_error: 0.4989 - val_categorical_accuracy: 0.5225\n",
      "Epoch 3/50\n",
      "0s - loss: 0.6935 - mean_absolute_error: 0.4992 - categorical_accuracy: 0.5194 - val_loss: 0.6931 - val_mean_absolute_error: 0.4989 - val_categorical_accuracy: 0.5225\n",
      "Epoch 4/50\n",
      "0s - loss: 0.6933 - mean_absolute_error: 0.4991 - categorical_accuracy: 0.5194 - val_loss: 0.6931 - val_mean_absolute_error: 0.4995 - val_categorical_accuracy: 0.5225\n",
      "Epoch 5/50\n",
      "0s - loss: 0.6932 - mean_absolute_error: 0.4993 - categorical_accuracy: 0.5192 - val_loss: 0.6930 - val_mean_absolute_error: 0.4992 - val_categorical_accuracy: 0.5225\n",
      "Epoch 6/50\n",
      "0s - loss: 0.6932 - mean_absolute_error: 0.4991 - categorical_accuracy: 0.5194 - val_loss: 0.6930 - val_mean_absolute_error: 0.4992 - val_categorical_accuracy: 0.5225\n",
      "Epoch 7/50\n",
      "0s - loss: 0.6931 - mean_absolute_error: 0.4991 - categorical_accuracy: 0.5194 - val_loss: 0.6929 - val_mean_absolute_error: 0.4993 - val_categorical_accuracy: 0.5225\n",
      "Epoch 8/50\n",
      "0s - loss: 0.6930 - mean_absolute_error: 0.4991 - categorical_accuracy: 0.5194 - val_loss: 0.6929 - val_mean_absolute_error: 0.4988 - val_categorical_accuracy: 0.5225\n",
      "Epoch 9/50\n",
      "0s - loss: 0.6929 - mean_absolute_error: 0.4989 - categorical_accuracy: 0.5194 - val_loss: 0.6930 - val_mean_absolute_error: 0.4993 - val_categorical_accuracy: 0.5225\n",
      "Epoch 10/50\n",
      "0s - loss: 0.6929 - mean_absolute_error: 0.4990 - categorical_accuracy: 0.5194 - val_loss: 0.6931 - val_mean_absolute_error: 0.4990 - val_categorical_accuracy: 0.5225\n",
      "Epoch 11/50\n",
      "0s - loss: 0.6929 - mean_absolute_error: 0.4990 - categorical_accuracy: 0.5194 - val_loss: 0.6933 - val_mean_absolute_error: 0.4994 - val_categorical_accuracy: 0.5225\n",
      "Epoch 12/50\n",
      "0s - loss: 0.6929 - mean_absolute_error: 0.4989 - categorical_accuracy: 0.5202 - val_loss: 0.6932 - val_mean_absolute_error: 0.4992 - val_categorical_accuracy: 0.5225\n",
      "Epoch 13/50\n",
      "0s - loss: 0.6928 - mean_absolute_error: 0.4988 - categorical_accuracy: 0.5231 - val_loss: 0.6934 - val_mean_absolute_error: 0.4991 - val_categorical_accuracy: 0.5208\n",
      "Epoch 14/50\n",
      "0s - loss: 0.6928 - mean_absolute_error: 0.4987 - categorical_accuracy: 0.5227 - val_loss: 0.6935 - val_mean_absolute_error: 0.4987 - val_categorical_accuracy: 0.5224\n",
      "Epoch 15/50\n",
      "0s - loss: 0.6928 - mean_absolute_error: 0.4987 - categorical_accuracy: 0.5201 - val_loss: 0.6936 - val_mean_absolute_error: 0.4992 - val_categorical_accuracy: 0.5197\n",
      "Epoch 16/50\n",
      "0s - loss: 0.6927 - mean_absolute_error: 0.4986 - categorical_accuracy: 0.5215 - val_loss: 0.6937 - val_mean_absolute_error: 0.4994 - val_categorical_accuracy: 0.5136\n",
      "Epoch 17/50\n",
      "0s - loss: 0.6926 - mean_absolute_error: 0.4985 - categorical_accuracy: 0.5232 - val_loss: 0.6939 - val_mean_absolute_error: 0.4995 - val_categorical_accuracy: 0.5088\n",
      "Epoch 18/50\n",
      "0s - loss: 0.6927 - mean_absolute_error: 0.4985 - categorical_accuracy: 0.5240 - val_loss: 0.6938 - val_mean_absolute_error: 0.4989 - val_categorical_accuracy: 0.5216\n",
      "Epoch 19/50\n",
      "0s - loss: 0.6925 - mean_absolute_error: 0.4984 - categorical_accuracy: 0.5281 - val_loss: 0.6938 - val_mean_absolute_error: 0.4991 - val_categorical_accuracy: 0.5170\n",
      "Epoch 20/50\n",
      "0s - loss: 0.6925 - mean_absolute_error: 0.4983 - categorical_accuracy: 0.5280 - val_loss: 0.6941 - val_mean_absolute_error: 0.4994 - val_categorical_accuracy: 0.5101\n",
      "Epoch 21/50\n",
      "0s - loss: 0.6924 - mean_absolute_error: 0.4982 - categorical_accuracy: 0.5279 - val_loss: 0.6942 - val_mean_absolute_error: 0.4994 - val_categorical_accuracy: 0.5144\n",
      "Epoch 22/50\n",
      "0s - loss: 0.6924 - mean_absolute_error: 0.4981 - categorical_accuracy: 0.5258 - val_loss: 0.6947 - val_mean_absolute_error: 0.4999 - val_categorical_accuracy: 0.4953\n",
      "Epoch 23/50\n",
      "0s - loss: 0.6921 - mean_absolute_error: 0.4979 - categorical_accuracy: 0.5246 - val_loss: 0.6950 - val_mean_absolute_error: 0.5001 - val_categorical_accuracy: 0.4970\n",
      "Epoch 24/50\n",
      "0s - loss: 0.6923 - mean_absolute_error: 0.4981 - categorical_accuracy: 0.5263 - val_loss: 0.6945 - val_mean_absolute_error: 0.4988 - val_categorical_accuracy: 0.5170\n",
      "Epoch 25/50\n",
      "0s - loss: 0.6923 - mean_absolute_error: 0.4979 - categorical_accuracy: 0.5261 - val_loss: 0.6943 - val_mean_absolute_error: 0.4992 - val_categorical_accuracy: 0.5154\n",
      "Epoch 26/50\n",
      "0s - loss: 0.6922 - mean_absolute_error: 0.4979 - categorical_accuracy: 0.5280 - val_loss: 0.6946 - val_mean_absolute_error: 0.4994 - val_categorical_accuracy: 0.5058\n",
      "Epoch 27/50\n",
      "0s - loss: 0.6922 - mean_absolute_error: 0.4979 - categorical_accuracy: 0.5283 - val_loss: 0.6947 - val_mean_absolute_error: 0.4995 - val_categorical_accuracy: 0.5075\n",
      "Epoch 28/50\n",
      "0s - loss: 0.6922 - mean_absolute_error: 0.4978 - categorical_accuracy: 0.5295 - val_loss: 0.6949 - val_mean_absolute_error: 0.4998 - val_categorical_accuracy: 0.5003\n",
      "Epoch 29/50\n",
      "0s - loss: 0.6922 - mean_absolute_error: 0.4979 - categorical_accuracy: 0.5257 - val_loss: 0.6949 - val_mean_absolute_error: 0.4987 - val_categorical_accuracy: 0.5167\n",
      "Epoch 30/50\n",
      "0s - loss: 0.6922 - mean_absolute_error: 0.4977 - categorical_accuracy: 0.5282 - val_loss: 0.6949 - val_mean_absolute_error: 0.4996 - val_categorical_accuracy: 0.4991\n",
      "Epoch 31/50\n",
      "0s - loss: 0.6921 - mean_absolute_error: 0.4978 - categorical_accuracy: 0.5297 - val_loss: 0.6945 - val_mean_absolute_error: 0.4988 - val_categorical_accuracy: 0.5158\n",
      "Epoch 32/50\n",
      "0s - loss: 0.6922 - mean_absolute_error: 0.4977 - categorical_accuracy: 0.5282 - val_loss: 0.6947 - val_mean_absolute_error: 0.4990 - val_categorical_accuracy: 0.5142\n",
      "Epoch 33/50\n",
      "0s - loss: 0.6921 - mean_absolute_error: 0.4977 - categorical_accuracy: 0.5277 - val_loss: 0.6948 - val_mean_absolute_error: 0.4993 - val_categorical_accuracy: 0.5057\n",
      "Epoch 34/50\n",
      "0s - loss: 0.6921 - mean_absolute_error: 0.4977 - categorical_accuracy: 0.5275 - val_loss: 0.6949 - val_mean_absolute_error: 0.4993 - val_categorical_accuracy: 0.5092\n",
      "Epoch 35/50\n",
      "0s - loss: 0.6920 - mean_absolute_error: 0.4974 - categorical_accuracy: 0.5254 - val_loss: 0.6950 - val_mean_absolute_error: 0.4995 - val_categorical_accuracy: 0.5064\n",
      "Epoch 36/50\n",
      "0s - loss: 0.6922 - mean_absolute_error: 0.4977 - categorical_accuracy: 0.5278 - val_loss: 0.6951 - val_mean_absolute_error: 0.4993 - val_categorical_accuracy: 0.5081\n",
      "Epoch 37/50\n",
      "0s - loss: 0.6922 - mean_absolute_error: 0.4976 - categorical_accuracy: 0.5266 - val_loss: 0.6953 - val_mean_absolute_error: 0.4998 - val_categorical_accuracy: 0.4981\n",
      "Epoch 38/50\n",
      "0s - loss: 0.6922 - mean_absolute_error: 0.4976 - categorical_accuracy: 0.5248 - val_loss: 0.6952 - val_mean_absolute_error: 0.4997 - val_categorical_accuracy: 0.4999\n",
      "Epoch 39/50\n",
      "0s - loss: 0.6921 - mean_absolute_error: 0.4976 - categorical_accuracy: 0.5303 - val_loss: 0.6956 - val_mean_absolute_error: 0.4999 - val_categorical_accuracy: 0.4964\n",
      "Epoch 40/50\n",
      "0s - loss: 0.6921 - mean_absolute_error: 0.4974 - categorical_accuracy: 0.5309 - val_loss: 0.6955 - val_mean_absolute_error: 0.4998 - val_categorical_accuracy: 0.5007\n",
      "Epoch 41/50\n",
      "0s - loss: 0.6921 - mean_absolute_error: 0.4976 - categorical_accuracy: 0.5301 - val_loss: 0.6954 - val_mean_absolute_error: 0.4991 - val_categorical_accuracy: 0.5128\n",
      "Epoch 42/50\n",
      "0s - loss: 0.6919 - mean_absolute_error: 0.4973 - categorical_accuracy: 0.5280 - val_loss: 0.6952 - val_mean_absolute_error: 0.4997 - val_categorical_accuracy: 0.5009\n",
      "Epoch 43/50\n",
      "0s - loss: 0.6921 - mean_absolute_error: 0.4975 - categorical_accuracy: 0.5280 - val_loss: 0.6952 - val_mean_absolute_error: 0.4996 - val_categorical_accuracy: 0.5011\n",
      "Epoch 44/50\n",
      "0s - loss: 0.6919 - mean_absolute_error: 0.4974 - categorical_accuracy: 0.5283 - val_loss: 0.6954 - val_mean_absolute_error: 0.4990 - val_categorical_accuracy: 0.5116\n",
      "Epoch 45/50\n",
      "0s - loss: 0.6921 - mean_absolute_error: 0.4975 - categorical_accuracy: 0.5283 - val_loss: 0.6952 - val_mean_absolute_error: 0.4996 - val_categorical_accuracy: 0.5013\n",
      "Epoch 46/50\n",
      "0s - loss: 0.6921 - mean_absolute_error: 0.4975 - categorical_accuracy: 0.5297 - val_loss: 0.6954 - val_mean_absolute_error: 0.4992 - val_categorical_accuracy: 0.5097\n",
      "Epoch 47/50\n",
      "0s - loss: 0.6920 - mean_absolute_error: 0.4973 - categorical_accuracy: 0.5290 - val_loss: 0.6952 - val_mean_absolute_error: 0.4992 - val_categorical_accuracy: 0.5072\n",
      "Epoch 48/50\n",
      "0s - loss: 0.6920 - mean_absolute_error: 0.4974 - categorical_accuracy: 0.5309 - val_loss: 0.6958 - val_mean_absolute_error: 0.4987 - val_categorical_accuracy: 0.5116\n",
      "Epoch 49/50\n",
      "0s - loss: 0.6922 - mean_absolute_error: 0.4975 - categorical_accuracy: 0.5272 - val_loss: 0.6957 - val_mean_absolute_error: 0.4989 - val_categorical_accuracy: 0.5167\n",
      "Epoch 50/50\n",
      "0s - loss: 0.6920 - mean_absolute_error: 0.4974 - categorical_accuracy: 0.5306 - val_loss: 0.6958 - val_mean_absolute_error: 0.4990 - val_categorical_accuracy: 0.5105\n"
     ]
    }
   ],
   "source": [
    "model_checkpoint = keras.callbacks.ModelCheckpoint('/tmp/best_weights', monitor='val_categorical_accuracy', verbose=0, save_best_only=True, save_weights_only=False, mode='auto', period=1)\n",
    "history = model.fit(x_train, y_train, epochs=50, batch_size=100, validation_split=0.0, validation_data=(x_val, y_val), verbose=2,callbacks = [model_checkpoint])"
   ]
  },
  {
   "cell_type": "code",
   "execution_count": 20,
   "metadata": {
    "collapsed": true,
    "deletable": true,
    "editable": true
   },
   "outputs": [],
   "source": [
    "model.load_weights('/tmp/best_weights')"
   ]
  },
  {
   "cell_type": "code",
   "execution_count": 21,
   "metadata": {
    "collapsed": false,
    "deletable": true,
    "editable": true
   },
   "outputs": [
    {
     "name": "stdout",
     "output_type": "stream",
     "text": [
      "10944/11999 [==========================>...] - ETA: 0s\b\b\b\b\b\b\b\b\b\b\b\b\b\b\b\b\b\b\b\b\b\b\b\b\b\b\b\b\b\b\b\b\b\b\b\b\b\b\b\b\b\b\b\b\b\b\b\b\b\b\b\b\b\b\b\b\b\b\b\b\b\b\b\b\b\b\b\b\b\b\b\b\b\b\b\b\b\b\b\b\b\b\b\b\b\b\b\b\b\b\b\b\b\b\b\b\b\b\b\b\b\b\b\b\b\b\b\b\b\b\b\b\b\b\b\b\b\b\b\b\b\b\b\b\b\b\b\b\b\b\b\b\b\b\b\b\b\b\b\b\b\b\b\b\b\b\b\b\b\b\b\b\b\b\b\b\b\b\b\b\b\b\b\b\b\b\b\b\b\b\b\b\b\b\b\b\b\b\b\b\b\b\b\b\b\b\b\b\b\b\b\b\b\b\b\b\b\b\b\b\b\b\b\b\b\b\b\b\b\b\b\b\b\b\b\b\b\b\b\b\b\b\b\b\b\b\b\b\b\b\b\b\b\b\b\b\b\b\b\b\b\b\b\b\b\b\b\b\b\b\b\b\b\b\b\b\b\b\b\b\b\b\b\b\b\b\b\b\b\b\b\b\b\b\b\b\b\b\b\b\b\b\b\b\b\b\b\b\b\b\b\b\b\b\b\b\b\b\b\b\b\b\b\b\b\b\b\b\b\b\b\b\b\b\b\b\b\b\b\b\b\b\b\b[0.69346929947647795, 0.49965840607387285, 0.51462621882424986]\n"
     ]
    }
   ],
   "source": [
    "# Test loss and accuracy\n",
    "loss_and_metrics = model.evaluate(x_test, y_test)\n",
    "print(loss_and_metrics)"
   ]
  },
  {
   "cell_type": "code",
   "execution_count": 22,
   "metadata": {
    "collapsed": false,
    "deletable": true,
    "editable": true
   },
   "outputs": [
    {
     "name": "stdout",
     "output_type": "stream",
     "text": [
      "dict_keys(['val_categorical_accuracy', 'categorical_accuracy', 'loss', 'mean_absolute_error', 'val_loss', 'val_mean_absolute_error'])\n"
     ]
    },
    {
     "data": {
      "image/png": "[encoded data removed]",
      "text/plain": [
       "<matplotlib.figure.Figure at 0x7fc6d4d22240>"
      ]
     },
     "metadata": {},
     "output_type": "display_data"
    },
    {
     "data": {
      "image/png": "[encoded data removed]",
      "text/plain": [
       "<matplotlib.figure.Figure at 0x7fc760263748>"
      ]
     },
     "metadata": {},
     "output_type": "display_data"
    }
   ],
   "source": [
    "import matplotlib.pyplot as plt\n",
    "# list all data in history\n",
    "print(history.history.keys())\n",
    "# summarize history for accuracy\n",
    "plt.plot(history.history['categorical_accuracy'])\n",
    "plt.plot(history.history['val_categorical_accuracy'])\n",
    "plt.title('Model Accuracy')\n",
    "plt.ylabel('Accuracy')\n",
    "plt.xlabel('Epoch')\n",
    "plt.legend(['Train', 'Validation'], loc='upper left')\n",
    "#plt.savefig('acc_non-expert.pdf')\n",
    "plt.show()\n",
    "# summarize history for loss\n",
    "plt.plot(history.history['loss'][0:])\n",
    "plt.plot(history.history['val_loss'][0:])\n",
    "plt.title('Model Loss')\n",
    "plt.ylabel('Loss')\n",
    "plt.xlabel('Epoch')\n",
    "plt.legend(['Train', 'Validation'], loc='upper right')\n",
    "#plt.savefig('loss_non-expert.pdf')\n",
    "plt.show()"
   ]
  },
  {
   "cell_type": "code",
   "execution_count": 23,
   "metadata": {
    "collapsed": false,
    "deletable": true,
    "editable": true
   },
   "outputs": [
    {
     "name": "stdout",
     "output_type": "stream",
     "text": [
      "0.501278362326\n"
     ]
    }
   ],
   "source": [
    "from sklearn.metrics import roc_auc_score\n",
    "y_pred = model.predict_proba(x_test, verbose=0)\n",
    "score = roc_auc_score(y_test, y_pred)\n",
    "print(score)"
   ]
  },
  {
   "cell_type": "code",
   "execution_count": 24,
   "metadata": {
    "collapsed": false,
    "deletable": true,
    "editable": true
   },
   "outputs": [
    {
     "name": "stdout",
     "output_type": "stream",
     "text": [
      "[False False False ..., False False False]\n",
      "(0, 2)\n",
      "(11999, 2)\n"
     ]
    },
    {
     "ename": "ValueError",
     "evalue": "Found array with 0 sample(s) (shape=(0, 2)) while a minimum of 1 is required.",
     "output_type": "error",
     "traceback": [
      "\u001b[0;31m----------------------------------------------------------\u001b[0m",
      "\u001b[0;31mValueError\u001b[0m               Traceback (most recent call last)",
      "\u001b[0;32m<ipython-input-24-01ce26f18be4>\u001b[0m in \u001b[0;36m<module>\u001b[0;34m()\u001b[0m\n\u001b[1;32m      9\u001b[0m \u001b[0mprint\u001b[0m\u001b[0;34m(\u001b[0m\u001b[0my_pred2\u001b[0m\u001b[0;34m.\u001b[0m\u001b[0mshape\u001b[0m\u001b[0;34m)\u001b[0m\u001b[0;34m\u001b[0m\u001b[0m\n\u001b[1;32m     10\u001b[0m \u001b[0mprint\u001b[0m\u001b[0;34m(\u001b[0m\u001b[0my_pred\u001b[0m\u001b[0;34m.\u001b[0m\u001b[0mshape\u001b[0m\u001b[0;34m)\u001b[0m\u001b[0;34m\u001b[0m\u001b[0m\n\u001b[0;32m---> 11\u001b[0;31m \u001b[0mscore\u001b[0m \u001b[0;34m=\u001b[0m \u001b[0mroc_auc_score\u001b[0m\u001b[0;34m(\u001b[0m\u001b[0my_test2\u001b[0m\u001b[0;34m,\u001b[0m \u001b[0my_pred2\u001b[0m\u001b[0;34m)\u001b[0m\u001b[0;34m\u001b[0m\u001b[0m\n\u001b[0m\u001b[1;32m     12\u001b[0m \u001b[0mprint\u001b[0m\u001b[0;34m(\u001b[0m\u001b[0mscore\u001b[0m\u001b[0;34m)\u001b[0m\u001b[0;34m\u001b[0m\u001b[0m\n\u001b[1;32m     13\u001b[0m \u001b[0;34m\u001b[0m\u001b[0m\n",
      "\u001b[0;32m/home/oscar/tensorflow-gpu-p3/lib/python3.5/site-packages/sklearn/metrics/ranking.py\u001b[0m in \u001b[0;36mroc_auc_score\u001b[0;34m(y_true, y_score, average, sample_weight)\u001b[0m\n\u001b[1;32m    258\u001b[0m     return _average_binary_score(\n\u001b[1;32m    259\u001b[0m         \u001b[0m_binary_roc_auc_score\u001b[0m\u001b[0;34m,\u001b[0m \u001b[0my_true\u001b[0m\u001b[0;34m,\u001b[0m \u001b[0my_score\u001b[0m\u001b[0;34m,\u001b[0m \u001b[0maverage\u001b[0m\u001b[0;34m,\u001b[0m\u001b[0;34m\u001b[0m\u001b[0m\n\u001b[0;32m--> 260\u001b[0;31m         sample_weight=sample_weight)\n\u001b[0m\u001b[1;32m    261\u001b[0m \u001b[0;34m\u001b[0m\u001b[0m\n\u001b[1;32m    262\u001b[0m \u001b[0;34m\u001b[0m\u001b[0m\n",
      "\u001b[0;32m/home/oscar/tensorflow-gpu-p3/lib/python3.5/site-packages/sklearn/metrics/base.py\u001b[0m in \u001b[0;36m_average_binary_score\u001b[0;34m(binary_metric, y_true, y_score, average, sample_weight)\u001b[0m\n\u001b[1;32m     85\u001b[0m \u001b[0;34m\u001b[0m\u001b[0m\n\u001b[1;32m     86\u001b[0m     \u001b[0mcheck_consistent_length\u001b[0m\u001b[0;34m(\u001b[0m\u001b[0my_true\u001b[0m\u001b[0;34m,\u001b[0m \u001b[0my_score\u001b[0m\u001b[0;34m,\u001b[0m \u001b[0msample_weight\u001b[0m\u001b[0;34m)\u001b[0m\u001b[0;34m\u001b[0m\u001b[0m\n\u001b[0;32m---> 87\u001b[0;31m     \u001b[0my_true\u001b[0m \u001b[0;34m=\u001b[0m \u001b[0mcheck_array\u001b[0m\u001b[0;34m(\u001b[0m\u001b[0my_true\u001b[0m\u001b[0;34m)\u001b[0m\u001b[0;34m\u001b[0m\u001b[0m\n\u001b[0m\u001b[1;32m     88\u001b[0m     \u001b[0my_score\u001b[0m \u001b[0;34m=\u001b[0m \u001b[0mcheck_array\u001b[0m\u001b[0;34m(\u001b[0m\u001b[0my_score\u001b[0m\u001b[0;34m)\u001b[0m\u001b[0;34m\u001b[0m\u001b[0m\n\u001b[1;32m     89\u001b[0m \u001b[0;34m\u001b[0m\u001b[0m\n",
      "\u001b[0;32m/home/oscar/tensorflow-gpu-p3/lib/python3.5/site-packages/sklearn/utils/validation.py\u001b[0m in \u001b[0;36mcheck_array\u001b[0;34m(array, accept_sparse, dtype, order, copy, force_all_finite, ensure_2d, allow_nd, ensure_min_samples, ensure_min_features, warn_on_dtype, estimator)\u001b[0m\n\u001b[1;32m    414\u001b[0m                              \u001b[0;34m\" minimum of %d is required%s.\"\u001b[0m\u001b[0;34m\u001b[0m\u001b[0m\n\u001b[1;32m    415\u001b[0m                              % (n_samples, shape_repr, ensure_min_samples,\n\u001b[0;32m--> 416\u001b[0;31m                                 context))\n\u001b[0m\u001b[1;32m    417\u001b[0m \u001b[0;34m\u001b[0m\u001b[0m\n\u001b[1;32m    418\u001b[0m     \u001b[0;32mif\u001b[0m \u001b[0mensure_min_features\u001b[0m \u001b[0;34m>\u001b[0m \u001b[0;36m0\u001b[0m \u001b[0;32mand\u001b[0m \u001b[0marray\u001b[0m\u001b[0;34m.\u001b[0m\u001b[0mndim\u001b[0m \u001b[0;34m==\u001b[0m \u001b[0;36m2\u001b[0m\u001b[0;34m:\u001b[0m\u001b[0;34m\u001b[0m\u001b[0m\n",
      "\u001b[0;31mValueError\u001b[0m: Found array with 0 sample(s) (shape=(0, 2)) while a minimum of 1 is required."
     ]
    }
   ],
   "source": [
    "y_pred = model.predict_proba(x_test, verbose=0)\n",
    "ind1 = y_pred[:,0] > 0.6\n",
    "ind2 = y_pred[:,1] > 0.6\n",
    "ind = ind1 + ind2\n",
    "y_pred2 = y_pred[ind]\n",
    "y_test2 = y_test[ind]\n",
    "x_test2 = x_test[ind]\n",
    "print(ind)\n",
    "print(y_pred2.shape)\n",
    "print(y_pred.shape)\n",
    "score = roc_auc_score(y_test2, y_pred2)\n",
    "print(score)\n",
    "\n",
    "loss_and_metrics1 = model.evaluate(x_test, y_test, verbose=2)\n",
    "loss_and_metrics = model.evaluate(x_test2, y_test2, verbose=2)\n",
    "print(loss_and_metrics1)\n",
    "print(loss_and_metrics)"
   ]
  },
  {
   "cell_type": "code",
   "execution_count": null,
   "metadata": {
    "collapsed": true,
    "deletable": true,
    "editable": true
   },
   "outputs": [],
   "source": []
  },
  {
   "cell_type": "code",
   "execution_count": null,
   "metadata": {
    "collapsed": true,
    "deletable": true,
    "editable": true
   },
   "outputs": [],
   "source": []
  },
  {
   "cell_type": "code",
   "execution_count": null,
   "metadata": {
    "collapsed": false,
    "deletable": true,
    "editable": true
   },
   "outputs": [],
   "source": []
  },
  {
   "cell_type": "code",
   "execution_count": null,
   "metadata": {
    "collapsed": false,
    "deletable": true,
    "editable": true
   },
   "outputs": [],
   "source": []
  },
  {
   "cell_type": "code",
   "execution_count": null,
   "metadata": {
    "collapsed": false,
    "deletable": true,
    "editable": true
   },
   "outputs": [],
   "source": []
  },
  {
   "cell_type": "code",
   "execution_count": null,
   "metadata": {
    "collapsed": true,
    "deletable": true,
    "editable": true
   },
   "outputs": [],
   "source": []
  }
 ],
 "metadata": {
  "kernelspec": {
   "display_name": "Python 3",
   "language": "python",
   "name": "python3"
  },
  "language_info": {
   "codemirror_mode": {
    "name": "ipython",
    "version": 3
   },
   "file_extension": ".py",
   "mimetype": "text/x-python",
   "name": "python",
   "nbconvert_exporter": "python",
   "pygments_lexer": "ipython3",
   "version": "3.5.1+"
  }
 },
 "nbformat": 4,
 "nbformat_minor": 2
}
